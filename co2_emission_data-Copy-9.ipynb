{
 "cells": [
  {
   "cell_type": "code",
   "execution_count": 1,
   "id": "c60c0c6a",
   "metadata": {},
   "outputs": [],
   "source": [
    "import pandas as pd\n",
    "import seaborn as sns\n",
    "import os "
   ]
  },
  {
   "cell_type": "code",
   "execution_count": 2,
   "id": "2fb840f1",
   "metadata": {},
   "outputs": [],
   "source": [
    "os.chdir('/Users/venkat/Documents')"
   ]
  },
  {
   "cell_type": "code",
   "execution_count": 3,
   "id": "463895a4",
   "metadata": {},
   "outputs": [],
   "source": [
    "# Accessing the dataset that provides details about CO2 emissions\n",
    "co2_data = pd.read_csv('co2_emission.csv')"
   ]
  },
  {
   "cell_type": "code",
   "execution_count": 4,
   "id": "5b5ba296",
   "metadata": {},
   "outputs": [],
   "source": [
    "# Focusing on data in America specifically\n",
    "us_data = co2_data[co2_data['Code']=='USA']"
   ]
  },
  {
   "cell_type": "code",
   "execution_count": 120,
   "id": "073ddee1",
   "metadata": {},
   "outputs": [
    {
     "data": {
      "text/html": [
       "<div>\n",
       "<style scoped>\n",
       "    .dataframe tbody tr th:only-of-type {\n",
       "        vertical-align: middle;\n",
       "    }\n",
       "\n",
       "    .dataframe tbody tr th {\n",
       "        vertical-align: top;\n",
       "    }\n",
       "\n",
       "    .dataframe thead th {\n",
       "        text-align: right;\n",
       "    }\n",
       "</style>\n",
       "<table border=\"1\" class=\"dataframe\">\n",
       "  <thead>\n",
       "    <tr style=\"text-align: right;\">\n",
       "      <th></th>\n",
       "      <th>Entity</th>\n",
       "      <th>Code</th>\n",
       "      <th>Year</th>\n",
       "      <th>Annual CO₂ emissions (tonnes )</th>\n",
       "    </tr>\n",
       "  </thead>\n",
       "  <tbody>\n",
       "    <tr>\n",
       "      <th>19710</th>\n",
       "      <td>United States</td>\n",
       "      <td>USA</td>\n",
       "      <td>1800</td>\n",
       "      <td>2.528160e+05</td>\n",
       "    </tr>\n",
       "    <tr>\n",
       "      <th>19711</th>\n",
       "      <td>United States</td>\n",
       "      <td>USA</td>\n",
       "      <td>1801</td>\n",
       "      <td>2.674720e+05</td>\n",
       "    </tr>\n",
       "    <tr>\n",
       "      <th>19712</th>\n",
       "      <td>United States</td>\n",
       "      <td>USA</td>\n",
       "      <td>1802</td>\n",
       "      <td>2.894560e+05</td>\n",
       "    </tr>\n",
       "    <tr>\n",
       "      <th>19713</th>\n",
       "      <td>United States</td>\n",
       "      <td>USA</td>\n",
       "      <td>1803</td>\n",
       "      <td>2.967840e+05</td>\n",
       "    </tr>\n",
       "    <tr>\n",
       "      <th>19714</th>\n",
       "      <td>United States</td>\n",
       "      <td>USA</td>\n",
       "      <td>1804</td>\n",
       "      <td>3.334240e+05</td>\n",
       "    </tr>\n",
       "    <tr>\n",
       "      <th>...</th>\n",
       "      <td>...</td>\n",
       "      <td>...</td>\n",
       "      <td>...</td>\n",
       "      <td>...</td>\n",
       "    </tr>\n",
       "    <tr>\n",
       "      <th>19923</th>\n",
       "      <td>United States</td>\n",
       "      <td>USA</td>\n",
       "      <td>2013</td>\n",
       "      <td>5.519613e+09</td>\n",
       "    </tr>\n",
       "    <tr>\n",
       "      <th>19924</th>\n",
       "      <td>United States</td>\n",
       "      <td>USA</td>\n",
       "      <td>2014</td>\n",
       "      <td>5.568759e+09</td>\n",
       "    </tr>\n",
       "    <tr>\n",
       "      <th>19925</th>\n",
       "      <td>United States</td>\n",
       "      <td>USA</td>\n",
       "      <td>2015</td>\n",
       "      <td>5.420804e+09</td>\n",
       "    </tr>\n",
       "    <tr>\n",
       "      <th>19926</th>\n",
       "      <td>United States</td>\n",
       "      <td>USA</td>\n",
       "      <td>2016</td>\n",
       "      <td>5.310861e+09</td>\n",
       "    </tr>\n",
       "    <tr>\n",
       "      <th>19927</th>\n",
       "      <td>United States</td>\n",
       "      <td>USA</td>\n",
       "      <td>2017</td>\n",
       "      <td>5.269530e+09</td>\n",
       "    </tr>\n",
       "  </tbody>\n",
       "</table>\n",
       "<p>218 rows × 4 columns</p>\n",
       "</div>"
      ],
      "text/plain": [
       "              Entity Code  Year  Annual CO₂ emissions (tonnes )\n",
       "19710  United States  USA  1800                    2.528160e+05\n",
       "19711  United States  USA  1801                    2.674720e+05\n",
       "19712  United States  USA  1802                    2.894560e+05\n",
       "19713  United States  USA  1803                    2.967840e+05\n",
       "19714  United States  USA  1804                    3.334240e+05\n",
       "...              ...  ...   ...                             ...\n",
       "19923  United States  USA  2013                    5.519613e+09\n",
       "19924  United States  USA  2014                    5.568759e+09\n",
       "19925  United States  USA  2015                    5.420804e+09\n",
       "19926  United States  USA  2016                    5.310861e+09\n",
       "19927  United States  USA  2017                    5.269530e+09\n",
       "\n",
       "[218 rows x 4 columns]"
      ]
     },
     "execution_count": 120,
     "metadata": {},
     "output_type": "execute_result"
    }
   ],
   "source": [
    "us_data.iloc[49:]"
   ]
  },
  {
   "cell_type": "code",
   "execution_count": 121,
   "id": "a37cf89f",
   "metadata": {},
   "outputs": [],
   "source": [
    "small_us = us_data.iloc[49:]"
   ]
  },
  {
   "cell_type": "code",
   "execution_count": 128,
   "id": "06f1c960",
   "metadata": {},
   "outputs": [],
   "source": [
    "X = us_data['Year']\n",
    "y = us_data['Annual CO₂ emissions (tonnes )']"
   ]
  },
  {
   "cell_type": "code",
   "execution_count": 129,
   "id": "f480c9b3",
   "metadata": {},
   "outputs": [],
   "source": [
    "# splitting the data so 75% is used to train the model and the rest is used to test it\n",
    "from sklearn.model_selection import train_test_split\n",
    "X_train, X_test, y_train, y_test = train_test_split(X, y, train_size = 0.75, random_state = 41)"
   ]
  },
  {
   "cell_type": "code",
   "execution_count": null,
   "id": "df2fd3cb",
   "metadata": {},
   "outputs": [],
   "source": []
  },
  {
   "cell_type": "code",
   "execution_count": 130,
   "id": "a087a072",
   "metadata": {},
   "outputs": [
    {
     "data": {
      "text/plain": [
       "RandomForestRegressor(random_state=0)"
      ]
     },
     "execution_count": 130,
     "metadata": {},
     "output_type": "execute_result"
    }
   ],
   "source": [
    "# Although the model is much better, it does not seem to be the best one\n",
    "# Let's try the Random Forest Regressor\n",
    "from sklearn.ensemble import RandomForestRegressor\n",
    "rg = RandomForestRegressor(max_depth=None, random_state=0)\n",
    "# Changing the series value to a DataFrame for model fitting to work\n",
    "X_train = pd.DataFrame(X_train)\n",
    "X_test = pd.DataFrame(X_test)\n",
    "rg.fit(X_train, y_train)\n"
   ]
  },
  {
   "cell_type": "code",
   "execution_count": 131,
   "id": "79824c10",
   "metadata": {},
   "outputs": [],
   "source": [
    "pred3 = rg.predict(X_test)"
   ]
  },
  {
   "cell_type": "code",
   "execution_count": 132,
   "id": "451199ba",
   "metadata": {},
   "outputs": [
    {
     "name": "stderr",
     "output_type": "stream",
     "text": [
      "/Applications/anaconda/anaconda3/lib/python3.9/site-packages/seaborn/_decorators.py:36: FutureWarning: Pass the following variables as keyword args: x, y. From version 0.12, the only valid positional argument will be `data`, and passing other arguments without an explicit keyword will result in an error or misinterpretation.\n",
      "  warnings.warn(\n"
     ]
    },
    {
     "data": {
      "text/plain": [
       "<AxesSubplot:ylabel='Annual CO₂ emissions (tonnes )'>"
      ]
     },
     "execution_count": 132,
     "metadata": {},
     "output_type": "execute_result"
    },
    {
     "data": {
      "image/png": "[encoded data removed]",
      "text/plain": [
       "<Figure size 432x288 with 1 Axes>"
      ]
     },
     "metadata": {
      "needs_background": "light"
     },
     "output_type": "display_data"
    }
   ],
   "source": [
    "sns.regplot(pred3, y_test) \n"
   ]
  },
  {
   "cell_type": "code",
   "execution_count": 133,
   "id": "3845521f",
   "metadata": {},
   "outputs": [
    {
     "data": {
      "text/plain": [
       "56393268.0255224"
      ]
     },
     "execution_count": 133,
     "metadata": {},
     "output_type": "execute_result"
    }
   ],
   "source": [
    "from sklearn.metrics import mean_absolute_error\n",
    "mean_absolute_error(pred3, y_test)"
   ]
  },
  {
   "cell_type": "code",
   "execution_count": 73,
   "id": "cbfb71b2",
   "metadata": {},
   "outputs": [],
   "source": []
  },
  {
   "cell_type": "code",
   "execution_count": 74,
   "id": "05341beb",
   "metadata": {},
   "outputs": [],
   "source": [
    "from sklearn.model_selection import GridSearchCV\n",
    "from sklearn.svm import SVR"
   ]
  },
  {
   "cell_type": "code",
   "execution_count": 75,
   "id": "365d4b8c",
   "metadata": {},
   "outputs": [],
   "source": [
    "#Tests different parameters to see which makes the most accurate predictions\n",
    "param_grid = {\n",
    "    \"C\": [7000, 10000, 100000],\n",
    "    \"epsilon\": [0.0001, 0.01],\n",
    "    \"kernel\" : ['linear', 'rbf', 'sigmoid'],\n",
    "    \"gamma\" : [\"scale\", \"auto\"]\n",
    "    \n",
    "}"
   ]
  },
  {
   "cell_type": "code",
   "execution_count": 76,
   "id": "2e189615",
   "metadata": {},
   "outputs": [],
   "source": []
  },
  {
   "cell_type": "code",
   "execution_count": 77,
   "id": "1fd62bf6",
   "metadata": {},
   "outputs": [],
   "source": [
    "# Split the data into 5 parts\n",
    "grid_search = GridSearchCV(SVR(), param_grid, cv=5)"
   ]
  },
  {
   "cell_type": "code",
   "execution_count": 78,
   "id": "417915f1",
   "metadata": {},
   "outputs": [
    {
     "data": {
      "text/plain": [
       "GridSearchCV(cv=5, estimator=SVR(),\n",
       "             param_grid={'C': [7000, 10000, 100000], 'epsilon': [0.0001, 0.01],\n",
       "                         'gamma': ['scale', 'auto'],\n",
       "                         'kernel': ['linear', 'rbf', 'sigmoid']})"
      ]
     },
     "execution_count": 78,
     "metadata": {},
     "output_type": "execute_result"
    }
   ],
   "source": [
    "grid_search.fit(X_train, y_train)"
   ]
  },
  {
   "cell_type": "code",
   "execution_count": 79,
   "id": "2ecf3f0f",
   "metadata": {},
   "outputs": [
    {
     "data": {
      "text/plain": [
       "{'C': 100000, 'epsilon': 0.01, 'gamma': 'scale', 'kernel': 'linear'}"
      ]
     },
     "execution_count": 79,
     "metadata": {},
     "output_type": "execute_result"
    }
   ],
   "source": [
    "grid_search.best_params_"
   ]
  },
  {
   "cell_type": "code",
   "execution_count": 80,
   "id": "ef8373f1",
   "metadata": {},
   "outputs": [],
   "source": [
    "gr_p = grid_search.predict(X_test)"
   ]
  },
  {
   "cell_type": "code",
   "execution_count": 81,
   "id": "9fe6dd61",
   "metadata": {},
   "outputs": [
    {
     "name": "stderr",
     "output_type": "stream",
     "text": [
      "/Applications/anaconda/anaconda3/lib/python3.9/site-packages/seaborn/_decorators.py:36: FutureWarning: Pass the following variables as keyword args: x, y. From version 0.12, the only valid positional argument will be `data`, and passing other arguments without an explicit keyword will result in an error or misinterpretation.\n",
      "  warnings.warn(\n"
     ]
    },
    {
     "data": {
      "text/plain": [
       "<AxesSubplot:ylabel='Annual CO₂ emissions (tonnes )'>"
      ]
     },
     "execution_count": 81,
     "metadata": {},
     "output_type": "execute_result"
    },
    {
     "data": {
      "image/png": "[encoded data removed]",
      "text/plain": [
       "<Figure size 432x288 with 1 Axes>"
      ]
     },
     "metadata": {
      "needs_background": "light"
     },
     "output_type": "display_data"
    }
   ],
   "source": [
    "sns.regplot(gr_p, y_test)"
   ]
  },
  {
   "cell_type": "code",
   "execution_count": 134,
   "id": "43148259",
   "metadata": {},
   "outputs": [
    {
     "data": {
      "text/plain": [
       "2058063036.3199043"
      ]
     },
     "execution_count": 134,
     "metadata": {},
     "output_type": "execute_result"
    }
   ],
   "source": [
    "mean_absolute_error(gr_p, y_test)"
   ]
  },
  {
   "cell_type": "code",
   "execution_count": 135,
   "id": "891925b6",
   "metadata": {},
   "outputs": [],
   "source": [
    "# The best model is STILL the random forest regressor\n",
    "# About 56,393,268 tons off from the actual values when using 75% data to train"
   ]
  },
  {
   "cell_type": "code",
   "execution_count": null,
   "id": "4e8562c6",
   "metadata": {},
   "outputs": [],
   "source": []
  }
 ],
 "metadata": {
  "kernelspec": {
   "display_name": "Python 3 (ipykernel)",
   "language": "python",
   "name": "python3"
  },
  "language_info": {
   "codemirror_mode": {
    "name": "ipython",
    "version": 3
   },
   "file_extension": ".py",
   "mimetype": "text/x-python",
   "name": "python",
   "nbconvert_exporter": "python",
   "pygments_lexer": "ipython3",
   "version": "3.9.7"
  }
 },
 "nbformat": 4,
 "nbformat_minor": 5
}
