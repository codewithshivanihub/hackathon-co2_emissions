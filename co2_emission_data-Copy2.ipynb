{
 "cells": [
  {
   "cell_type": "code",
   "execution_count": 2,
   "id": "68afc9a8",
   "metadata": {},
   "outputs": [],
   "source": [
    "import pandas as pd\n",
    "import seaborn as sns\n",
    "import os "
   ]
  },
  {
   "cell_type": "code",
   "execution_count": 3,
   "id": "f0982a10",
   "metadata": {},
   "outputs": [
    {
     "data": {
      "text/plain": [
       "'/Users/venkat'"
      ]
     },
     "execution_count": 3,
     "metadata": {},
     "output_type": "execute_result"
    }
   ],
   "source": [
    "os.getcwd()"
   ]
  },
  {
   "cell_type": "code",
   "execution_count": 4,
   "id": "ed713069",
   "metadata": {},
   "outputs": [],
   "source": [
    "os.chdir('/Users/venkat/Documents')"
   ]
  },
  {
   "cell_type": "code",
   "execution_count": 5,
   "id": "5f9966ef",
   "metadata": {},
   "outputs": [],
   "source": [
    "# Accessing the dataset that provides details about CO2 emissions\n",
    "co2_data = pd.read_csv('co2_emission.csv')"
   ]
  },
  {
   "cell_type": "code",
   "execution_count": 6,
   "id": "866baf0e",
   "metadata": {},
   "outputs": [
    {
     "data": {
      "text/html": [
       "<div>\n",
       "<style scoped>\n",
       "    .dataframe tbody tr th:only-of-type {\n",
       "        vertical-align: middle;\n",
       "    }\n",
       "\n",
       "    .dataframe tbody tr th {\n",
       "        vertical-align: top;\n",
       "    }\n",
       "\n",
       "    .dataframe thead th {\n",
       "        text-align: right;\n",
       "    }\n",
       "</style>\n",
       "<table border=\"1\" class=\"dataframe\">\n",
       "  <thead>\n",
       "    <tr style=\"text-align: right;\">\n",
       "      <th></th>\n",
       "      <th>Entity</th>\n",
       "      <th>Code</th>\n",
       "      <th>Year</th>\n",
       "      <th>Annual CO₂ emissions (tonnes )</th>\n",
       "    </tr>\n",
       "  </thead>\n",
       "  <tbody>\n",
       "    <tr>\n",
       "      <th>0</th>\n",
       "      <td>Afghanistan</td>\n",
       "      <td>AFG</td>\n",
       "      <td>1949</td>\n",
       "      <td>14656.0</td>\n",
       "    </tr>\n",
       "    <tr>\n",
       "      <th>1</th>\n",
       "      <td>Afghanistan</td>\n",
       "      <td>AFG</td>\n",
       "      <td>1950</td>\n",
       "      <td>84272.0</td>\n",
       "    </tr>\n",
       "    <tr>\n",
       "      <th>2</th>\n",
       "      <td>Afghanistan</td>\n",
       "      <td>AFG</td>\n",
       "      <td>1951</td>\n",
       "      <td>91600.0</td>\n",
       "    </tr>\n",
       "    <tr>\n",
       "      <th>3</th>\n",
       "      <td>Afghanistan</td>\n",
       "      <td>AFG</td>\n",
       "      <td>1952</td>\n",
       "      <td>91600.0</td>\n",
       "    </tr>\n",
       "    <tr>\n",
       "      <th>4</th>\n",
       "      <td>Afghanistan</td>\n",
       "      <td>AFG</td>\n",
       "      <td>1953</td>\n",
       "      <td>106256.0</td>\n",
       "    </tr>\n",
       "  </tbody>\n",
       "</table>\n",
       "</div>"
      ],
      "text/plain": [
       "        Entity Code  Year  Annual CO₂ emissions (tonnes )\n",
       "0  Afghanistan  AFG  1949                         14656.0\n",
       "1  Afghanistan  AFG  1950                         84272.0\n",
       "2  Afghanistan  AFG  1951                         91600.0\n",
       "3  Afghanistan  AFG  1952                         91600.0\n",
       "4  Afghanistan  AFG  1953                        106256.0"
      ]
     },
     "execution_count": 6,
     "metadata": {},
     "output_type": "execute_result"
    }
   ],
   "source": [
    "# Investigating the data\n",
    "co2_data.head()"
   ]
  },
  {
   "cell_type": "code",
   "execution_count": 7,
   "id": "2158c551",
   "metadata": {},
   "outputs": [
    {
     "data": {
      "text/plain": [
       "Statistical differences      267\n",
       "Asia and Pacific (other)     267\n",
       "EU-28                        267\n",
       "Europe (other)               267\n",
       "Americas (other)             267\n",
       "                            ... \n",
       "Antarctic Fisheries           21\n",
       "Wallis and Futuna Islands     17\n",
       "Timor                         16\n",
       "Christmas Island              14\n",
       "Liechtenstein                 11\n",
       "Name: Entity, Length: 233, dtype: int64"
      ]
     },
     "execution_count": 7,
     "metadata": {},
     "output_type": "execute_result"
    }
   ],
   "source": [
    "co2_data['Entity'].value_counts()"
   ]
  },
  {
   "cell_type": "code",
   "execution_count": 8,
   "id": "e3677cda",
   "metadata": {},
   "outputs": [
    {
     "data": {
      "text/plain": [
       "OWID_WRL    267\n",
       "USA         267\n",
       "GBR         267\n",
       "IND         256\n",
       "CHN         254\n",
       "           ... \n",
       "MHL          26\n",
       "KGZ          26\n",
       "TLS          16\n",
       "CXR          14\n",
       "LIE          11\n",
       "Name: Code, Length: 222, dtype: int64"
      ]
     },
     "execution_count": 8,
     "metadata": {},
     "output_type": "execute_result"
    }
   ],
   "source": [
    "co2_data['Code'].value_counts()"
   ]
  },
  {
   "cell_type": "code",
   "execution_count": 9,
   "id": "ed62031a",
   "metadata": {},
   "outputs": [
    {
     "data": {
      "text/plain": [
       "19394    1751\n",
       "20353    1751\n",
       "19661    1751\n",
       "1251     1751\n",
       "9204     1751\n",
       "         ... \n",
       "15193    2017\n",
       "3498     2017\n",
       "15341    2017\n",
       "14436    2017\n",
       "20852    2017\n",
       "Name: Year, Length: 20853, dtype: int64"
      ]
     },
     "execution_count": 9,
     "metadata": {},
     "output_type": "execute_result"
    }
   ],
   "source": [
    "# The years range from 1751 to 2017\n",
    "co2_data['Year'].sort_values()"
   ]
  },
  {
   "cell_type": "code",
   "execution_count": 10,
   "id": "4692605c",
   "metadata": {},
   "outputs": [
    {
     "data": {
      "text/plain": [
       "count    2.085300e+04\n",
       "mean     1.930517e+08\n",
       "std      1.345143e+09\n",
       "min     -6.255223e+08\n",
       "25%      3.187680e+05\n",
       "50%      3.828880e+06\n",
       "75%      3.706898e+07\n",
       "max      3.615326e+10\n",
       "Name: Annual CO₂ emissions (tonnes ), dtype: float64"
      ]
     },
     "execution_count": 10,
     "metadata": {},
     "output_type": "execute_result"
    }
   ],
   "source": [
    "co2_data['Annual CO₂ emissions (tonnes )'].describe()"
   ]
  },
  {
   "cell_type": "code",
   "execution_count": 11,
   "id": "9d3eb245",
   "metadata": {},
   "outputs": [
    {
     "data": {
      "text/plain": [
       "(20853, 4)"
      ]
     },
     "execution_count": 11,
     "metadata": {},
     "output_type": "execute_result"
    }
   ],
   "source": [
    "co2_data.shape"
   ]
  },
  {
   "cell_type": "code",
   "execution_count": 12,
   "id": "66e9c5ff",
   "metadata": {},
   "outputs": [
    {
     "data": {
      "text/html": [
       "<div>\n",
       "<style scoped>\n",
       "    .dataframe tbody tr th:only-of-type {\n",
       "        vertical-align: middle;\n",
       "    }\n",
       "\n",
       "    .dataframe tbody tr th {\n",
       "        vertical-align: top;\n",
       "    }\n",
       "\n",
       "    .dataframe thead th {\n",
       "        text-align: right;\n",
       "    }\n",
       "</style>\n",
       "<table border=\"1\" class=\"dataframe\">\n",
       "  <thead>\n",
       "    <tr style=\"text-align: right;\">\n",
       "      <th></th>\n",
       "      <th>Entity</th>\n",
       "      <th>Code</th>\n",
       "      <th>Year</th>\n",
       "      <th>Annual CO₂ emissions (tonnes )</th>\n",
       "    </tr>\n",
       "  </thead>\n",
       "  <tbody>\n",
       "    <tr>\n",
       "      <th>17598</th>\n",
       "      <td>Statistical differences</td>\n",
       "      <td>NaN</td>\n",
       "      <td>1971</td>\n",
       "      <td>-2.937795e+07</td>\n",
       "    </tr>\n",
       "    <tr>\n",
       "      <th>17599</th>\n",
       "      <td>Statistical differences</td>\n",
       "      <td>NaN</td>\n",
       "      <td>1972</td>\n",
       "      <td>-1.327650e+08</td>\n",
       "    </tr>\n",
       "    <tr>\n",
       "      <th>17600</th>\n",
       "      <td>Statistical differences</td>\n",
       "      <td>NaN</td>\n",
       "      <td>1973</td>\n",
       "      <td>-1.219746e+08</td>\n",
       "    </tr>\n",
       "    <tr>\n",
       "      <th>17601</th>\n",
       "      <td>Statistical differences</td>\n",
       "      <td>NaN</td>\n",
       "      <td>1974</td>\n",
       "      <td>-1.784734e+07</td>\n",
       "    </tr>\n",
       "    <tr>\n",
       "      <th>17602</th>\n",
       "      <td>Statistical differences</td>\n",
       "      <td>NaN</td>\n",
       "      <td>1975</td>\n",
       "      <td>-9.373611e+07</td>\n",
       "    </tr>\n",
       "    <tr>\n",
       "      <th>17603</th>\n",
       "      <td>Statistical differences</td>\n",
       "      <td>NaN</td>\n",
       "      <td>1976</td>\n",
       "      <td>-1.300720e+07</td>\n",
       "    </tr>\n",
       "    <tr>\n",
       "      <th>17605</th>\n",
       "      <td>Statistical differences</td>\n",
       "      <td>NaN</td>\n",
       "      <td>1978</td>\n",
       "      <td>-4.183775e+08</td>\n",
       "    </tr>\n",
       "    <tr>\n",
       "      <th>17607</th>\n",
       "      <td>Statistical differences</td>\n",
       "      <td>NaN</td>\n",
       "      <td>1980</td>\n",
       "      <td>-9.108704e+06</td>\n",
       "    </tr>\n",
       "    <tr>\n",
       "      <th>17608</th>\n",
       "      <td>Statistical differences</td>\n",
       "      <td>NaN</td>\n",
       "      <td>1981</td>\n",
       "      <td>-8.579989e+07</td>\n",
       "    </tr>\n",
       "    <tr>\n",
       "      <th>17609</th>\n",
       "      <td>Statistical differences</td>\n",
       "      <td>NaN</td>\n",
       "      <td>1982</td>\n",
       "      <td>-1.104366e+08</td>\n",
       "    </tr>\n",
       "    <tr>\n",
       "      <th>17610</th>\n",
       "      <td>Statistical differences</td>\n",
       "      <td>NaN</td>\n",
       "      <td>1983</td>\n",
       "      <td>-3.578849e+08</td>\n",
       "    </tr>\n",
       "    <tr>\n",
       "      <th>17611</th>\n",
       "      <td>Statistical differences</td>\n",
       "      <td>NaN</td>\n",
       "      <td>1984</td>\n",
       "      <td>-2.415858e+08</td>\n",
       "    </tr>\n",
       "    <tr>\n",
       "      <th>17612</th>\n",
       "      <td>Statistical differences</td>\n",
       "      <td>NaN</td>\n",
       "      <td>1985</td>\n",
       "      <td>-3.607281e+08</td>\n",
       "    </tr>\n",
       "    <tr>\n",
       "      <th>17613</th>\n",
       "      <td>Statistical differences</td>\n",
       "      <td>NaN</td>\n",
       "      <td>1986</td>\n",
       "      <td>-4.802771e+07</td>\n",
       "    </tr>\n",
       "    <tr>\n",
       "      <th>17614</th>\n",
       "      <td>Statistical differences</td>\n",
       "      <td>NaN</td>\n",
       "      <td>1987</td>\n",
       "      <td>-2.723048e+08</td>\n",
       "    </tr>\n",
       "    <tr>\n",
       "      <th>17615</th>\n",
       "      <td>Statistical differences</td>\n",
       "      <td>NaN</td>\n",
       "      <td>1988</td>\n",
       "      <td>-3.152396e+08</td>\n",
       "    </tr>\n",
       "    <tr>\n",
       "      <th>17616</th>\n",
       "      <td>Statistical differences</td>\n",
       "      <td>NaN</td>\n",
       "      <td>1989</td>\n",
       "      <td>-1.878203e+08</td>\n",
       "    </tr>\n",
       "    <tr>\n",
       "      <th>17617</th>\n",
       "      <td>Statistical differences</td>\n",
       "      <td>NaN</td>\n",
       "      <td>1990</td>\n",
       "      <td>-5.814990e+08</td>\n",
       "    </tr>\n",
       "    <tr>\n",
       "      <th>17618</th>\n",
       "      <td>Statistical differences</td>\n",
       "      <td>NaN</td>\n",
       "      <td>1991</td>\n",
       "      <td>-3.117070e+08</td>\n",
       "    </tr>\n",
       "    <tr>\n",
       "      <th>17619</th>\n",
       "      <td>Statistical differences</td>\n",
       "      <td>NaN</td>\n",
       "      <td>1992</td>\n",
       "      <td>-3.206405e+08</td>\n",
       "    </tr>\n",
       "    <tr>\n",
       "      <th>17620</th>\n",
       "      <td>Statistical differences</td>\n",
       "      <td>NaN</td>\n",
       "      <td>1993</td>\n",
       "      <td>-6.039042e+08</td>\n",
       "    </tr>\n",
       "    <tr>\n",
       "      <th>17621</th>\n",
       "      <td>Statistical differences</td>\n",
       "      <td>NaN</td>\n",
       "      <td>1994</td>\n",
       "      <td>-3.829234e+08</td>\n",
       "    </tr>\n",
       "    <tr>\n",
       "      <th>17622</th>\n",
       "      <td>Statistical differences</td>\n",
       "      <td>NaN</td>\n",
       "      <td>1995</td>\n",
       "      <td>-4.152905e+08</td>\n",
       "    </tr>\n",
       "    <tr>\n",
       "      <th>17623</th>\n",
       "      <td>Statistical differences</td>\n",
       "      <td>NaN</td>\n",
       "      <td>1996</td>\n",
       "      <td>-6.014068e+08</td>\n",
       "    </tr>\n",
       "    <tr>\n",
       "      <th>17624</th>\n",
       "      <td>Statistical differences</td>\n",
       "      <td>NaN</td>\n",
       "      <td>1997</td>\n",
       "      <td>-3.352780e+08</td>\n",
       "    </tr>\n",
       "    <tr>\n",
       "      <th>17625</th>\n",
       "      <td>Statistical differences</td>\n",
       "      <td>NaN</td>\n",
       "      <td>1998</td>\n",
       "      <td>-1.976861e+08</td>\n",
       "    </tr>\n",
       "    <tr>\n",
       "      <th>17626</th>\n",
       "      <td>Statistical differences</td>\n",
       "      <td>NaN</td>\n",
       "      <td>1999</td>\n",
       "      <td>-5.657580e+08</td>\n",
       "    </tr>\n",
       "    <tr>\n",
       "      <th>17627</th>\n",
       "      <td>Statistical differences</td>\n",
       "      <td>NaN</td>\n",
       "      <td>2000</td>\n",
       "      <td>-6.255223e+08</td>\n",
       "    </tr>\n",
       "    <tr>\n",
       "      <th>17628</th>\n",
       "      <td>Statistical differences</td>\n",
       "      <td>NaN</td>\n",
       "      <td>2001</td>\n",
       "      <td>-2.711537e+08</td>\n",
       "    </tr>\n",
       "    <tr>\n",
       "      <th>17629</th>\n",
       "      <td>Statistical differences</td>\n",
       "      <td>NaN</td>\n",
       "      <td>2002</td>\n",
       "      <td>-4.706956e+08</td>\n",
       "    </tr>\n",
       "    <tr>\n",
       "      <th>17630</th>\n",
       "      <td>Statistical differences</td>\n",
       "      <td>NaN</td>\n",
       "      <td>2003</td>\n",
       "      <td>-3.640166e+08</td>\n",
       "    </tr>\n",
       "    <tr>\n",
       "      <th>17631</th>\n",
       "      <td>Statistical differences</td>\n",
       "      <td>NaN</td>\n",
       "      <td>2004</td>\n",
       "      <td>-3.255337e+08</td>\n",
       "    </tr>\n",
       "    <tr>\n",
       "      <th>17632</th>\n",
       "      <td>Statistical differences</td>\n",
       "      <td>NaN</td>\n",
       "      <td>2005</td>\n",
       "      <td>-2.123722e+08</td>\n",
       "    </tr>\n",
       "    <tr>\n",
       "      <th>17633</th>\n",
       "      <td>Statistical differences</td>\n",
       "      <td>NaN</td>\n",
       "      <td>2006</td>\n",
       "      <td>-1.652091e+08</td>\n",
       "    </tr>\n",
       "    <tr>\n",
       "      <th>17634</th>\n",
       "      <td>Statistical differences</td>\n",
       "      <td>NaN</td>\n",
       "      <td>2007</td>\n",
       "      <td>-4.886405e+08</td>\n",
       "    </tr>\n",
       "    <tr>\n",
       "      <th>17635</th>\n",
       "      <td>Statistical differences</td>\n",
       "      <td>NaN</td>\n",
       "      <td>2008</td>\n",
       "      <td>-2.048367e+08</td>\n",
       "    </tr>\n",
       "    <tr>\n",
       "      <th>17636</th>\n",
       "      <td>Statistical differences</td>\n",
       "      <td>NaN</td>\n",
       "      <td>2009</td>\n",
       "      <td>-1.036986e+08</td>\n",
       "    </tr>\n",
       "    <tr>\n",
       "      <th>17637</th>\n",
       "      <td>Statistical differences</td>\n",
       "      <td>NaN</td>\n",
       "      <td>2010</td>\n",
       "      <td>-1.720100e+08</td>\n",
       "    </tr>\n",
       "    <tr>\n",
       "      <th>17638</th>\n",
       "      <td>Statistical differences</td>\n",
       "      <td>NaN</td>\n",
       "      <td>2011</td>\n",
       "      <td>-6.031251e+07</td>\n",
       "    </tr>\n",
       "    <tr>\n",
       "      <th>17639</th>\n",
       "      <td>Statistical differences</td>\n",
       "      <td>NaN</td>\n",
       "      <td>2012</td>\n",
       "      <td>-1.774597e+06</td>\n",
       "    </tr>\n",
       "  </tbody>\n",
       "</table>\n",
       "</div>"
      ],
      "text/plain": [
       "                        Entity Code  Year  Annual CO₂ emissions (tonnes )\n",
       "17598  Statistical differences  NaN  1971                   -2.937795e+07\n",
       "17599  Statistical differences  NaN  1972                   -1.327650e+08\n",
       "17600  Statistical differences  NaN  1973                   -1.219746e+08\n",
       "17601  Statistical differences  NaN  1974                   -1.784734e+07\n",
       "17602  Statistical differences  NaN  1975                   -9.373611e+07\n",
       "17603  Statistical differences  NaN  1976                   -1.300720e+07\n",
       "17605  Statistical differences  NaN  1978                   -4.183775e+08\n",
       "17607  Statistical differences  NaN  1980                   -9.108704e+06\n",
       "17608  Statistical differences  NaN  1981                   -8.579989e+07\n",
       "17609  Statistical differences  NaN  1982                   -1.104366e+08\n",
       "17610  Statistical differences  NaN  1983                   -3.578849e+08\n",
       "17611  Statistical differences  NaN  1984                   -2.415858e+08\n",
       "17612  Statistical differences  NaN  1985                   -3.607281e+08\n",
       "17613  Statistical differences  NaN  1986                   -4.802771e+07\n",
       "17614  Statistical differences  NaN  1987                   -2.723048e+08\n",
       "17615  Statistical differences  NaN  1988                   -3.152396e+08\n",
       "17616  Statistical differences  NaN  1989                   -1.878203e+08\n",
       "17617  Statistical differences  NaN  1990                   -5.814990e+08\n",
       "17618  Statistical differences  NaN  1991                   -3.117070e+08\n",
       "17619  Statistical differences  NaN  1992                   -3.206405e+08\n",
       "17620  Statistical differences  NaN  1993                   -6.039042e+08\n",
       "17621  Statistical differences  NaN  1994                   -3.829234e+08\n",
       "17622  Statistical differences  NaN  1995                   -4.152905e+08\n",
       "17623  Statistical differences  NaN  1996                   -6.014068e+08\n",
       "17624  Statistical differences  NaN  1997                   -3.352780e+08\n",
       "17625  Statistical differences  NaN  1998                   -1.976861e+08\n",
       "17626  Statistical differences  NaN  1999                   -5.657580e+08\n",
       "17627  Statistical differences  NaN  2000                   -6.255223e+08\n",
       "17628  Statistical differences  NaN  2001                   -2.711537e+08\n",
       "17629  Statistical differences  NaN  2002                   -4.706956e+08\n",
       "17630  Statistical differences  NaN  2003                   -3.640166e+08\n",
       "17631  Statistical differences  NaN  2004                   -3.255337e+08\n",
       "17632  Statistical differences  NaN  2005                   -2.123722e+08\n",
       "17633  Statistical differences  NaN  2006                   -1.652091e+08\n",
       "17634  Statistical differences  NaN  2007                   -4.886405e+08\n",
       "17635  Statistical differences  NaN  2008                   -2.048367e+08\n",
       "17636  Statistical differences  NaN  2009                   -1.036986e+08\n",
       "17637  Statistical differences  NaN  2010                   -1.720100e+08\n",
       "17638  Statistical differences  NaN  2011                   -6.031251e+07\n",
       "17639  Statistical differences  NaN  2012                   -1.774597e+06"
      ]
     },
     "execution_count": 12,
     "metadata": {},
     "output_type": "execute_result"
    }
   ],
   "source": [
    "# There are also calculations within the data\n",
    "co2_data[co2_data['Annual CO₂ emissions (tonnes )']<0]"
   ]
  },
  {
   "cell_type": "code",
   "execution_count": 13,
   "id": "ad5f106d",
   "metadata": {},
   "outputs": [],
   "source": [
    "# Since we are focusing only on the actual data per year, we can remove this data\n",
    "new_data = co2_data[co2_data['Entity']!='Statistical differences']"
   ]
  },
  {
   "cell_type": "code",
   "execution_count": 14,
   "id": "657aa881",
   "metadata": {},
   "outputs": [
    {
     "data": {
      "text/plain": [
       "Entity                             object\n",
       "Code                               object\n",
       "Year                                int64\n",
       "Annual CO₂ emissions (tonnes )    float64\n",
       "dtype: object"
      ]
     },
     "execution_count": 14,
     "metadata": {},
     "output_type": "execute_result"
    }
   ],
   "source": [
    "# We can find what values are correlated with the annual CO2 emissions\n",
    "# Entity and Code are basically the same\n",
    "# year should have some correlation with emission increase\n",
    "new_data.dtypes"
   ]
  },
  {
   "cell_type": "code",
   "execution_count": 15,
   "id": "a7728a64",
   "metadata": {},
   "outputs": [],
   "source": [
    "# Focusing on data in America specifically\n",
    "us_data = new_data[new_data['Code']=='USA']"
   ]
  },
  {
   "cell_type": "code",
   "execution_count": 16,
   "id": "638d9562",
   "metadata": {},
   "outputs": [
    {
     "name": "stderr",
     "output_type": "stream",
     "text": [
      "/Applications/anaconda/anaconda3/lib/python3.9/site-packages/seaborn/_decorators.py:36: FutureWarning: Pass the following variables as keyword args: x, y. From version 0.12, the only valid positional argument will be `data`, and passing other arguments without an explicit keyword will result in an error or misinterpretation.\n",
      "  warnings.warn(\n"
     ]
    },
    {
     "data": {
      "text/plain": [
       "<AxesSubplot:xlabel='Year', ylabel='Annual CO₂ emissions (tonnes )'>"
      ]
     },
     "execution_count": 16,
     "metadata": {},
     "output_type": "execute_result"
    },
    {
     "data": {
      "image/png": "[encoded data removed]",
      "text/plain": [
       "<Figure size 432x288 with 1 Axes>"
      ]
     },
     "metadata": {
      "needs_background": "light"
     },
     "output_type": "display_data"
    }
   ],
   "source": [
    "# There seems to be some correlation, but it is not a linear relationship\n",
    "sns.regplot(us_data['Year'], us_data['Annual CO₂ emissions (tonnes )'])"
   ]
  },
  {
   "cell_type": "markdown",
   "id": "541bc47e",
   "metadata": {},
   "source": [
    "# Second Version - Working on finding correlations in the data"
   ]
  },
  {
   "cell_type": "code",
   "execution_count": 17,
   "id": "51c4e634",
   "metadata": {},
   "outputs": [
    {
     "data": {
      "text/plain": [
       "<AxesSubplot:>"
      ]
     },
     "execution_count": 17,
     "metadata": {},
     "output_type": "execute_result"
    },
    {
     "data": {
      "image/png": "[encoded data removed]",
      "text/plain": [
       "<Figure size 432x288 with 2 Axes>"
      ]
     },
     "metadata": {
      "needs_background": "light"
     },
     "output_type": "display_data"
    }
   ],
   "source": [
    "# Clearly, the year DOES have a correlation with the annual CO2 emissions in tons\n",
    "sns.heatmap(us_data.corr(), annot=True)"
   ]
  },
  {
   "cell_type": "code",
   "execution_count": 18,
   "id": "3bf30037",
   "metadata": {},
   "outputs": [
    {
     "name": "stderr",
     "output_type": "stream",
     "text": [
      "/var/folders/6t/qwygyn5x50q_0vj6xlykk_xh0000gp/T/ipykernel_2523/2178863008.py:5: SettingWithCopyWarning: \n",
      "A value is trying to be set on a copy of a slice from a DataFrame.\n",
      "Try using .loc[row_indexer,col_indexer] = value instead\n",
      "\n",
      "See the caveats in the documentation: https://pandas.pydata.org/pandas-docs/stable/user_guide/indexing.html#returning-a-view-versus-a-copy\n",
      "  str_data[col] = str_data[col].astype('category')\n",
      "/var/folders/6t/qwygyn5x50q_0vj6xlykk_xh0000gp/T/ipykernel_2523/2178863008.py:6: SettingWithCopyWarning: \n",
      "A value is trying to be set on a copy of a slice from a DataFrame.\n",
      "Try using .loc[row_indexer,col_indexer] = value instead\n",
      "\n",
      "See the caveats in the documentation: https://pandas.pydata.org/pandas-docs/stable/user_guide/indexing.html#returning-a-view-versus-a-copy\n",
      "  str_data[col] = str_data[col].cat.codes\n"
     ]
    }
   ],
   "source": [
    "# Let's see if the string data has a correlation with CO2 emissions\n",
    "str_data = new_data\n",
    "for col in str_data.columns:\n",
    "    if(str_data[col].dtype=='object'):\n",
    "        str_data[col] = str_data[col].astype('category')\n",
    "        str_data[col] = str_data[col].cat.codes"
   ]
  },
  {
   "cell_type": "code",
   "execution_count": 19,
   "id": "03ac790a",
   "metadata": {},
   "outputs": [
    {
     "data": {
      "text/html": [
       "<div>\n",
       "<style scoped>\n",
       "    .dataframe tbody tr th:only-of-type {\n",
       "        vertical-align: middle;\n",
       "    }\n",
       "\n",
       "    .dataframe tbody tr th {\n",
       "        vertical-align: top;\n",
       "    }\n",
       "\n",
       "    .dataframe thead th {\n",
       "        text-align: right;\n",
       "    }\n",
       "</style>\n",
       "<table border=\"1\" class=\"dataframe\">\n",
       "  <thead>\n",
       "    <tr style=\"text-align: right;\">\n",
       "      <th></th>\n",
       "      <th>Entity</th>\n",
       "      <th>Code</th>\n",
       "      <th>Year</th>\n",
       "      <th>Annual CO₂ emissions (tonnes )</th>\n",
       "    </tr>\n",
       "  </thead>\n",
       "  <tbody>\n",
       "    <tr>\n",
       "      <th>0</th>\n",
       "      <td>0</td>\n",
       "      <td>1</td>\n",
       "      <td>1949</td>\n",
       "      <td>14656.00</td>\n",
       "    </tr>\n",
       "    <tr>\n",
       "      <th>1</th>\n",
       "      <td>0</td>\n",
       "      <td>1</td>\n",
       "      <td>1950</td>\n",
       "      <td>84272.00</td>\n",
       "    </tr>\n",
       "    <tr>\n",
       "      <th>2</th>\n",
       "      <td>0</td>\n",
       "      <td>1</td>\n",
       "      <td>1951</td>\n",
       "      <td>91600.00</td>\n",
       "    </tr>\n",
       "    <tr>\n",
       "      <th>3</th>\n",
       "      <td>0</td>\n",
       "      <td>1</td>\n",
       "      <td>1952</td>\n",
       "      <td>91600.00</td>\n",
       "    </tr>\n",
       "    <tr>\n",
       "      <th>4</th>\n",
       "      <td>0</td>\n",
       "      <td>1</td>\n",
       "      <td>1953</td>\n",
       "      <td>106256.00</td>\n",
       "    </tr>\n",
       "    <tr>\n",
       "      <th>...</th>\n",
       "      <td>...</td>\n",
       "      <td>...</td>\n",
       "      <td>...</td>\n",
       "      <td>...</td>\n",
       "    </tr>\n",
       "    <tr>\n",
       "      <th>20848</th>\n",
       "      <td>231</td>\n",
       "      <td>221</td>\n",
       "      <td>2013</td>\n",
       "      <td>11536239.29</td>\n",
       "    </tr>\n",
       "    <tr>\n",
       "      <th>20849</th>\n",
       "      <td>231</td>\n",
       "      <td>221</td>\n",
       "      <td>2014</td>\n",
       "      <td>11866348.41</td>\n",
       "    </tr>\n",
       "    <tr>\n",
       "      <th>20850</th>\n",
       "      <td>231</td>\n",
       "      <td>221</td>\n",
       "      <td>2015</td>\n",
       "      <td>10907603.94</td>\n",
       "    </tr>\n",
       "    <tr>\n",
       "      <th>20851</th>\n",
       "      <td>231</td>\n",
       "      <td>221</td>\n",
       "      <td>2016</td>\n",
       "      <td>9932649.88</td>\n",
       "    </tr>\n",
       "    <tr>\n",
       "      <th>20852</th>\n",
       "      <td>231</td>\n",
       "      <td>221</td>\n",
       "      <td>2017</td>\n",
       "      <td>10397718.47</td>\n",
       "    </tr>\n",
       "  </tbody>\n",
       "</table>\n",
       "<p>20586 rows × 4 columns</p>\n",
       "</div>"
      ],
      "text/plain": [
       "       Entity  Code  Year  Annual CO₂ emissions (tonnes )\n",
       "0           0     1  1949                        14656.00\n",
       "1           0     1  1950                        84272.00\n",
       "2           0     1  1951                        91600.00\n",
       "3           0     1  1952                        91600.00\n",
       "4           0     1  1953                       106256.00\n",
       "...       ...   ...   ...                             ...\n",
       "20848     231   221  2013                     11536239.29\n",
       "20849     231   221  2014                     11866348.41\n",
       "20850     231   221  2015                     10907603.94\n",
       "20851     231   221  2016                      9932649.88\n",
       "20852     231   221  2017                     10397718.47\n",
       "\n",
       "[20586 rows x 4 columns]"
      ]
     },
     "execution_count": 19,
     "metadata": {},
     "output_type": "execute_result"
    }
   ],
   "source": [
    "str_data"
   ]
  },
  {
   "cell_type": "code",
   "execution_count": 20,
   "id": "ecfa81af",
   "metadata": {},
   "outputs": [
    {
     "data": {
      "text/plain": [
       "Entity                            0\n",
       "Code                              0\n",
       "Year                              0\n",
       "Annual CO₂ emissions (tonnes )    0\n",
       "dtype: int64"
      ]
     },
     "execution_count": 20,
     "metadata": {},
     "output_type": "execute_result"
    }
   ],
   "source": [
    "# No NULL values\n",
    "str_data.isnull().sum()"
   ]
  },
  {
   "cell_type": "code",
   "execution_count": 21,
   "id": "a32f0a6c",
   "metadata": {},
   "outputs": [
    {
     "data": {
      "text/plain": [
       "71     267\n",
       "138    267\n",
       "63     267\n",
       "4      267\n",
       "228    267\n",
       "      ... \n",
       "8       21\n",
       "227     17\n",
       "208     16\n",
       "46      14\n",
       "121     11\n",
       "Name: Entity, Length: 232, dtype: int64"
      ]
     },
     "execution_count": 21,
     "metadata": {},
     "output_type": "execute_result"
    }
   ],
   "source": [
    "# The number of each value is similar to the very start, so it seems that cat codes worked\n",
    "str_data['Entity'].value_counts()"
   ]
  },
  {
   "cell_type": "code",
   "execution_count": 22,
   "id": "c1e76e1b",
   "metadata": {},
   "outputs": [
    {
     "data": {
      "text/plain": [
       "<AxesSubplot:>"
      ]
     },
     "execution_count": 22,
     "metadata": {},
     "output_type": "execute_result"
    },
    {
     "data": {
      "image/png": "[encoded data removed]",
      "text/plain": [
       "<Figure size 432x288 with 2 Axes>"
      ]
     },
     "metadata": {
      "needs_background": "light"
     },
     "output_type": "display_data"
    }
   ],
   "source": [
    "sns.heatmap(str_data.corr(), annot=True)"
   ]
  },
  {
   "cell_type": "code",
   "execution_count": 23,
   "id": "cd8b97f9",
   "metadata": {},
   "outputs": [],
   "source": [
    "isolated_data = str_data[['Entity', 'Annual CO₂ emissions (tonnes )']].corr()"
   ]
  },
  {
   "cell_type": "code",
   "execution_count": 24,
   "id": "5aa16169",
   "metadata": {},
   "outputs": [
    {
     "data": {
      "text/plain": [
       "<AxesSubplot:>"
      ]
     },
     "execution_count": 24,
     "metadata": {},
     "output_type": "execute_result"
    },
    {
     "data": {
      "image/png": "[encoded data removed]",
      "text/plain": [
       "<Figure size 432x288 with 2 Axes>"
      ]
     },
     "metadata": {
      "needs_background": "light"
     },
     "output_type": "display_data"
    }
   ],
   "source": [
    "sns.heatmap(isolated_data, annot=True)"
   ]
  },
  {
   "cell_type": "code",
   "execution_count": 25,
   "id": "8c525aef",
   "metadata": {},
   "outputs": [],
   "source": [
    "# The location does not directly affect the annual carbon dioxide emissions, but it seems that the year does DEPENDING on the location\n",
    "# Let us investigate the year correlation with the CO2 emissions in other countries"
   ]
  },
  {
   "cell_type": "markdown",
   "id": "ba10bed6",
   "metadata": {},
   "source": [
    "# Third Version - Do Some Countries Have Higher Correlations?"
   ]
  },
  {
   "cell_type": "code",
   "execution_count": 26,
   "id": "32bb69bb",
   "metadata": {},
   "outputs": [
    {
     "data": {
      "text/plain": [
       "OWID_WRL    267\n",
       "USA         267\n",
       "GBR         267\n",
       "IND         256\n",
       "CHN         254\n",
       "           ... \n",
       "MHL          26\n",
       "KGZ          26\n",
       "TLS          16\n",
       "CXR          14\n",
       "LIE          11\n",
       "Name: Code, Length: 222, dtype: int64"
      ]
     },
     "execution_count": 26,
     "metadata": {},
     "output_type": "execute_result"
    }
   ],
   "source": [
    "# Research online shows that the top 5 carbon dioxide emissions come from: US, China, Russia, Brazil and Indonesia\n",
    "co2_data['Code'].value_counts()"
   ]
  },
  {
   "cell_type": "code",
   "execution_count": 34,
   "id": "286114c4",
   "metadata": {},
   "outputs": [],
   "source": [
    "china_data = co2_data[co2_data['Code']=='CHN']\n",
    "russia_data = co2_data[co2_data['Code']=='RUS']\n",
    "brazil_data = co2_data[co2_data['Code']=='BRA']\n",
    "indonesia_data= co2_data[co2_data['Code']=='IDN']"
   ]
  },
  {
   "cell_type": "code",
   "execution_count": 47,
   "id": "c5c247d2",
   "metadata": {},
   "outputs": [
    {
     "data": {
      "text/html": [
       "<div>\n",
       "<style scoped>\n",
       "    .dataframe tbody tr th:only-of-type {\n",
       "        vertical-align: middle;\n",
       "    }\n",
       "\n",
       "    .dataframe tbody tr th {\n",
       "        vertical-align: top;\n",
       "    }\n",
       "\n",
       "    .dataframe thead th {\n",
       "        text-align: right;\n",
       "    }\n",
       "</style>\n",
       "<table border=\"1\" class=\"dataframe\">\n",
       "  <thead>\n",
       "    <tr style=\"text-align: right;\">\n",
       "      <th></th>\n",
       "      <th>Entity</th>\n",
       "      <th>Code</th>\n",
       "      <th>Year</th>\n",
       "      <th>Annual CO₂ emissions (tonnes )</th>\n",
       "    </tr>\n",
       "  </thead>\n",
       "  <tbody>\n",
       "    <tr>\n",
       "      <th>4231</th>\n",
       "      <td>China</td>\n",
       "      <td>CHN</td>\n",
       "      <td>1751</td>\n",
       "      <td>0.000000e+00</td>\n",
       "    </tr>\n",
       "    <tr>\n",
       "      <th>4232</th>\n",
       "      <td>China</td>\n",
       "      <td>CHN</td>\n",
       "      <td>1752</td>\n",
       "      <td>0.000000e+00</td>\n",
       "    </tr>\n",
       "    <tr>\n",
       "      <th>4233</th>\n",
       "      <td>China</td>\n",
       "      <td>CHN</td>\n",
       "      <td>1753</td>\n",
       "      <td>0.000000e+00</td>\n",
       "    </tr>\n",
       "    <tr>\n",
       "      <th>4234</th>\n",
       "      <td>China</td>\n",
       "      <td>CHN</td>\n",
       "      <td>1754</td>\n",
       "      <td>0.000000e+00</td>\n",
       "    </tr>\n",
       "    <tr>\n",
       "      <th>4235</th>\n",
       "      <td>China</td>\n",
       "      <td>CHN</td>\n",
       "      <td>1755</td>\n",
       "      <td>0.000000e+00</td>\n",
       "    </tr>\n",
       "    <tr>\n",
       "      <th>...</th>\n",
       "      <td>...</td>\n",
       "      <td>...</td>\n",
       "      <td>...</td>\n",
       "      <td>...</td>\n",
       "    </tr>\n",
       "    <tr>\n",
       "      <th>4480</th>\n",
       "      <td>China</td>\n",
       "      <td>CHN</td>\n",
       "      <td>2013</td>\n",
       "      <td>9.796527e+09</td>\n",
       "    </tr>\n",
       "    <tr>\n",
       "      <th>4481</th>\n",
       "      <td>China</td>\n",
       "      <td>CHN</td>\n",
       "      <td>2014</td>\n",
       "      <td>9.820360e+09</td>\n",
       "    </tr>\n",
       "    <tr>\n",
       "      <th>4482</th>\n",
       "      <td>China</td>\n",
       "      <td>CHN</td>\n",
       "      <td>2015</td>\n",
       "      <td>9.716468e+09</td>\n",
       "    </tr>\n",
       "    <tr>\n",
       "      <th>4483</th>\n",
       "      <td>China</td>\n",
       "      <td>CHN</td>\n",
       "      <td>2016</td>\n",
       "      <td>9.704479e+09</td>\n",
       "    </tr>\n",
       "    <tr>\n",
       "      <th>4484</th>\n",
       "      <td>China</td>\n",
       "      <td>CHN</td>\n",
       "      <td>2017</td>\n",
       "      <td>9.838754e+09</td>\n",
       "    </tr>\n",
       "  </tbody>\n",
       "</table>\n",
       "<p>254 rows × 4 columns</p>\n",
       "</div>"
      ],
      "text/plain": [
       "     Entity Code  Year  Annual CO₂ emissions (tonnes )\n",
       "4231  China  CHN  1751                    0.000000e+00\n",
       "4232  China  CHN  1752                    0.000000e+00\n",
       "4233  China  CHN  1753                    0.000000e+00\n",
       "4234  China  CHN  1754                    0.000000e+00\n",
       "4235  China  CHN  1755                    0.000000e+00\n",
       "...     ...  ...   ...                             ...\n",
       "4480  China  CHN  2013                    9.796527e+09\n",
       "4481  China  CHN  2014                    9.820360e+09\n",
       "4482  China  CHN  2015                    9.716468e+09\n",
       "4483  China  CHN  2016                    9.704479e+09\n",
       "4484  China  CHN  2017                    9.838754e+09\n",
       "\n",
       "[254 rows x 4 columns]"
      ]
     },
     "execution_count": 47,
     "metadata": {},
     "output_type": "execute_result"
    }
   ],
   "source": [
    "china_data.sort_values(by = 'Year', ascending=True)"
   ]
  },
  {
   "cell_type": "code",
   "execution_count": 52,
   "id": "53abc8be",
   "metadata": {},
   "outputs": [
    {
     "name": "stdout",
     "output_type": "stream",
     "text": [
      "(59, 4)\n"
     ]
    },
    {
     "data": {
      "text/html": [
       "<div>\n",
       "<style scoped>\n",
       "    .dataframe tbody tr th:only-of-type {\n",
       "        vertical-align: middle;\n",
       "    }\n",
       "\n",
       "    .dataframe tbody tr th {\n",
       "        vertical-align: top;\n",
       "    }\n",
       "\n",
       "    .dataframe thead th {\n",
       "        text-align: right;\n",
       "    }\n",
       "</style>\n",
       "<table border=\"1\" class=\"dataframe\">\n",
       "  <thead>\n",
       "    <tr style=\"text-align: right;\">\n",
       "      <th></th>\n",
       "      <th>Entity</th>\n",
       "      <th>Code</th>\n",
       "      <th>Year</th>\n",
       "      <th>Annual CO₂ emissions (tonnes )</th>\n",
       "    </tr>\n",
       "  </thead>\n",
       "  <tbody>\n",
       "    <tr>\n",
       "      <th>15636</th>\n",
       "      <td>Russia</td>\n",
       "      <td>RUS</td>\n",
       "      <td>1959</td>\n",
       "      <td>8.547876e+08</td>\n",
       "    </tr>\n",
       "    <tr>\n",
       "      <th>15637</th>\n",
       "      <td>Russia</td>\n",
       "      <td>RUS</td>\n",
       "      <td>1960</td>\n",
       "      <td>8.899830e+08</td>\n",
       "    </tr>\n",
       "    <tr>\n",
       "      <th>15638</th>\n",
       "      <td>Russia</td>\n",
       "      <td>RUS</td>\n",
       "      <td>1961</td>\n",
       "      <td>9.178258e+08</td>\n",
       "    </tr>\n",
       "    <tr>\n",
       "      <th>15639</th>\n",
       "      <td>Russia</td>\n",
       "      <td>RUS</td>\n",
       "      <td>1962</td>\n",
       "      <td>9.633179e+08</td>\n",
       "    </tr>\n",
       "    <tr>\n",
       "      <th>15640</th>\n",
       "      <td>Russia</td>\n",
       "      <td>RUS</td>\n",
       "      <td>1963</td>\n",
       "      <td>1.033106e+09</td>\n",
       "    </tr>\n",
       "  </tbody>\n",
       "</table>\n",
       "</div>"
      ],
      "text/plain": [
       "       Entity Code  Year  Annual CO₂ emissions (tonnes )\n",
       "15636  Russia  RUS  1959                    8.547876e+08\n",
       "15637  Russia  RUS  1960                    8.899830e+08\n",
       "15638  Russia  RUS  1961                    9.178258e+08\n",
       "15639  Russia  RUS  1962                    9.633179e+08\n",
       "15640  Russia  RUS  1963                    1.033106e+09"
      ]
     },
     "execution_count": 52,
     "metadata": {},
     "output_type": "execute_result"
    }
   ],
   "source": [
    "print(russia_data.shape) # Note that there is very little data on Russia (Only starts from 1959)\n",
    "russia_data.head()"
   ]
  },
  {
   "cell_type": "code",
   "execution_count": 37,
   "id": "ce1f64b2",
   "metadata": {},
   "outputs": [
    {
     "data": {
      "text/html": [
       "<div>\n",
       "<style scoped>\n",
       "    .dataframe tbody tr th:only-of-type {\n",
       "        vertical-align: middle;\n",
       "    }\n",
       "\n",
       "    .dataframe tbody tr th {\n",
       "        vertical-align: top;\n",
       "    }\n",
       "\n",
       "    .dataframe thead th {\n",
       "        text-align: right;\n",
       "    }\n",
       "</style>\n",
       "<table border=\"1\" class=\"dataframe\">\n",
       "  <thead>\n",
       "    <tr style=\"text-align: right;\">\n",
       "      <th></th>\n",
       "      <th>Entity</th>\n",
       "      <th>Code</th>\n",
       "      <th>Year</th>\n",
       "      <th>Annual CO₂ emissions (tonnes )</th>\n",
       "    </tr>\n",
       "  </thead>\n",
       "  <tbody>\n",
       "    <tr>\n",
       "      <th>2980</th>\n",
       "      <td>Brazil</td>\n",
       "      <td>BRA</td>\n",
       "      <td>1901</td>\n",
       "      <td>2103136.0</td>\n",
       "    </tr>\n",
       "    <tr>\n",
       "      <th>2981</th>\n",
       "      <td>Brazil</td>\n",
       "      <td>BRA</td>\n",
       "      <td>1902</td>\n",
       "      <td>2506176.0</td>\n",
       "    </tr>\n",
       "    <tr>\n",
       "      <th>2982</th>\n",
       "      <td>Brazil</td>\n",
       "      <td>BRA</td>\n",
       "      <td>1903</td>\n",
       "      <td>2440224.0</td>\n",
       "    </tr>\n",
       "    <tr>\n",
       "      <th>2983</th>\n",
       "      <td>Brazil</td>\n",
       "      <td>BRA</td>\n",
       "      <td>1904</td>\n",
       "      <td>2619760.0</td>\n",
       "    </tr>\n",
       "    <tr>\n",
       "      <th>2984</th>\n",
       "      <td>Brazil</td>\n",
       "      <td>BRA</td>\n",
       "      <td>1905</td>\n",
       "      <td>2799296.0</td>\n",
       "    </tr>\n",
       "    <tr>\n",
       "      <th>...</th>\n",
       "      <td>...</td>\n",
       "      <td>...</td>\n",
       "      <td>...</td>\n",
       "      <td>...</td>\n",
       "    </tr>\n",
       "    <tr>\n",
       "      <th>3092</th>\n",
       "      <td>Brazil</td>\n",
       "      <td>BRA</td>\n",
       "      <td>2013</td>\n",
       "      <td>493593511.3</td>\n",
       "    </tr>\n",
       "    <tr>\n",
       "      <th>3093</th>\n",
       "      <td>Brazil</td>\n",
       "      <td>BRA</td>\n",
       "      <td>2014</td>\n",
       "      <td>519526349.7</td>\n",
       "    </tr>\n",
       "    <tr>\n",
       "      <th>3094</th>\n",
       "      <td>Brazil</td>\n",
       "      <td>BRA</td>\n",
       "      <td>2015</td>\n",
       "      <td>512081882.0</td>\n",
       "    </tr>\n",
       "    <tr>\n",
       "      <th>3095</th>\n",
       "      <td>Brazil</td>\n",
       "      <td>BRA</td>\n",
       "      <td>2016</td>\n",
       "      <td>473741376.0</td>\n",
       "    </tr>\n",
       "    <tr>\n",
       "      <th>3096</th>\n",
       "      <td>Brazil</td>\n",
       "      <td>BRA</td>\n",
       "      <td>2017</td>\n",
       "      <td>476066778.3</td>\n",
       "    </tr>\n",
       "  </tbody>\n",
       "</table>\n",
       "<p>117 rows × 4 columns</p>\n",
       "</div>"
      ],
      "text/plain": [
       "      Entity Code  Year  Annual CO₂ emissions (tonnes )\n",
       "2980  Brazil  BRA  1901                       2103136.0\n",
       "2981  Brazil  BRA  1902                       2506176.0\n",
       "2982  Brazil  BRA  1903                       2440224.0\n",
       "2983  Brazil  BRA  1904                       2619760.0\n",
       "2984  Brazil  BRA  1905                       2799296.0\n",
       "...      ...  ...   ...                             ...\n",
       "3092  Brazil  BRA  2013                     493593511.3\n",
       "3093  Brazil  BRA  2014                     519526349.7\n",
       "3094  Brazil  BRA  2015                     512081882.0\n",
       "3095  Brazil  BRA  2016                     473741376.0\n",
       "3096  Brazil  BRA  2017                     476066778.3\n",
       "\n",
       "[117 rows x 4 columns]"
      ]
     },
     "execution_count": 37,
     "metadata": {},
     "output_type": "execute_result"
    }
   ],
   "source": [
    "brazil_data"
   ]
  },
  {
   "cell_type": "code",
   "execution_count": 36,
   "id": "f5c10f9d",
   "metadata": {},
   "outputs": [
    {
     "data": {
      "text/html": [
       "<div>\n",
       "<style scoped>\n",
       "    .dataframe tbody tr th:only-of-type {\n",
       "        vertical-align: middle;\n",
       "    }\n",
       "\n",
       "    .dataframe tbody tr th {\n",
       "        vertical-align: top;\n",
       "    }\n",
       "\n",
       "    .dataframe thead th {\n",
       "        text-align: right;\n",
       "    }\n",
       "</style>\n",
       "<table border=\"1\" class=\"dataframe\">\n",
       "  <thead>\n",
       "    <tr style=\"text-align: right;\">\n",
       "      <th></th>\n",
       "      <th>Entity</th>\n",
       "      <th>Code</th>\n",
       "      <th>Year</th>\n",
       "      <th>Annual CO₂ emissions (tonnes )</th>\n",
       "    </tr>\n",
       "  </thead>\n",
       "  <tbody>\n",
       "    <tr>\n",
       "      <th>9460</th>\n",
       "      <td>Indonesia</td>\n",
       "      <td>IDN</td>\n",
       "      <td>1889</td>\n",
       "      <td>3664.0</td>\n",
       "    </tr>\n",
       "    <tr>\n",
       "      <th>9461</th>\n",
       "      <td>Indonesia</td>\n",
       "      <td>IDN</td>\n",
       "      <td>1890</td>\n",
       "      <td>14656.0</td>\n",
       "    </tr>\n",
       "    <tr>\n",
       "      <th>9462</th>\n",
       "      <td>Indonesia</td>\n",
       "      <td>IDN</td>\n",
       "      <td>1891</td>\n",
       "      <td>21984.0</td>\n",
       "    </tr>\n",
       "    <tr>\n",
       "      <th>9463</th>\n",
       "      <td>Indonesia</td>\n",
       "      <td>IDN</td>\n",
       "      <td>1892</td>\n",
       "      <td>179536.0</td>\n",
       "    </tr>\n",
       "    <tr>\n",
       "      <th>9464</th>\n",
       "      <td>Indonesia</td>\n",
       "      <td>IDN</td>\n",
       "      <td>1893</td>\n",
       "      <td>403040.0</td>\n",
       "    </tr>\n",
       "    <tr>\n",
       "      <th>...</th>\n",
       "      <td>...</td>\n",
       "      <td>...</td>\n",
       "      <td>...</td>\n",
       "      <td>...</td>\n",
       "    </tr>\n",
       "    <tr>\n",
       "      <th>9584</th>\n",
       "      <td>Indonesia</td>\n",
       "      <td>IDN</td>\n",
       "      <td>2013</td>\n",
       "      <td>486130031.7</td>\n",
       "    </tr>\n",
       "    <tr>\n",
       "      <th>9585</th>\n",
       "      <td>Indonesia</td>\n",
       "      <td>IDN</td>\n",
       "      <td>2014</td>\n",
       "      <td>460015658.7</td>\n",
       "    </tr>\n",
       "    <tr>\n",
       "      <th>9586</th>\n",
       "      <td>Indonesia</td>\n",
       "      <td>IDN</td>\n",
       "      <td>2015</td>\n",
       "      <td>459628755.9</td>\n",
       "    </tr>\n",
       "    <tr>\n",
       "      <th>9587</th>\n",
       "      <td>Indonesia</td>\n",
       "      <td>IDN</td>\n",
       "      <td>2016</td>\n",
       "      <td>464856818.4</td>\n",
       "    </tr>\n",
       "    <tr>\n",
       "      <th>9588</th>\n",
       "      <td>Indonesia</td>\n",
       "      <td>IDN</td>\n",
       "      <td>2017</td>\n",
       "      <td>486843756.2</td>\n",
       "    </tr>\n",
       "  </tbody>\n",
       "</table>\n",
       "<p>129 rows × 4 columns</p>\n",
       "</div>"
      ],
      "text/plain": [
       "         Entity Code  Year  Annual CO₂ emissions (tonnes )\n",
       "9460  Indonesia  IDN  1889                          3664.0\n",
       "9461  Indonesia  IDN  1890                         14656.0\n",
       "9462  Indonesia  IDN  1891                         21984.0\n",
       "9463  Indonesia  IDN  1892                        179536.0\n",
       "9464  Indonesia  IDN  1893                        403040.0\n",
       "...         ...  ...   ...                             ...\n",
       "9584  Indonesia  IDN  2013                     486130031.7\n",
       "9585  Indonesia  IDN  2014                     460015658.7\n",
       "9586  Indonesia  IDN  2015                     459628755.9\n",
       "9587  Indonesia  IDN  2016                     464856818.4\n",
       "9588  Indonesia  IDN  2017                     486843756.2\n",
       "\n",
       "[129 rows x 4 columns]"
      ]
     },
     "execution_count": 36,
     "metadata": {},
     "output_type": "execute_result"
    }
   ],
   "source": [
    "indonesia_data"
   ]
  },
  {
   "cell_type": "code",
   "execution_count": 57,
   "id": "ed39844f",
   "metadata": {},
   "outputs": [
    {
     "data": {
      "text/plain": [
       "<AxesSubplot:>"
      ]
     },
     "execution_count": 57,
     "metadata": {},
     "output_type": "execute_result"
    },
    {
     "data": {
      "image/png": "[encoded data removed]",
      "text/plain": [
       "<Figure size 432x288 with 2 Axes>"
      ]
     },
     "metadata": {
      "needs_background": "light"
     },
     "output_type": "display_data"
    }
   ],
   "source": [
    "sns.heatmap(china_data.corr(), annot=True) # Somewhat of a correlation - 58%"
   ]
  },
  {
   "cell_type": "code",
   "execution_count": 58,
   "id": "77388598",
   "metadata": {},
   "outputs": [
    {
     "data": {
      "text/plain": [
       "<AxesSubplot:>"
      ]
     },
     "execution_count": 58,
     "metadata": {},
     "output_type": "execute_result"
    },
    {
     "data": {
      "image/png": "[encoded data removed]",
      "text/plain": [
       "<Figure size 432x288 with 2 Axes>"
      ]
     },
     "metadata": {
      "needs_background": "light"
     },
     "output_type": "display_data"
    }
   ],
   "source": [
    "sns.heatmap(russia_data.corr(), annot=True) # LOW correlation - 28%\n",
    "# The low correlation could also be a result of the little data under Russia"
   ]
  },
  {
   "cell_type": "code",
   "execution_count": 56,
   "id": "d0bb5811",
   "metadata": {},
   "outputs": [
    {
     "data": {
      "text/plain": [
       "<AxesSubplot:>"
      ]
     },
     "execution_count": 56,
     "metadata": {},
     "output_type": "execute_result"
    },
    {
     "data": {
      "image/png": "[encoded data removed]",
      "text/plain": [
       "<Figure size 432x288 with 2 Axes>"
      ]
     },
     "metadata": {
      "needs_background": "light"
     },
     "output_type": "display_data"
    }
   ],
   "source": [
    "sns.heatmap(brazil_data.corr(), annot=True) # High correlation - 90%"
   ]
  },
  {
   "cell_type": "code",
   "execution_count": 60,
   "id": "bd6652ba",
   "metadata": {},
   "outputs": [
    {
     "data": {
      "text/plain": [
       "<AxesSubplot:>"
      ]
     },
     "execution_count": 60,
     "metadata": {},
     "output_type": "execute_result"
    },
    {
     "data": {
      "image/png": "[encoded data removed]",
      "text/plain": [
       "<Figure size 432x288 with 2 Axes>"
      ]
     },
     "metadata": {
      "needs_background": "light"
     },
     "output_type": "display_data"
    }
   ],
   "source": [
    "sns.heatmap(indonesia_data.corr(), annot=True) # Relatively high correlation - 79%"
   ]
  },
  {
   "cell_type": "code",
   "execution_count": 69,
   "id": "d7ceac74",
   "metadata": {},
   "outputs": [
    {
     "name": "stderr",
     "output_type": "stream",
     "text": [
      "/Applications/anaconda/anaconda3/lib/python3.9/site-packages/seaborn/_decorators.py:36: FutureWarning: Pass the following variables as keyword args: x, y. From version 0.12, the only valid positional argument will be `data`, and passing other arguments without an explicit keyword will result in an error or misinterpretation.\n",
      "  warnings.warn(\n"
     ]
    },
    {
     "data": {
      "text/plain": [
       "<AxesSubplot:xlabel='Year', ylabel='Annual CO₂ emissions (tonnes )'>"
      ]
     },
     "execution_count": 69,
     "metadata": {},
     "output_type": "execute_result"
    },
    {
     "data": {
      "image/png": "[encoded data removed]",
      "text/plain": [
       "<Figure size 432x288 with 1 Axes>"
      ]
     },
     "metadata": {
      "needs_background": "light"
     },
     "output_type": "display_data"
    }
   ],
   "source": [
    "sns.regplot(china_data['Year'], china_data['Annual CO₂ emissions (tonnes )']) # very flat and only peaks at the end"
   ]
  },
  {
   "cell_type": "code",
   "execution_count": 66,
   "id": "26e24a4a",
   "metadata": {},
   "outputs": [],
   "source": [
    "# Since the data is inconsistent with the known countries that produce highest carbon dioxide emissions, we can stick to the US data"
   ]
  },
  {
   "cell_type": "code",
   "execution_count": 71,
   "id": "30ccdd82",
   "metadata": {},
   "outputs": [],
   "source": [
    "america = (co2_data[co2_data['Entity'] == 'Americas (other)'])"
   ]
  },
  {
   "cell_type": "code",
   "execution_count": 77,
   "id": "9aa1f5d7",
   "metadata": {},
   "outputs": [
    {
     "data": {
      "text/plain": [
       "<AxesSubplot:>"
      ]
     },
     "execution_count": 77,
     "metadata": {},
     "output_type": "execute_result"
    },
    {
     "data": {
      "image/png": "[encoded data removed]",
      "text/plain": [
       "<Figure size 432x288 with 2 Axes>"
      ]
     },
     "metadata": {
      "needs_background": "light"
     },
     "output_type": "display_data"
    }
   ],
   "source": [
    "# The Americas(land around the United States) seems to also have a high year-to-CO2 emissions correlation\n",
    "sns.heatmap(america.corr(), annot=True)"
   ]
  },
  {
   "cell_type": "code",
   "execution_count": 78,
   "id": "e303380b",
   "metadata": {},
   "outputs": [
    {
     "name": "stderr",
     "output_type": "stream",
     "text": [
      "/Applications/anaconda/anaconda3/lib/python3.9/site-packages/seaborn/_decorators.py:36: FutureWarning: Pass the following variables as keyword args: x, y. From version 0.12, the only valid positional argument will be `data`, and passing other arguments without an explicit keyword will result in an error or misinterpretation.\n",
      "  warnings.warn(\n"
     ]
    },
    {
     "data": {
      "text/plain": [
       "<AxesSubplot:xlabel='Year', ylabel='Annual CO₂ emissions (tonnes )'>"
      ]
     },
     "execution_count": 78,
     "metadata": {},
     "output_type": "execute_result"
    },
    {
     "data": {
      "image/png": "[encoded data removed]",
      "text/plain": [
       "<Figure size 432x288 with 1 Axes>"
      ]
     },
     "metadata": {
      "needs_background": "light"
     },
     "output_type": "display_data"
    }
   ],
   "source": [
    "sns.regplot(america['Year'], america['Annual CO₂ emissions (tonnes )'])"
   ]
  },
  {
   "cell_type": "code",
   "execution_count": null,
   "id": "044f2d03",
   "metadata": {},
   "outputs": [],
   "source": [
    "# Let us do model fitting using data from the United States only\n",
    "# We will start with Linear Regression"
   ]
  }
 ],
 "metadata": {
  "kernelspec": {
   "display_name": "Python 3 (ipykernel)",
   "language": "python",
   "name": "python3"
  },
  "language_info": {
   "codemirror_mode": {
    "name": "ipython",
    "version": 3
   },
   "file_extension": ".py",
   "mimetype": "text/x-python",
   "name": "python",
   "nbconvert_exporter": "python",
   "pygments_lexer": "ipython3",
   "version": "3.9.7"
  }
 },
 "nbformat": 4,
 "nbformat_minor": 5
}
