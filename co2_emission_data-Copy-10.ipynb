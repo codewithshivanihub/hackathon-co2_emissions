{
 "cells": [
  {
   "cell_type": "code",
   "execution_count": 55,
   "id": "c60c0c6a",
   "metadata": {},
   "outputs": [],
   "source": [
    "import pandas as pd\n",
    "import seaborn as sns\n",
    "import os "
   ]
  },
  {
   "cell_type": "code",
   "execution_count": 56,
   "id": "2fb840f1",
   "metadata": {},
   "outputs": [],
   "source": [
    "os.chdir('/Users/venkat/Documents')"
   ]
  },
  {
   "cell_type": "code",
   "execution_count": 57,
   "id": "463895a4",
   "metadata": {},
   "outputs": [],
   "source": [
    "# Accessing the dataset that provides details about CO2 emissions\n",
    "co2_data = pd.read_csv('co2_emission.csv')"
   ]
  },
  {
   "cell_type": "code",
   "execution_count": 58,
   "id": "5b5ba296",
   "metadata": {},
   "outputs": [],
   "source": [
    "# Focusing on data in America specifically\n",
    "us_data = co2_data[co2_data['Code']=='USA']"
   ]
  },
  {
   "cell_type": "code",
   "execution_count": 59,
   "id": "073ddee1",
   "metadata": {},
   "outputs": [
    {
     "data": {
      "text/html": [
       "<div>\n",
       "<style scoped>\n",
       "    .dataframe tbody tr th:only-of-type {\n",
       "        vertical-align: middle;\n",
       "    }\n",
       "\n",
       "    .dataframe tbody tr th {\n",
       "        vertical-align: top;\n",
       "    }\n",
       "\n",
       "    .dataframe thead th {\n",
       "        text-align: right;\n",
       "    }\n",
       "</style>\n",
       "<table border=\"1\" class=\"dataframe\">\n",
       "  <thead>\n",
       "    <tr style=\"text-align: right;\">\n",
       "      <th></th>\n",
       "      <th>Entity</th>\n",
       "      <th>Code</th>\n",
       "      <th>Year</th>\n",
       "      <th>Annual CO₂ emissions (tonnes )</th>\n",
       "    </tr>\n",
       "  </thead>\n",
       "  <tbody>\n",
       "    <tr>\n",
       "      <th>19710</th>\n",
       "      <td>United States</td>\n",
       "      <td>USA</td>\n",
       "      <td>1800</td>\n",
       "      <td>2.528160e+05</td>\n",
       "    </tr>\n",
       "    <tr>\n",
       "      <th>19711</th>\n",
       "      <td>United States</td>\n",
       "      <td>USA</td>\n",
       "      <td>1801</td>\n",
       "      <td>2.674720e+05</td>\n",
       "    </tr>\n",
       "    <tr>\n",
       "      <th>19712</th>\n",
       "      <td>United States</td>\n",
       "      <td>USA</td>\n",
       "      <td>1802</td>\n",
       "      <td>2.894560e+05</td>\n",
       "    </tr>\n",
       "    <tr>\n",
       "      <th>19713</th>\n",
       "      <td>United States</td>\n",
       "      <td>USA</td>\n",
       "      <td>1803</td>\n",
       "      <td>2.967840e+05</td>\n",
       "    </tr>\n",
       "    <tr>\n",
       "      <th>19714</th>\n",
       "      <td>United States</td>\n",
       "      <td>USA</td>\n",
       "      <td>1804</td>\n",
       "      <td>3.334240e+05</td>\n",
       "    </tr>\n",
       "    <tr>\n",
       "      <th>...</th>\n",
       "      <td>...</td>\n",
       "      <td>...</td>\n",
       "      <td>...</td>\n",
       "      <td>...</td>\n",
       "    </tr>\n",
       "    <tr>\n",
       "      <th>19923</th>\n",
       "      <td>United States</td>\n",
       "      <td>USA</td>\n",
       "      <td>2013</td>\n",
       "      <td>5.519613e+09</td>\n",
       "    </tr>\n",
       "    <tr>\n",
       "      <th>19924</th>\n",
       "      <td>United States</td>\n",
       "      <td>USA</td>\n",
       "      <td>2014</td>\n",
       "      <td>5.568759e+09</td>\n",
       "    </tr>\n",
       "    <tr>\n",
       "      <th>19925</th>\n",
       "      <td>United States</td>\n",
       "      <td>USA</td>\n",
       "      <td>2015</td>\n",
       "      <td>5.420804e+09</td>\n",
       "    </tr>\n",
       "    <tr>\n",
       "      <th>19926</th>\n",
       "      <td>United States</td>\n",
       "      <td>USA</td>\n",
       "      <td>2016</td>\n",
       "      <td>5.310861e+09</td>\n",
       "    </tr>\n",
       "    <tr>\n",
       "      <th>19927</th>\n",
       "      <td>United States</td>\n",
       "      <td>USA</td>\n",
       "      <td>2017</td>\n",
       "      <td>5.269530e+09</td>\n",
       "    </tr>\n",
       "  </tbody>\n",
       "</table>\n",
       "<p>218 rows × 4 columns</p>\n",
       "</div>"
      ],
      "text/plain": [
       "              Entity Code  Year  Annual CO₂ emissions (tonnes )\n",
       "19710  United States  USA  1800                    2.528160e+05\n",
       "19711  United States  USA  1801                    2.674720e+05\n",
       "19712  United States  USA  1802                    2.894560e+05\n",
       "19713  United States  USA  1803                    2.967840e+05\n",
       "19714  United States  USA  1804                    3.334240e+05\n",
       "...              ...  ...   ...                             ...\n",
       "19923  United States  USA  2013                    5.519613e+09\n",
       "19924  United States  USA  2014                    5.568759e+09\n",
       "19925  United States  USA  2015                    5.420804e+09\n",
       "19926  United States  USA  2016                    5.310861e+09\n",
       "19927  United States  USA  2017                    5.269530e+09\n",
       "\n",
       "[218 rows x 4 columns]"
      ]
     },
     "execution_count": 59,
     "metadata": {},
     "output_type": "execute_result"
    }
   ],
   "source": [
    "us_data.iloc[49:]"
   ]
  },
  {
   "cell_type": "code",
   "execution_count": 103,
   "id": "a37cf89f",
   "metadata": {},
   "outputs": [],
   "source": [
    "small_us = us_data.iloc[49:]"
   ]
  },
  {
   "cell_type": "code",
   "execution_count": 104,
   "id": "d473afa6",
   "metadata": {},
   "outputs": [
    {
     "data": {
      "text/html": [
       "<div>\n",
       "<style scoped>\n",
       "    .dataframe tbody tr th:only-of-type {\n",
       "        vertical-align: middle;\n",
       "    }\n",
       "\n",
       "    .dataframe tbody tr th {\n",
       "        vertical-align: top;\n",
       "    }\n",
       "\n",
       "    .dataframe thead th {\n",
       "        text-align: right;\n",
       "    }\n",
       "</style>\n",
       "<table border=\"1\" class=\"dataframe\">\n",
       "  <thead>\n",
       "    <tr style=\"text-align: right;\">\n",
       "      <th></th>\n",
       "      <th>Year</th>\n",
       "      <th>Annual CO₂ emissions (tonnes )</th>\n",
       "    </tr>\n",
       "  </thead>\n",
       "  <tbody>\n",
       "    <tr>\n",
       "      <th>19710</th>\n",
       "      <td>1800</td>\n",
       "      <td>2.528160e+05</td>\n",
       "    </tr>\n",
       "    <tr>\n",
       "      <th>19715</th>\n",
       "      <td>1805</td>\n",
       "      <td>3.407520e+05</td>\n",
       "    </tr>\n",
       "    <tr>\n",
       "      <th>19720</th>\n",
       "      <td>1810</td>\n",
       "      <td>4.176960e+05</td>\n",
       "    </tr>\n",
       "    <tr>\n",
       "      <th>19725</th>\n",
       "      <td>1815</td>\n",
       "      <td>6.008960e+05</td>\n",
       "    </tr>\n",
       "    <tr>\n",
       "      <th>19730</th>\n",
       "      <td>1820</td>\n",
       "      <td>7.914240e+05</td>\n",
       "    </tr>\n",
       "    <tr>\n",
       "      <th>19735</th>\n",
       "      <td>1825</td>\n",
       "      <td>1.135840e+06</td>\n",
       "    </tr>\n",
       "    <tr>\n",
       "      <th>19740</th>\n",
       "      <td>1830</td>\n",
       "      <td>2.088480e+06</td>\n",
       "    </tr>\n",
       "    <tr>\n",
       "      <th>19745</th>\n",
       "      <td>1835</td>\n",
       "      <td>4.316192e+06</td>\n",
       "    </tr>\n",
       "    <tr>\n",
       "      <th>19750</th>\n",
       "      <td>1840</td>\n",
       "      <td>5.873392e+06</td>\n",
       "    </tr>\n",
       "    <tr>\n",
       "      <th>19755</th>\n",
       "      <td>1845</td>\n",
       "      <td>1.120451e+07</td>\n",
       "    </tr>\n",
       "    <tr>\n",
       "      <th>19760</th>\n",
       "      <td>1850</td>\n",
       "      <td>1.979293e+07</td>\n",
       "    </tr>\n",
       "    <tr>\n",
       "      <th>19765</th>\n",
       "      <td>1855</td>\n",
       "      <td>3.816056e+07</td>\n",
       "    </tr>\n",
       "    <tr>\n",
       "      <th>19770</th>\n",
       "      <td>1860</td>\n",
       "      <td>4.743781e+07</td>\n",
       "    </tr>\n",
       "    <tr>\n",
       "      <th>19775</th>\n",
       "      <td>1865</td>\n",
       "      <td>5.882186e+07</td>\n",
       "    </tr>\n",
       "    <tr>\n",
       "      <th>19780</th>\n",
       "      <td>1870</td>\n",
       "      <td>9.862022e+07</td>\n",
       "    </tr>\n",
       "    <tr>\n",
       "      <th>19785</th>\n",
       "      <td>1875</td>\n",
       "      <td>1.357475e+08</td>\n",
       "    </tr>\n",
       "    <tr>\n",
       "      <th>19790</th>\n",
       "      <td>1880</td>\n",
       "      <td>1.986841e+08</td>\n",
       "    </tr>\n",
       "    <tr>\n",
       "      <th>19795</th>\n",
       "      <td>1885</td>\n",
       "      <td>2.721619e+08</td>\n",
       "    </tr>\n",
       "    <tr>\n",
       "      <th>19800</th>\n",
       "      <td>1890</td>\n",
       "      <td>4.017466e+08</td>\n",
       "    </tr>\n",
       "    <tr>\n",
       "      <th>19805</th>\n",
       "      <td>1895</td>\n",
       "      <td>4.799474e+08</td>\n",
       "    </tr>\n",
       "    <tr>\n",
       "      <th>19810</th>\n",
       "      <td>1900</td>\n",
       "      <td>6.627370e+08</td>\n",
       "    </tr>\n",
       "    <tr>\n",
       "      <th>19815</th>\n",
       "      <td>1905</td>\n",
       "      <td>9.844985e+08</td>\n",
       "    </tr>\n",
       "    <tr>\n",
       "      <th>19820</th>\n",
       "      <td>1910</td>\n",
       "      <td>1.269228e+09</td>\n",
       "    </tr>\n",
       "    <tr>\n",
       "      <th>19825</th>\n",
       "      <td>1915</td>\n",
       "      <td>1.365269e+09</td>\n",
       "    </tr>\n",
       "    <tr>\n",
       "      <th>19830</th>\n",
       "      <td>1920</td>\n",
       "      <td>1.735890e+09</td>\n",
       "    </tr>\n",
       "    <tr>\n",
       "      <th>19835</th>\n",
       "      <td>1925</td>\n",
       "      <td>1.740898e+09</td>\n",
       "    </tr>\n",
       "    <tr>\n",
       "      <th>19840</th>\n",
       "      <td>1930</td>\n",
       "      <td>1.742210e+09</td>\n",
       "    </tr>\n",
       "    <tr>\n",
       "      <th>19845</th>\n",
       "      <td>1935</td>\n",
       "      <td>1.490262e+09</td>\n",
       "    </tr>\n",
       "    <tr>\n",
       "      <th>19850</th>\n",
       "      <td>1940</td>\n",
       "      <td>1.871491e+09</td>\n",
       "    </tr>\n",
       "    <tr>\n",
       "      <th>19855</th>\n",
       "      <td>1945</td>\n",
       "      <td>2.355340e+09</td>\n",
       "    </tr>\n",
       "    <tr>\n",
       "      <th>19860</th>\n",
       "      <td>1950</td>\n",
       "      <td>2.535942e+09</td>\n",
       "    </tr>\n",
       "    <tr>\n",
       "      <th>19865</th>\n",
       "      <td>1955</td>\n",
       "      <td>2.721722e+09</td>\n",
       "    </tr>\n",
       "    <tr>\n",
       "      <th>19870</th>\n",
       "      <td>1960</td>\n",
       "      <td>2.887820e+09</td>\n",
       "    </tr>\n",
       "    <tr>\n",
       "      <th>19875</th>\n",
       "      <td>1965</td>\n",
       "      <td>3.388193e+09</td>\n",
       "    </tr>\n",
       "    <tr>\n",
       "      <th>19880</th>\n",
       "      <td>1970</td>\n",
       "      <td>4.325501e+09</td>\n",
       "    </tr>\n",
       "    <tr>\n",
       "      <th>19885</th>\n",
       "      <td>1975</td>\n",
       "      <td>4.400795e+09</td>\n",
       "    </tr>\n",
       "    <tr>\n",
       "      <th>19890</th>\n",
       "      <td>1980</td>\n",
       "      <td>4.716716e+09</td>\n",
       "    </tr>\n",
       "    <tr>\n",
       "      <th>19895</th>\n",
       "      <td>1985</td>\n",
       "      <td>4.484338e+09</td>\n",
       "    </tr>\n",
       "    <tr>\n",
       "      <th>19900</th>\n",
       "      <td>1990</td>\n",
       "      <td>5.121264e+09</td>\n",
       "    </tr>\n",
       "    <tr>\n",
       "      <th>19905</th>\n",
       "      <td>1995</td>\n",
       "      <td>5.439213e+09</td>\n",
       "    </tr>\n",
       "    <tr>\n",
       "      <th>19910</th>\n",
       "      <td>2000</td>\n",
       "      <td>6.000606e+09</td>\n",
       "    </tr>\n",
       "    <tr>\n",
       "      <th>19915</th>\n",
       "      <td>2005</td>\n",
       "      <td>6.132006e+09</td>\n",
       "    </tr>\n",
       "    <tr>\n",
       "      <th>19920</th>\n",
       "      <td>2010</td>\n",
       "      <td>5.701076e+09</td>\n",
       "    </tr>\n",
       "    <tr>\n",
       "      <th>19925</th>\n",
       "      <td>2015</td>\n",
       "      <td>5.420804e+09</td>\n",
       "    </tr>\n",
       "  </tbody>\n",
       "</table>\n",
       "</div>"
      ],
      "text/plain": [
       "       Year  Annual CO₂ emissions (tonnes )\n",
       "19710  1800                    2.528160e+05\n",
       "19715  1805                    3.407520e+05\n",
       "19720  1810                    4.176960e+05\n",
       "19725  1815                    6.008960e+05\n",
       "19730  1820                    7.914240e+05\n",
       "19735  1825                    1.135840e+06\n",
       "19740  1830                    2.088480e+06\n",
       "19745  1835                    4.316192e+06\n",
       "19750  1840                    5.873392e+06\n",
       "19755  1845                    1.120451e+07\n",
       "19760  1850                    1.979293e+07\n",
       "19765  1855                    3.816056e+07\n",
       "19770  1860                    4.743781e+07\n",
       "19775  1865                    5.882186e+07\n",
       "19780  1870                    9.862022e+07\n",
       "19785  1875                    1.357475e+08\n",
       "19790  1880                    1.986841e+08\n",
       "19795  1885                    2.721619e+08\n",
       "19800  1890                    4.017466e+08\n",
       "19805  1895                    4.799474e+08\n",
       "19810  1900                    6.627370e+08\n",
       "19815  1905                    9.844985e+08\n",
       "19820  1910                    1.269228e+09\n",
       "19825  1915                    1.365269e+09\n",
       "19830  1920                    1.735890e+09\n",
       "19835  1925                    1.740898e+09\n",
       "19840  1930                    1.742210e+09\n",
       "19845  1935                    1.490262e+09\n",
       "19850  1940                    1.871491e+09\n",
       "19855  1945                    2.355340e+09\n",
       "19860  1950                    2.535942e+09\n",
       "19865  1955                    2.721722e+09\n",
       "19870  1960                    2.887820e+09\n",
       "19875  1965                    3.388193e+09\n",
       "19880  1970                    4.325501e+09\n",
       "19885  1975                    4.400795e+09\n",
       "19890  1980                    4.716716e+09\n",
       "19895  1985                    4.484338e+09\n",
       "19900  1990                    5.121264e+09\n",
       "19905  1995                    5.439213e+09\n",
       "19910  2000                    6.000606e+09\n",
       "19915  2005                    6.132006e+09\n",
       "19920  2010                    5.701076e+09\n",
       "19925  2015                    5.420804e+09"
      ]
     },
     "execution_count": 104,
     "metadata": {},
     "output_type": "execute_result"
    }
   ],
   "source": [
    "small_us[['Year', 'Annual CO₂ emissions (tonnes )']][::5]"
   ]
  },
  {
   "cell_type": "code",
   "execution_count": 105,
   "id": "06f1c960",
   "metadata": {},
   "outputs": [],
   "source": [
    "# Avoids data points that have a y value of 0.0\n",
    "X = small_us['Year']\n",
    "y = small_us['Annual CO₂ emissions (tonnes )']"
   ]
  },
  {
   "cell_type": "code",
   "execution_count": 123,
   "id": "f480c9b3",
   "metadata": {},
   "outputs": [],
   "source": [
    "# splitting the data so 75% is used to train the model and the rest is used to test it\n",
    "from sklearn.model_selection import train_test_split\n",
    "X_train, X_test, y_train, y_test = train_test_split(X, y, train_size = 0.7, random_state = 41)"
   ]
  },
  {
   "cell_type": "code",
   "execution_count": null,
   "id": "df2fd3cb",
   "metadata": {},
   "outputs": [],
   "source": []
  },
  {
   "cell_type": "code",
   "execution_count": 124,
   "id": "a087a072",
   "metadata": {},
   "outputs": [
    {
     "data": {
      "text/plain": [
       "RandomForestRegressor(random_state=0)"
      ]
     },
     "execution_count": 124,
     "metadata": {},
     "output_type": "execute_result"
    }
   ],
   "source": [
    "# Although the model is much better, it does not seem to be the best one\n",
    "# Let's try the Random Forest Regressor\n",
    "from sklearn.ensemble import RandomForestRegressor\n",
    "rg = RandomForestRegressor(n_estimators = 100, max_depth=None, random_state=0)\n",
    "# Changing the series value to a DataFrame for model fitting to work\n",
    "X_train = pd.DataFrame(X_train)\n",
    "X_test = pd.DataFrame(X_test)\n",
    "rg.fit(X_train, y_train)\n"
   ]
  },
  {
   "cell_type": "code",
   "execution_count": 125,
   "id": "79824c10",
   "metadata": {},
   "outputs": [],
   "source": [
    "pred3 = rg.predict(X_test)"
   ]
  },
  {
   "cell_type": "code",
   "execution_count": 126,
   "id": "451199ba",
   "metadata": {},
   "outputs": [
    {
     "name": "stderr",
     "output_type": "stream",
     "text": [
      "/Applications/anaconda/anaconda3/lib/python3.9/site-packages/seaborn/_decorators.py:36: FutureWarning: Pass the following variables as keyword args: x, y. From version 0.12, the only valid positional argument will be `data`, and passing other arguments without an explicit keyword will result in an error or misinterpretation.\n",
      "  warnings.warn(\n"
     ]
    },
    {
     "data": {
      "text/plain": [
       "<AxesSubplot:ylabel='Annual CO₂ emissions (tonnes )'>"
      ]
     },
     "execution_count": 126,
     "metadata": {},
     "output_type": "execute_result"
    },
    {
     "data": {
      "image/png": "[encoded data removed]",
      "text/plain": [
       "<Figure size 432x288 with 1 Axes>"
      ]
     },
     "metadata": {
      "needs_background": "light"
     },
     "output_type": "display_data"
    }
   ],
   "source": [
    "sns.regplot(pred3, y_test) \n"
   ]
  },
  {
   "cell_type": "code",
   "execution_count": 127,
   "id": "3845521f",
   "metadata": {},
   "outputs": [
    {
     "data": {
      "text/plain": [
       "69101848.86833335"
      ]
     },
     "execution_count": 127,
     "metadata": {},
     "output_type": "execute_result"
    }
   ],
   "source": [
    "from sklearn.metrics import mean_absolute_error\n",
    "mean_absolute_error(pred3, y_test)"
   ]
  },
  {
   "cell_type": "code",
   "execution_count": null,
   "id": "cbfb71b2",
   "metadata": {},
   "outputs": [],
   "source": []
  },
  {
   "cell_type": "code",
   "execution_count": 128,
   "id": "4beb32d1",
   "metadata": {},
   "outputs": [],
   "source": [
    "# Random Forest Regressor IS NOT ideal for predicting future values"
   ]
  },
  {
   "cell_type": "code",
   "execution_count": 130,
   "id": "05341beb",
   "metadata": {},
   "outputs": [],
   "source": [
    "# I will try a different approach\n",
    "from sklearn.model_selection import GridSearchCV\n",
    "from sklearn.svm import SVR"
   ]
  },
  {
   "cell_type": "code",
   "execution_count": 131,
   "id": "365d4b8c",
   "metadata": {},
   "outputs": [],
   "source": [
    "#Tests different parameters to see which makes the most accurate predictions\n",
    "param_grid = {\n",
    "    \"C\": [7000, 10000, 100000],\n",
    "    \"epsilon\": [0.0001, 0.01],\n",
    "    \"kernel\" : ['linear', 'rbf', 'sigmoid'],\n",
    "    \"gamma\" : [\"scale\", \"auto\"]\n",
    "    \n",
    "}"
   ]
  },
  {
   "cell_type": "code",
   "execution_count": null,
   "id": "2e189615",
   "metadata": {},
   "outputs": [],
   "source": []
  },
  {
   "cell_type": "code",
   "execution_count": 132,
   "id": "1fd62bf6",
   "metadata": {},
   "outputs": [],
   "source": [
    "# Split the data into 5 parts\n",
    "grid_search = GridSearchCV(SVR(), param_grid, cv=5)"
   ]
  },
  {
   "cell_type": "code",
   "execution_count": 133,
   "id": "417915f1",
   "metadata": {},
   "outputs": [
    {
     "data": {
      "text/plain": [
       "GridSearchCV(cv=5, estimator=SVR(),\n",
       "             param_grid={'C': [7000, 10000, 100000], 'epsilon': [0.0001, 0.01],\n",
       "                         'gamma': ['scale', 'auto'],\n",
       "                         'kernel': ['linear', 'rbf', 'sigmoid']})"
      ]
     },
     "execution_count": 133,
     "metadata": {},
     "output_type": "execute_result"
    }
   ],
   "source": [
    "grid_search.fit(X_train, y_train)"
   ]
  },
  {
   "cell_type": "code",
   "execution_count": 134,
   "id": "2ecf3f0f",
   "metadata": {},
   "outputs": [
    {
     "data": {
      "text/plain": [
       "{'C': 100000, 'epsilon': 0.01, 'gamma': 'scale', 'kernel': 'linear'}"
      ]
     },
     "execution_count": 134,
     "metadata": {},
     "output_type": "execute_result"
    }
   ],
   "source": [
    "grid_search.best_params_"
   ]
  },
  {
   "cell_type": "code",
   "execution_count": 135,
   "id": "ef8373f1",
   "metadata": {},
   "outputs": [],
   "source": [
    "gr_p = grid_search.predict(X_test)"
   ]
  },
  {
   "cell_type": "code",
   "execution_count": 136,
   "id": "9fe6dd61",
   "metadata": {},
   "outputs": [
    {
     "name": "stderr",
     "output_type": "stream",
     "text": [
      "/Applications/anaconda/anaconda3/lib/python3.9/site-packages/seaborn/_decorators.py:36: FutureWarning: Pass the following variables as keyword args: x, y. From version 0.12, the only valid positional argument will be `data`, and passing other arguments without an explicit keyword will result in an error or misinterpretation.\n",
      "  warnings.warn(\n"
     ]
    },
    {
     "data": {
      "text/plain": [
       "<AxesSubplot:ylabel='Annual CO₂ emissions (tonnes )'>"
      ]
     },
     "execution_count": 136,
     "metadata": {},
     "output_type": "execute_result"
    },
    {
     "data": {
      "image/png": "[encoded data removed]",
      "text/plain": [
       "<Figure size 432x288 with 1 Axes>"
      ]
     },
     "metadata": {
      "needs_background": "light"
     },
     "output_type": "display_data"
    }
   ],
   "source": [
    "sns.regplot(gr_p, y_test)"
   ]
  },
  {
   "cell_type": "code",
   "execution_count": 137,
   "id": "43148259",
   "metadata": {},
   "outputs": [
    {
     "data": {
      "text/plain": [
       "662298682.6181298"
      ]
     },
     "execution_count": 137,
     "metadata": {},
     "output_type": "execute_result"
    }
   ],
   "source": [
    "mean_absolute_error(gr_p, y_test)"
   ]
  },
  {
   "cell_type": "code",
   "execution_count": null,
   "id": "33e7827a",
   "metadata": {},
   "outputs": [],
   "source": []
  },
  {
   "cell_type": "code",
   "execution_count": 25,
   "id": "32a4bf3a",
   "metadata": {},
   "outputs": [
    {
     "data": {
      "text/plain": [
       "(218,)"
      ]
     },
     "execution_count": 25,
     "metadata": {},
     "output_type": "execute_result"
    }
   ],
   "source": [
    "X.shape"
   ]
  },
  {
   "cell_type": "code",
   "execution_count": 26,
   "id": "bee51c30",
   "metadata": {},
   "outputs": [],
   "source": [
    "x_val = np.linspace(1800, 2017, 218)\n",
    "y_val = 1.01374**(x_val) * 0.00700511\n",
    "y_val2 = 1.015034 **(x_val)*0.0005431546"
   ]
  },
  {
   "cell_type": "code",
   "execution_count": 27,
   "id": "3bdbb3b8",
   "metadata": {
    "scrolled": true
   },
   "outputs": [
    {
     "data": {
      "text/plain": [
       "<matplotlib.collections.PathCollection at 0x7f9dbf8814f0>"
      ]
     },
     "execution_count": 27,
     "metadata": {},
     "output_type": "execute_result"
    },
    {
     "data": {
      "image/png": "[encoded data removed]",
      "text/plain": [
       "<Figure size 432x288 with 1 Axes>"
      ]
     },
     "metadata": {
      "needs_background": "light"
     },
     "output_type": "display_data"
    }
   ],
   "source": [
    "import matplotlib.pyplot as plt\n",
    "plt.plot(small_us['Year'], small_us['Annual CO₂ emissions (tonnes )'])\n",
    "plt.scatter(x_val, y_val2, color='red')\n"
   ]
  },
  {
   "cell_type": "code",
   "execution_count": 33,
   "id": "15a35bba",
   "metadata": {},
   "outputs": [
    {
     "data": {
      "text/plain": [
       "470290464.4495564"
      ]
     },
     "execution_count": 33,
     "metadata": {},
     "output_type": "execute_result"
    }
   ],
   "source": [
    "# The second equation makes better predictions\n",
    "mean_absolute_error(y_val2, y)"
   ]
  },
  {
   "cell_type": "code",
   "execution_count": 78,
   "id": "99fa8e3a",
   "metadata": {},
   "outputs": [
    {
     "name": "stdout",
     "output_type": "stream",
     "text": [
      "Fitted parameters: a = 1.932e+08, b = 0.01672\n"
     ]
    },
    {
     "data": {
      "image/png": "[encoded data removed]",
      "text/plain": [
       "<Figure size 720x432 with 1 Axes>"
      ]
     },
     "metadata": {
      "needs_background": "light"
     },
     "output_type": "display_data"
    }
   ],
   "source": [
    "import numpy as np\n",
    "import matplotlib.pyplot as plt\n",
    "from scipy.optimize import curve_fit\n",
    "\n",
    "# Raw data (Year and Emissions)\n",
    "year = np.array([\n",
    "    1800, 1805, 1810, 1815, 1820, 1825, 1830, 1835, 1840, 1845,\n",
    "    1850, 1855, 1860, 1865, 1870, 1875, 1880, 1885, 1890, 1895,\n",
    "    1900, 1905, 1910, 1915, 1920, 1925, 1930, 1935, 1940, 1945,\n",
    "    1950, 1955, 1960, 1965, 1970, 1975, 1980, 1985, 1990, 1995,\n",
    "    2000, 2005, 2010, 2015\n",
    "])\n",
    "\n",
    "emissions = np.array([\n",
    "    2.528160e+05, 3.407520e+05, 4.176960e+05, 6.008960e+05, 7.914240e+05,\n",
    "    1.135840e+06, 2.088480e+06, 4.316192e+06, 5.873392e+06, 1.120451e+07,\n",
    "    1.979293e+07, 3.816056e+07, 4.743781e+07, 5.882186e+07, 9.862022e+07,\n",
    "    1.357475e+08, 1.986841e+08, 2.721619e+08, 4.017466e+08, 4.799474e+08,\n",
    "    6.627370e+08, 9.844985e+08, 1.269228e+09, 1.365269e+09, 1.735890e+09,\n",
    "    1.740898e+09, 1.742210e+09, 1.490262e+09, 1.871491e+09, 2.355340e+09,\n",
    "    2.535942e+09, 2.721722e+09, 2.887820e+09, 3.388193e+09, 4.325501e+09,\n",
    "    4.400795e+09, 4.716716e+09, 4.484338e+09, 5.121264e+09, 5.439213e+09,\n",
    "    6.000606e+09, 6.132006e+09, 5.701076e+09, 5.420804e+09\n",
    "])\n",
    "\n",
    "# Define the exponential model\n",
    "def exp_model(x, a, b):\n",
    "    return a * np.exp(b * x)\n",
    "\n",
    "# Normalize years to avoid numerical overflow in exp\n",
    "x_norm = year - year.min()  # start from 0\n",
    "\n",
    "# Fit the exponential model\n",
    "params, _ = curve_fit(exp_model, x_norm, emissions, p0=(1e5, 0.03))\n",
    "a_fit, b_fit = params\n",
    "\n",
    "# Predict using the fitted model\n",
    "y_pred = exp_model(x_norm, a_fit, b_fit)\n",
    "\n",
    "# Print results\n",
    "print(f\"Fitted parameters: a = {a_fit:.3e}, b = {b_fit:.5f}\")\n",
    "\n",
    "# Plot the results\n",
    "plt.figure(figsize=(10, 6))\n",
    "plt.scatter(year, emissions, label='Actual Data', color='red')\n",
    "plt.plot(year, y_pred, label='Exponential Fit', color='blue')\n",
    "plt.xlabel(\"Year\")\n",
    "plt.ylabel(\"CO₂ Emissions (tonnes)\")\n",
    "plt.title(\"Exponential Fit to CO₂ Emissions over Time\")\n",
    "plt.legend()\n",
    "plt.yscale(\"log\")  # Optional: log scale to better see growth\n",
    "plt.grid(True)\n",
    "plt.tight_layout()\n",
    "plt.show()"
   ]
  },
  {
   "cell_type": "code",
   "execution_count": 79,
   "id": "9cfdb63f",
   "metadata": {},
   "outputs": [
    {
     "data": {
      "text/plain": [
       "389441545.4045508"
      ]
     },
     "execution_count": 79,
     "metadata": {},
     "output_type": "execute_result"
    }
   ],
   "source": [
    "mean_absolute_error(y_pred, emissions)"
   ]
  },
  {
   "cell_type": "code",
   "execution_count": 67,
   "id": "7161f4ae",
   "metadata": {},
   "outputs": [
    {
     "data": {
      "text/plain": [
       "152.6"
      ]
     },
     "execution_count": 67,
     "metadata": {},
     "output_type": "execute_result"
    }
   ],
   "source": [
    "# Shuffling the rows so that we can use 70% of the data randomly\n",
    "small_us_shuffle = small_us.sample(frac=1, random_state=42).reset_index(drop=True)\n",
    "0.7 * 218 # We want about 152 rows"
   ]
  },
  {
   "cell_type": "code",
   "execution_count": 85,
   "id": "c4192538",
   "metadata": {},
   "outputs": [],
   "source": [
    "# The shuffling is a bit unnecessary, so we can stick to the model above"
   ]
  },
  {
   "cell_type": "code",
   "execution_count": 86,
   "id": "5a8f04a1",
   "metadata": {},
   "outputs": [
    {
     "name": "stdout",
     "output_type": "stream",
     "text": [
      "Fitted parameters: a = 1.932e+08, b = 0.01672\n",
      "R² score: 0.9448\n"
     ]
    },
    {
     "data": {
      "image/png": "[encoded data removed]",
      "text/plain": [
       "<Figure size 720x432 with 1 Axes>"
      ]
     },
     "metadata": {
      "needs_background": "light"
     },
     "output_type": "display_data"
    }
   ],
   "source": [
    "import numpy as np\n",
    "import matplotlib.pyplot as plt\n",
    "from scipy.optimize import curve_fit\n",
    "from sklearn.metrics import r2_score\n",
    "\n",
    "# Data\n",
    "years = np.array([\n",
    "    1800, 1805, 1810, 1815, 1820, 1825, 1830, 1835, 1840, 1845,\n",
    "    1850, 1855, 1860, 1865, 1870, 1875, 1880, 1885, 1890, 1895,\n",
    "    1900, 1905, 1910, 1915, 1920, 1925, 1930, 1935, 1940, 1945,\n",
    "    1950, 1955, 1960, 1965, 1970, 1975, 1980, 1985, 1990, 1995,\n",
    "    2000, 2005, 2010, 2015\n",
    "])\n",
    "\n",
    "emissions = np.array([\n",
    "    2.528160e+05, 3.407520e+05, 4.176960e+05, 6.008960e+05, 7.914240e+05,\n",
    "    1.135840e+06, 2.088480e+06, 4.316192e+06, 5.873392e+06, 1.120451e+07,\n",
    "    1.979293e+07, 3.816056e+07, 4.743781e+07, 5.882186e+07, 9.862022e+07,\n",
    "    1.357475e+08, 1.986841e+08, 2.721619e+08, 4.017466e+08, 4.799474e+08,\n",
    "    6.627370e+08, 9.844985e+08, 1.269228e+09, 1.365269e+09, 1.735890e+09,\n",
    "    1.740898e+09, 1.742210e+09, 1.490262e+09, 1.871491e+09, 2.355340e+09,\n",
    "    2.535942e+09, 2.721722e+09, 2.887820e+09, 3.388193e+09, 4.325501e+09,\n",
    "    4.400795e+09, 4.716716e+09, 4.484338e+09, 5.121264e+09, 5.439213e+09,\n",
    "    6.000606e+09, 6.132006e+09, 5.701076e+09, 5.420804e+09\n",
    "])\n",
    "\n",
    "# Normalize years\n",
    "x_norm = years - years.min()\n",
    "\n",
    "# Exponential model\n",
    "def exp_model(x, a, b):\n",
    "    return a * np.exp(b * x)\n",
    "\n",
    "# Fit model\n",
    "params, _ = curve_fit(exp_model, x_norm, emissions, p0=(1e5, 0.03))\n",
    "a_fit, b_fit = params\n",
    "predictions = exp_model(x_norm, a_fit, b_fit)\n",
    "\n",
    "# R² score\n",
    "r2 = r2_score(emissions, predictions)\n",
    "print(f\"Fitted parameters: a = {a_fit:.3e}, b = {b_fit:.5f}\")\n",
    "print(f\"R² score: {r2:.4f}\")\n",
    "\n",
    "# Plot\n",
    "plt.figure(figsize=(10, 6))\n",
    "plt.scatter(years, emissions, color='red', label='Actual Data')\n",
    "plt.plot(years, predictions, color='blue', label='Exponential Fit')\n",
    "plt.xlabel(\"Year\")\n",
    "plt.ylabel(\"Annual CO₂ Emissions (tonnes)\")\n",
    "plt.title(f\"Exponential Fit to CO₂ Emissions (R² = {r2:.4f})\")\n",
    "plt.yscale(\"log\")\n",
    "plt.grid(True)\n",
    "plt.legend()\n",
    "plt.tight_layout()\n",
    "plt.show()"
   ]
  },
  {
   "cell_type": "code",
   "execution_count": 92,
   "id": "3baab596",
   "metadata": {
    "scrolled": true
   },
   "outputs": [
    {
     "data": {
      "text/plain": [
       "389441545.4045508"
      ]
     },
     "execution_count": 92,
     "metadata": {},
     "output_type": "execute_result"
    }
   ],
   "source": [
    "# This is the same model as above and it isn't the best\n",
    "mean_absolute_error(predictions, emissions)"
   ]
  },
  {
   "cell_type": "code",
   "execution_count": 88,
   "id": "26b0c786",
   "metadata": {},
   "outputs": [
    {
     "data": {
      "image/png": "[encoded data removed]",
      "text/plain": [
       "<Figure size 720x432 with 1 Axes>"
      ]
     },
     "metadata": {
      "needs_background": "light"
     },
     "output_type": "display_data"
    }
   ],
   "source": [
    "import numpy as np\n",
    "import matplotlib.pyplot as plt\n",
    "from scipy.optimize import curve_fit\n",
    "\n",
    "# Years and emissions (copy the 'years' and 'y' columns from your dataset in correct order, skipping indices)\n",
    "years = np.array([\n",
    "    1800,1805,1810,1815,1820,1825,1830,1835,1840,1845,\n",
    "    1850,1855,1860,1865,1870,1875,1880,1885,1890,1895,\n",
    "    1900,1905,1910,1915,1920,1925,1930,1935,1940,1945,\n",
    "    1950,1955,1960,1965,1970,1975,1980,1985,1990,1995,\n",
    "    2000,2005,2010,2015\n",
    "])\n",
    "emissions = np.array([\n",
    "    2.528160e+05,3.407520e+05,4.176960e+05,6.008960e+05,7.914240e+05,1.135840e+06,\n",
    "    2.088480e+06,4.316192e+06,5.873392e+06,1.120451e+07,1.979293e+07,3.816056e+07,\n",
    "    4.743781e+07,5.882186e+07,9.862022e+07,1.357475e+08,1.986841e+08,2.721619e+08,\n",
    "    4.017466e+08,4.799474e+08,6.627370e+08,9.844985e+08,1.269228e+09,1.365269e+09,\n",
    "    1.735890e+09,1.740898e+09,1.742210e+09,1.490262e+09,1.871491e+09,2.355340e+09,\n",
    "    2.535942e+09,2.721722e+09,2.887820e+09,3.388193e+09,4.325501e+09,4.400795e+09,\n",
    "    4.716716e+09,4.484338e+09,5.121264e+09,5.439213e+09,6.000606e+09,6.132006e+09,\n",
    "    5.701076e+09,5.420804e+09\n",
    "])\n",
    "\n",
    "# Logistic model: y = L / (1 + np.exp(-k*(x-x0)))\n",
    "def logistic(x, L, k, x0):\n",
    "    return L / (1 + np.exp(-k * (x - x0)))\n",
    "\n",
    "# Reasonable initial guesses for the parameters:\n",
    "L_guess = max(emissions)*1.2\n",
    "k_guess = 0.04\n",
    "x0_guess = 1950\n",
    "p0 = [L_guess, k_guess, x0_guess]\n",
    "\n",
    "params, _ = curve_fit(logistic, years, emissions, p0)\n",
    "L, k, x0 = params\n",
    "\n",
    "# Model predictions\n",
    "model_preds = logistic(years, L, k, x0)\n",
    "\n",
    "plt.figure(figsize=(10,6))\n",
    "plt.scatter(years, emissions, c='red', label='Actual Emissions')\n",
    "plt.plot(years, model_preds, label=f'Logistic Model Fit\\nL={L:2.2e}, k={k:2.4f}, x0={x0:2.1f}', color='blue')\n",
    "plt.xlabel('Year')\n",
    "plt.ylabel('Annual CO₂ emissions (tonnes)')\n",
    "plt.title('Annual CO₂ Emissions: Data vs. Logistic Model Fit')\n",
    "plt.legend()\n",
    "plt.yscale('log')  # log scale highlights fit over wide range\n",
    "plt.tight_layout()\n",
    "plt.show()\n"
   ]
  },
  {
   "cell_type": "code",
   "execution_count": 93,
   "id": "c3890aee",
   "metadata": {},
   "outputs": [
    {
     "data": {
      "text/plain": [
       "185984195.9479619"
      ]
     },
     "execution_count": 93,
     "metadata": {},
     "output_type": "execute_result"
    }
   ],
   "source": [
    "mean_absolute_error(model_preds, emissions)\n",
    "# This value is much better!"
   ]
  },
  {
   "cell_type": "code",
   "execution_count": 141,
   "id": "a8078e16",
   "metadata": {},
   "outputs": [
    {
     "data": {
      "text/plain": [
       "0.03072983207329686"
      ]
     },
     "execution_count": 141,
     "metadata": {},
     "output_type": "execute_result"
    }
   ],
   "source": [
    "# This Logistic Model is the best so far that works - only about 185,984,196 tons away from the actual values\n",
    "185984195.9479619/6052236000\n",
    "# Only about 3% of the data, so not too bad\n"
   ]
  },
  {
   "cell_type": "code",
   "execution_count": 166,
   "id": "1158805a",
   "metadata": {},
   "outputs": [],
   "source": [
    "# Creating a new array with future years\n",
    "new_array = pd.DataFrame([2030, 2040, 2050, 2060, 2070, 2080, 2090, 2100, 2110, 2120, 2130, 2140, 2150, 2160, 2170, 2180, 2190, 2200, 2210, 2220])\n",
    "\n",
    "new_array\n",
    "\n",
    "all_val = pd.DataFrame([i for i in range(2030, 2220)])\n"
   ]
  },
  {
   "cell_type": "code",
   "execution_count": 167,
   "id": "88bff4f0",
   "metadata": {},
   "outputs": [],
   "source": [
    "modelnew_pred = logistic(new_array, L, k, x0)"
   ]
  },
  {
   "cell_type": "code",
   "execution_count": 168,
   "id": "8337e055",
   "metadata": {},
   "outputs": [
    {
     "data": {
      "text/plain": [
       "Text(0.5, 1.0, 'Predicted Future USA CO2 Emissions')"
      ]
     },
     "execution_count": 168,
     "metadata": {},
     "output_type": "execute_result"
    },
    {
     "data": {
      "image/png": "[encoded data removed]",
      "text/plain": [
       "<Figure size 720x432 with 1 Axes>"
      ]
     },
     "metadata": {
      "needs_background": "light"
     },
     "output_type": "display_data"
    }
   ],
   "source": [
    "# Here are the model's predictions\n",
    "plt.figure(figsize=(10,6))\n",
    "plt.scatter(new_array, modelnew_pred, color='red')\n",
    "plt.xlabel('Year')\n",
    "plt.ylabel('Predicted Annual CO₂ emissions (tons)')\n",
    "plt.title('Predicted Future USA CO2 Emissions')"
   ]
  },
  {
   "cell_type": "code",
   "execution_count": 170,
   "id": "83681631",
   "metadata": {},
   "outputs": [
    {
     "data": {
      "text/html": [
       "<div>\n",
       "<style scoped>\n",
       "    .dataframe tbody tr th:only-of-type {\n",
       "        vertical-align: middle;\n",
       "    }\n",
       "\n",
       "    .dataframe tbody tr th {\n",
       "        vertical-align: top;\n",
       "    }\n",
       "\n",
       "    .dataframe thead th {\n",
       "        text-align: right;\n",
       "    }\n",
       "</style>\n",
       "<table border=\"1\" class=\"dataframe\">\n",
       "  <thead>\n",
       "    <tr style=\"text-align: right;\">\n",
       "      <th></th>\n",
       "      <th>0</th>\n",
       "    </tr>\n",
       "  </thead>\n",
       "  <tbody>\n",
       "    <tr>\n",
       "      <th>0</th>\n",
       "      <td>6.381119e+09</td>\n",
       "    </tr>\n",
       "    <tr>\n",
       "      <th>1</th>\n",
       "      <td>6.540634e+09</td>\n",
       "    </tr>\n",
       "    <tr>\n",
       "      <th>2</th>\n",
       "      <td>6.656528e+09</td>\n",
       "    </tr>\n",
       "    <tr>\n",
       "      <th>3</th>\n",
       "      <td>6.739702e+09</td>\n",
       "    </tr>\n",
       "    <tr>\n",
       "      <th>4</th>\n",
       "      <td>6.798869e+09</td>\n",
       "    </tr>\n",
       "    <tr>\n",
       "      <th>5</th>\n",
       "      <td>6.840695e+09</td>\n",
       "    </tr>\n",
       "    <tr>\n",
       "      <th>6</th>\n",
       "      <td>6.870131e+09</td>\n",
       "    </tr>\n",
       "    <tr>\n",
       "      <th>7</th>\n",
       "      <td>6.890783e+09</td>\n",
       "    </tr>\n",
       "    <tr>\n",
       "      <th>8</th>\n",
       "      <td>6.905240e+09</td>\n",
       "    </tr>\n",
       "    <tr>\n",
       "      <th>9</th>\n",
       "      <td>6.915345e+09</td>\n",
       "    </tr>\n",
       "    <tr>\n",
       "      <th>10</th>\n",
       "      <td>6.922400e+09</td>\n",
       "    </tr>\n",
       "    <tr>\n",
       "      <th>11</th>\n",
       "      <td>6.927323e+09</td>\n",
       "    </tr>\n",
       "    <tr>\n",
       "      <th>12</th>\n",
       "      <td>6.930755e+09</td>\n",
       "    </tr>\n",
       "    <tr>\n",
       "      <th>13</th>\n",
       "      <td>6.933148e+09</td>\n",
       "    </tr>\n",
       "    <tr>\n",
       "      <th>14</th>\n",
       "      <td>6.934815e+09</td>\n",
       "    </tr>\n",
       "    <tr>\n",
       "      <th>15</th>\n",
       "      <td>6.935977e+09</td>\n",
       "    </tr>\n",
       "    <tr>\n",
       "      <th>16</th>\n",
       "      <td>6.936786e+09</td>\n",
       "    </tr>\n",
       "    <tr>\n",
       "      <th>17</th>\n",
       "      <td>6.937350e+09</td>\n",
       "    </tr>\n",
       "    <tr>\n",
       "      <th>18</th>\n",
       "      <td>6.937743e+09</td>\n",
       "    </tr>\n",
       "    <tr>\n",
       "      <th>19</th>\n",
       "      <td>6.938016e+09</td>\n",
       "    </tr>\n",
       "  </tbody>\n",
       "</table>\n",
       "</div>"
      ],
      "text/plain": [
       "               0\n",
       "0   6.381119e+09\n",
       "1   6.540634e+09\n",
       "2   6.656528e+09\n",
       "3   6.739702e+09\n",
       "4   6.798869e+09\n",
       "5   6.840695e+09\n",
       "6   6.870131e+09\n",
       "7   6.890783e+09\n",
       "8   6.905240e+09\n",
       "9   6.915345e+09\n",
       "10  6.922400e+09\n",
       "11  6.927323e+09\n",
       "12  6.930755e+09\n",
       "13  6.933148e+09\n",
       "14  6.934815e+09\n",
       "15  6.935977e+09\n",
       "16  6.936786e+09\n",
       "17  6.937350e+09\n",
       "18  6.937743e+09\n",
       "19  6.938016e+09"
      ]
     },
     "execution_count": 170,
     "metadata": {},
     "output_type": "execute_result"
    }
   ],
   "source": [
    "modelnew_pred"
   ]
  },
  {
   "cell_type": "code",
   "execution_count": 171,
   "id": "325e219a",
   "metadata": {},
   "outputs": [
    {
     "data": {
      "text/html": [
       "<div>\n",
       "<style scoped>\n",
       "    .dataframe tbody tr th:only-of-type {\n",
       "        vertical-align: middle;\n",
       "    }\n",
       "\n",
       "    .dataframe tbody tr th {\n",
       "        vertical-align: top;\n",
       "    }\n",
       "\n",
       "    .dataframe thead th {\n",
       "        text-align: right;\n",
       "    }\n",
       "</style>\n",
       "<table border=\"1\" class=\"dataframe\">\n",
       "  <thead>\n",
       "    <tr style=\"text-align: right;\">\n",
       "      <th></th>\n",
       "      <th>0</th>\n",
       "    </tr>\n",
       "  </thead>\n",
       "  <tbody>\n",
       "    <tr>\n",
       "      <th>0</th>\n",
       "      <td>2030</td>\n",
       "    </tr>\n",
       "    <tr>\n",
       "      <th>1</th>\n",
       "      <td>2040</td>\n",
       "    </tr>\n",
       "    <tr>\n",
       "      <th>2</th>\n",
       "      <td>2050</td>\n",
       "    </tr>\n",
       "    <tr>\n",
       "      <th>3</th>\n",
       "      <td>2060</td>\n",
       "    </tr>\n",
       "    <tr>\n",
       "      <th>4</th>\n",
       "      <td>2070</td>\n",
       "    </tr>\n",
       "    <tr>\n",
       "      <th>5</th>\n",
       "      <td>2080</td>\n",
       "    </tr>\n",
       "    <tr>\n",
       "      <th>6</th>\n",
       "      <td>2090</td>\n",
       "    </tr>\n",
       "    <tr>\n",
       "      <th>7</th>\n",
       "      <td>2100</td>\n",
       "    </tr>\n",
       "    <tr>\n",
       "      <th>8</th>\n",
       "      <td>2110</td>\n",
       "    </tr>\n",
       "    <tr>\n",
       "      <th>9</th>\n",
       "      <td>2120</td>\n",
       "    </tr>\n",
       "    <tr>\n",
       "      <th>10</th>\n",
       "      <td>2130</td>\n",
       "    </tr>\n",
       "    <tr>\n",
       "      <th>11</th>\n",
       "      <td>2140</td>\n",
       "    </tr>\n",
       "    <tr>\n",
       "      <th>12</th>\n",
       "      <td>2150</td>\n",
       "    </tr>\n",
       "    <tr>\n",
       "      <th>13</th>\n",
       "      <td>2160</td>\n",
       "    </tr>\n",
       "    <tr>\n",
       "      <th>14</th>\n",
       "      <td>2170</td>\n",
       "    </tr>\n",
       "    <tr>\n",
       "      <th>15</th>\n",
       "      <td>2180</td>\n",
       "    </tr>\n",
       "    <tr>\n",
       "      <th>16</th>\n",
       "      <td>2190</td>\n",
       "    </tr>\n",
       "    <tr>\n",
       "      <th>17</th>\n",
       "      <td>2200</td>\n",
       "    </tr>\n",
       "    <tr>\n",
       "      <th>18</th>\n",
       "      <td>2210</td>\n",
       "    </tr>\n",
       "    <tr>\n",
       "      <th>19</th>\n",
       "      <td>2220</td>\n",
       "    </tr>\n",
       "  </tbody>\n",
       "</table>\n",
       "</div>"
      ],
      "text/plain": [
       "       0\n",
       "0   2030\n",
       "1   2040\n",
       "2   2050\n",
       "3   2060\n",
       "4   2070\n",
       "5   2080\n",
       "6   2090\n",
       "7   2100\n",
       "8   2110\n",
       "9   2120\n",
       "10  2130\n",
       "11  2140\n",
       "12  2150\n",
       "13  2160\n",
       "14  2170\n",
       "15  2180\n",
       "16  2190\n",
       "17  2200\n",
       "18  2210\n",
       "19  2220"
      ]
     },
     "execution_count": 171,
     "metadata": {},
     "output_type": "execute_result"
    }
   ],
   "source": [
    "new_array"
   ]
  },
  {
   "cell_type": "code",
   "execution_count": null,
   "id": "3fceb8b7",
   "metadata": {},
   "outputs": [],
   "source": []
  },
  {
   "cell_type": "code",
   "execution_count": null,
   "id": "0e782cff",
   "metadata": {},
   "outputs": [],
   "source": []
  }
 ],
 "metadata": {
  "kernelspec": {
   "display_name": "Python 3 (ipykernel)",
   "language": "python",
   "name": "python3"
  },
  "language_info": {
   "codemirror_mode": {
    "name": "ipython",
    "version": 3
   },
   "file_extension": ".py",
   "mimetype": "text/x-python",
   "name": "python",
   "nbconvert_exporter": "python",
   "pygments_lexer": "ipython3",
   "version": "3.9.7"
  }
 },
 "nbformat": 4,
 "nbformat_minor": 5
}
