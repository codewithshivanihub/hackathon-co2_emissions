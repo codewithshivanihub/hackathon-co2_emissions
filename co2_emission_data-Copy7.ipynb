{
 "cells": [
  {
   "cell_type": "code",
   "execution_count": 2,
   "id": "68afc9a8",
   "metadata": {},
   "outputs": [],
   "source": [
    "import pandas as pd\n",
    "import seaborn as sns\n",
    "import os "
   ]
  },
  {
   "cell_type": "code",
   "execution_count": 3,
   "id": "f0982a10",
   "metadata": {},
   "outputs": [
    {
     "data": {
      "text/plain": [
       "'/Users/venkat'"
      ]
     },
     "execution_count": 3,
     "metadata": {},
     "output_type": "execute_result"
    }
   ],
   "source": [
    "os.getcwd()"
   ]
  },
  {
   "cell_type": "code",
   "execution_count": 4,
   "id": "ed713069",
   "metadata": {},
   "outputs": [],
   "source": [
    "os.chdir('/Users/venkat/Documents')"
   ]
  },
  {
   "cell_type": "code",
   "execution_count": 5,
   "id": "5f9966ef",
   "metadata": {},
   "outputs": [],
   "source": [
    "# Accessing the dataset that provides details about CO2 emissions\n",
    "co2_data = pd.read_csv('co2_emission.csv')"
   ]
  },
  {
   "cell_type": "code",
   "execution_count": 6,
   "id": "866baf0e",
   "metadata": {},
   "outputs": [
    {
     "data": {
      "text/html": [
       "<div>\n",
       "<style scoped>\n",
       "    .dataframe tbody tr th:only-of-type {\n",
       "        vertical-align: middle;\n",
       "    }\n",
       "\n",
       "    .dataframe tbody tr th {\n",
       "        vertical-align: top;\n",
       "    }\n",
       "\n",
       "    .dataframe thead th {\n",
       "        text-align: right;\n",
       "    }\n",
       "</style>\n",
       "<table border=\"1\" class=\"dataframe\">\n",
       "  <thead>\n",
       "    <tr style=\"text-align: right;\">\n",
       "      <th></th>\n",
       "      <th>Entity</th>\n",
       "      <th>Code</th>\n",
       "      <th>Year</th>\n",
       "      <th>Annual CO₂ emissions (tonnes )</th>\n",
       "    </tr>\n",
       "  </thead>\n",
       "  <tbody>\n",
       "    <tr>\n",
       "      <th>0</th>\n",
       "      <td>Afghanistan</td>\n",
       "      <td>AFG</td>\n",
       "      <td>1949</td>\n",
       "      <td>14656.0</td>\n",
       "    </tr>\n",
       "    <tr>\n",
       "      <th>1</th>\n",
       "      <td>Afghanistan</td>\n",
       "      <td>AFG</td>\n",
       "      <td>1950</td>\n",
       "      <td>84272.0</td>\n",
       "    </tr>\n",
       "    <tr>\n",
       "      <th>2</th>\n",
       "      <td>Afghanistan</td>\n",
       "      <td>AFG</td>\n",
       "      <td>1951</td>\n",
       "      <td>91600.0</td>\n",
       "    </tr>\n",
       "    <tr>\n",
       "      <th>3</th>\n",
       "      <td>Afghanistan</td>\n",
       "      <td>AFG</td>\n",
       "      <td>1952</td>\n",
       "      <td>91600.0</td>\n",
       "    </tr>\n",
       "    <tr>\n",
       "      <th>4</th>\n",
       "      <td>Afghanistan</td>\n",
       "      <td>AFG</td>\n",
       "      <td>1953</td>\n",
       "      <td>106256.0</td>\n",
       "    </tr>\n",
       "  </tbody>\n",
       "</table>\n",
       "</div>"
      ],
      "text/plain": [
       "        Entity Code  Year  Annual CO₂ emissions (tonnes )\n",
       "0  Afghanistan  AFG  1949                         14656.0\n",
       "1  Afghanistan  AFG  1950                         84272.0\n",
       "2  Afghanistan  AFG  1951                         91600.0\n",
       "3  Afghanistan  AFG  1952                         91600.0\n",
       "4  Afghanistan  AFG  1953                        106256.0"
      ]
     },
     "execution_count": 6,
     "metadata": {},
     "output_type": "execute_result"
    }
   ],
   "source": [
    "# Investigating the data\n",
    "co2_data.head()"
   ]
  },
  {
   "cell_type": "code",
   "execution_count": 7,
   "id": "2158c551",
   "metadata": {},
   "outputs": [
    {
     "data": {
      "text/plain": [
       "Statistical differences      267\n",
       "Asia and Pacific (other)     267\n",
       "EU-28                        267\n",
       "Europe (other)               267\n",
       "Americas (other)             267\n",
       "                            ... \n",
       "Antarctic Fisheries           21\n",
       "Wallis and Futuna Islands     17\n",
       "Timor                         16\n",
       "Christmas Island              14\n",
       "Liechtenstein                 11\n",
       "Name: Entity, Length: 233, dtype: int64"
      ]
     },
     "execution_count": 7,
     "metadata": {},
     "output_type": "execute_result"
    }
   ],
   "source": [
    "co2_data['Entity'].value_counts()"
   ]
  },
  {
   "cell_type": "code",
   "execution_count": 8,
   "id": "e3677cda",
   "metadata": {},
   "outputs": [
    {
     "data": {
      "text/plain": [
       "OWID_WRL    267\n",
       "USA         267\n",
       "GBR         267\n",
       "IND         256\n",
       "CHN         254\n",
       "           ... \n",
       "MHL          26\n",
       "KGZ          26\n",
       "TLS          16\n",
       "CXR          14\n",
       "LIE          11\n",
       "Name: Code, Length: 222, dtype: int64"
      ]
     },
     "execution_count": 8,
     "metadata": {},
     "output_type": "execute_result"
    }
   ],
   "source": [
    "co2_data['Code'].value_counts()"
   ]
  },
  {
   "cell_type": "code",
   "execution_count": 9,
   "id": "ed62031a",
   "metadata": {},
   "outputs": [
    {
     "data": {
      "text/plain": [
       "19394    1751\n",
       "20353    1751\n",
       "19661    1751\n",
       "1251     1751\n",
       "9204     1751\n",
       "         ... \n",
       "15193    2017\n",
       "3498     2017\n",
       "15341    2017\n",
       "14436    2017\n",
       "20852    2017\n",
       "Name: Year, Length: 20853, dtype: int64"
      ]
     },
     "execution_count": 9,
     "metadata": {},
     "output_type": "execute_result"
    }
   ],
   "source": [
    "# The years range from 1751 to 2017\n",
    "co2_data['Year'].sort_values()"
   ]
  },
  {
   "cell_type": "code",
   "execution_count": 10,
   "id": "4692605c",
   "metadata": {},
   "outputs": [
    {
     "data": {
      "text/plain": [
       "count    2.085300e+04\n",
       "mean     1.930517e+08\n",
       "std      1.345143e+09\n",
       "min     -6.255223e+08\n",
       "25%      3.187680e+05\n",
       "50%      3.828880e+06\n",
       "75%      3.706898e+07\n",
       "max      3.615326e+10\n",
       "Name: Annual CO₂ emissions (tonnes ), dtype: float64"
      ]
     },
     "execution_count": 10,
     "metadata": {},
     "output_type": "execute_result"
    }
   ],
   "source": [
    "co2_data['Annual CO₂ emissions (tonnes )'].describe()"
   ]
  },
  {
   "cell_type": "code",
   "execution_count": 11,
   "id": "9d3eb245",
   "metadata": {},
   "outputs": [
    {
     "data": {
      "text/plain": [
       "(20853, 4)"
      ]
     },
     "execution_count": 11,
     "metadata": {},
     "output_type": "execute_result"
    }
   ],
   "source": [
    "co2_data.shape"
   ]
  },
  {
   "cell_type": "code",
   "execution_count": 12,
   "id": "66e9c5ff",
   "metadata": {},
   "outputs": [],
   "source": [
    "# There are also calculations within the data\n",
    "#co2_data[co2_data['Annual CO₂ emissions (tonnes )']<0]"
   ]
  },
  {
   "cell_type": "code",
   "execution_count": 13,
   "id": "ad5f106d",
   "metadata": {},
   "outputs": [],
   "source": [
    "# Since we are focusing only on the actual data per year, we can remove this data\n",
    "new_data = co2_data[co2_data['Entity']!='Statistical differences']"
   ]
  },
  {
   "cell_type": "code",
   "execution_count": 14,
   "id": "657aa881",
   "metadata": {},
   "outputs": [
    {
     "data": {
      "text/plain": [
       "Entity                             object\n",
       "Code                               object\n",
       "Year                                int64\n",
       "Annual CO₂ emissions (tonnes )    float64\n",
       "dtype: object"
      ]
     },
     "execution_count": 14,
     "metadata": {},
     "output_type": "execute_result"
    }
   ],
   "source": [
    "# We can find what values are correlated with the annual CO2 emissions\n",
    "# Entity and Code are basically the same\n",
    "# year should have some correlation with emission increase\n",
    "new_data.dtypes"
   ]
  },
  {
   "cell_type": "code",
   "execution_count": 15,
   "id": "a7728a64",
   "metadata": {},
   "outputs": [],
   "source": [
    "# Focusing on data in America specifically\n",
    "us_data = new_data[new_data['Code']=='USA']"
   ]
  },
  {
   "cell_type": "code",
   "execution_count": 16,
   "id": "638d9562",
   "metadata": {},
   "outputs": [
    {
     "name": "stderr",
     "output_type": "stream",
     "text": [
      "/Applications/anaconda/anaconda3/lib/python3.9/site-packages/seaborn/_decorators.py:36: FutureWarning: Pass the following variables as keyword args: x, y. From version 0.12, the only valid positional argument will be `data`, and passing other arguments without an explicit keyword will result in an error or misinterpretation.\n",
      "  warnings.warn(\n"
     ]
    },
    {
     "data": {
      "text/plain": [
       "<AxesSubplot:xlabel='Year', ylabel='Annual CO₂ emissions (tonnes )'>"
      ]
     },
     "execution_count": 16,
     "metadata": {},
     "output_type": "execute_result"
    },
    {
     "data": {
      "image/png": "[encoded data removed]",
      "text/plain": [
       "<Figure size 432x288 with 1 Axes>"
      ]
     },
     "metadata": {
      "needs_background": "light"
     },
     "output_type": "display_data"
    }
   ],
   "source": [
    "# There seems to be some correlation, but it is not a linear relationship\n",
    "sns.regplot(us_data['Year'], us_data['Annual CO₂ emissions (tonnes )'])"
   ]
  },
  {
   "cell_type": "markdown",
   "id": "541bc47e",
   "metadata": {},
   "source": [
    "# Part 2 - Working on finding correlations in the data"
   ]
  },
  {
   "cell_type": "code",
   "execution_count": 17,
   "id": "51c4e634",
   "metadata": {},
   "outputs": [
    {
     "data": {
      "text/plain": [
       "<AxesSubplot:>"
      ]
     },
     "execution_count": 17,
     "metadata": {},
     "output_type": "execute_result"
    },
    {
     "data": {
      "image/png": "[encoded data removed]",
      "text/plain": [
       "<Figure size 432x288 with 2 Axes>"
      ]
     },
     "metadata": {
      "needs_background": "light"
     },
     "output_type": "display_data"
    }
   ],
   "source": [
    "# Clearly, the year DOES have a correlation with the annual CO2 emissions in tons\n",
    "sns.heatmap(us_data.corr(), annot=True)"
   ]
  },
  {
   "cell_type": "code",
   "execution_count": 18,
   "id": "3bf30037",
   "metadata": {},
   "outputs": [
    {
     "name": "stderr",
     "output_type": "stream",
     "text": [
      "/var/folders/6t/qwygyn5x50q_0vj6xlykk_xh0000gp/T/ipykernel_2607/2178863008.py:5: SettingWithCopyWarning: \n",
      "A value is trying to be set on a copy of a slice from a DataFrame.\n",
      "Try using .loc[row_indexer,col_indexer] = value instead\n",
      "\n",
      "See the caveats in the documentation: https://pandas.pydata.org/pandas-docs/stable/user_guide/indexing.html#returning-a-view-versus-a-copy\n",
      "  str_data[col] = str_data[col].astype('category')\n",
      "/var/folders/6t/qwygyn5x50q_0vj6xlykk_xh0000gp/T/ipykernel_2607/2178863008.py:6: SettingWithCopyWarning: \n",
      "A value is trying to be set on a copy of a slice from a DataFrame.\n",
      "Try using .loc[row_indexer,col_indexer] = value instead\n",
      "\n",
      "See the caveats in the documentation: https://pandas.pydata.org/pandas-docs/stable/user_guide/indexing.html#returning-a-view-versus-a-copy\n",
      "  str_data[col] = str_data[col].cat.codes\n"
     ]
    }
   ],
   "source": [
    "# Let's see if the string data has a correlation with CO2 emissions\n",
    "str_data = new_data\n",
    "for col in str_data.columns:\n",
    "    if(str_data[col].dtype=='object'):\n",
    "        str_data[col] = str_data[col].astype('category')\n",
    "        str_data[col] = str_data[col].cat.codes"
   ]
  },
  {
   "cell_type": "code",
   "execution_count": 19,
   "id": "03ac790a",
   "metadata": {},
   "outputs": [
    {
     "data": {
      "text/html": [
       "<div>\n",
       "<style scoped>\n",
       "    .dataframe tbody tr th:only-of-type {\n",
       "        vertical-align: middle;\n",
       "    }\n",
       "\n",
       "    .dataframe tbody tr th {\n",
       "        vertical-align: top;\n",
       "    }\n",
       "\n",
       "    .dataframe thead th {\n",
       "        text-align: right;\n",
       "    }\n",
       "</style>\n",
       "<table border=\"1\" class=\"dataframe\">\n",
       "  <thead>\n",
       "    <tr style=\"text-align: right;\">\n",
       "      <th></th>\n",
       "      <th>Entity</th>\n",
       "      <th>Code</th>\n",
       "      <th>Year</th>\n",
       "      <th>Annual CO₂ emissions (tonnes )</th>\n",
       "    </tr>\n",
       "  </thead>\n",
       "  <tbody>\n",
       "    <tr>\n",
       "      <th>0</th>\n",
       "      <td>0</td>\n",
       "      <td>1</td>\n",
       "      <td>1949</td>\n",
       "      <td>14656.00</td>\n",
       "    </tr>\n",
       "    <tr>\n",
       "      <th>1</th>\n",
       "      <td>0</td>\n",
       "      <td>1</td>\n",
       "      <td>1950</td>\n",
       "      <td>84272.00</td>\n",
       "    </tr>\n",
       "    <tr>\n",
       "      <th>2</th>\n",
       "      <td>0</td>\n",
       "      <td>1</td>\n",
       "      <td>1951</td>\n",
       "      <td>91600.00</td>\n",
       "    </tr>\n",
       "    <tr>\n",
       "      <th>3</th>\n",
       "      <td>0</td>\n",
       "      <td>1</td>\n",
       "      <td>1952</td>\n",
       "      <td>91600.00</td>\n",
       "    </tr>\n",
       "    <tr>\n",
       "      <th>4</th>\n",
       "      <td>0</td>\n",
       "      <td>1</td>\n",
       "      <td>1953</td>\n",
       "      <td>106256.00</td>\n",
       "    </tr>\n",
       "    <tr>\n",
       "      <th>...</th>\n",
       "      <td>...</td>\n",
       "      <td>...</td>\n",
       "      <td>...</td>\n",
       "      <td>...</td>\n",
       "    </tr>\n",
       "    <tr>\n",
       "      <th>20848</th>\n",
       "      <td>231</td>\n",
       "      <td>221</td>\n",
       "      <td>2013</td>\n",
       "      <td>11536239.29</td>\n",
       "    </tr>\n",
       "    <tr>\n",
       "      <th>20849</th>\n",
       "      <td>231</td>\n",
       "      <td>221</td>\n",
       "      <td>2014</td>\n",
       "      <td>11866348.41</td>\n",
       "    </tr>\n",
       "    <tr>\n",
       "      <th>20850</th>\n",
       "      <td>231</td>\n",
       "      <td>221</td>\n",
       "      <td>2015</td>\n",
       "      <td>10907603.94</td>\n",
       "    </tr>\n",
       "    <tr>\n",
       "      <th>20851</th>\n",
       "      <td>231</td>\n",
       "      <td>221</td>\n",
       "      <td>2016</td>\n",
       "      <td>9932649.88</td>\n",
       "    </tr>\n",
       "    <tr>\n",
       "      <th>20852</th>\n",
       "      <td>231</td>\n",
       "      <td>221</td>\n",
       "      <td>2017</td>\n",
       "      <td>10397718.47</td>\n",
       "    </tr>\n",
       "  </tbody>\n",
       "</table>\n",
       "<p>20586 rows × 4 columns</p>\n",
       "</div>"
      ],
      "text/plain": [
       "       Entity  Code  Year  Annual CO₂ emissions (tonnes )\n",
       "0           0     1  1949                        14656.00\n",
       "1           0     1  1950                        84272.00\n",
       "2           0     1  1951                        91600.00\n",
       "3           0     1  1952                        91600.00\n",
       "4           0     1  1953                       106256.00\n",
       "...       ...   ...   ...                             ...\n",
       "20848     231   221  2013                     11536239.29\n",
       "20849     231   221  2014                     11866348.41\n",
       "20850     231   221  2015                     10907603.94\n",
       "20851     231   221  2016                      9932649.88\n",
       "20852     231   221  2017                     10397718.47\n",
       "\n",
       "[20586 rows x 4 columns]"
      ]
     },
     "execution_count": 19,
     "metadata": {},
     "output_type": "execute_result"
    }
   ],
   "source": [
    "str_data"
   ]
  },
  {
   "cell_type": "code",
   "execution_count": 20,
   "id": "ecfa81af",
   "metadata": {},
   "outputs": [
    {
     "data": {
      "text/plain": [
       "Entity                            0\n",
       "Code                              0\n",
       "Year                              0\n",
       "Annual CO₂ emissions (tonnes )    0\n",
       "dtype: int64"
      ]
     },
     "execution_count": 20,
     "metadata": {},
     "output_type": "execute_result"
    }
   ],
   "source": [
    "# No NULL values\n",
    "str_data.isnull().sum()"
   ]
  },
  {
   "cell_type": "code",
   "execution_count": 21,
   "id": "a32f0a6c",
   "metadata": {},
   "outputs": [
    {
     "data": {
      "text/plain": [
       "71     267\n",
       "138    267\n",
       "63     267\n",
       "4      267\n",
       "228    267\n",
       "      ... \n",
       "8       21\n",
       "227     17\n",
       "208     16\n",
       "46      14\n",
       "121     11\n",
       "Name: Entity, Length: 232, dtype: int64"
      ]
     },
     "execution_count": 21,
     "metadata": {},
     "output_type": "execute_result"
    }
   ],
   "source": [
    "# The number of each value is similar to the very start, so it seems that cat codes worked\n",
    "str_data['Entity'].value_counts()"
   ]
  },
  {
   "cell_type": "code",
   "execution_count": 22,
   "id": "c1e76e1b",
   "metadata": {},
   "outputs": [
    {
     "data": {
      "text/plain": [
       "<AxesSubplot:>"
      ]
     },
     "execution_count": 22,
     "metadata": {},
     "output_type": "execute_result"
    },
    {
     "data": {
      "image/png": "[encoded data removed]",
      "text/plain": [
       "<Figure size 432x288 with 2 Axes>"
      ]
     },
     "metadata": {
      "needs_background": "light"
     },
     "output_type": "display_data"
    }
   ],
   "source": [
    "sns.heatmap(str_data.corr(), annot=True)"
   ]
  },
  {
   "cell_type": "code",
   "execution_count": 23,
   "id": "cd8b97f9",
   "metadata": {},
   "outputs": [],
   "source": [
    "isolated_data = str_data[['Entity', 'Annual CO₂ emissions (tonnes )']].corr()"
   ]
  },
  {
   "cell_type": "code",
   "execution_count": 24,
   "id": "5aa16169",
   "metadata": {},
   "outputs": [
    {
     "data": {
      "text/plain": [
       "<AxesSubplot:>"
      ]
     },
     "execution_count": 24,
     "metadata": {},
     "output_type": "execute_result"
    },
    {
     "data": {
      "image/png": "[encoded data removed]",
      "text/plain": [
       "<Figure size 432x288 with 2 Axes>"
      ]
     },
     "metadata": {
      "needs_background": "light"
     },
     "output_type": "display_data"
    }
   ],
   "source": [
    "sns.heatmap(isolated_data, annot=True)"
   ]
  },
  {
   "cell_type": "code",
   "execution_count": 25,
   "id": "8c525aef",
   "metadata": {},
   "outputs": [],
   "source": [
    "# The location does not directly affect the annual carbon dioxide emissions, but it seems that the year does DEPENDING on the location\n",
    "# Let us investigate the year correlation with the CO2 emissions in other countries"
   ]
  },
  {
   "cell_type": "markdown",
   "id": "83cd8db4",
   "metadata": {},
   "source": [
    "# Part Three - Do Some Countries Have Higher Correlations?"
   ]
  },
  {
   "cell_type": "code",
   "execution_count": 26,
   "id": "32bb69bb",
   "metadata": {},
   "outputs": [
    {
     "data": {
      "text/plain": [
       "OWID_WRL    267\n",
       "USA         267\n",
       "GBR         267\n",
       "IND         256\n",
       "CHN         254\n",
       "           ... \n",
       "MHL          26\n",
       "KGZ          26\n",
       "TLS          16\n",
       "CXR          14\n",
       "LIE          11\n",
       "Name: Code, Length: 222, dtype: int64"
      ]
     },
     "execution_count": 26,
     "metadata": {},
     "output_type": "execute_result"
    }
   ],
   "source": [
    "# Research online shows that the top 5 carbon dioxide emissions come from: US, China, Russia, Brazil and Indonesia\n",
    "co2_data['Code'].value_counts()"
   ]
  },
  {
   "cell_type": "code",
   "execution_count": 27,
   "id": "31ca7cc6",
   "metadata": {},
   "outputs": [],
   "source": [
    "china_data = co2_data[co2_data['Code']=='CHN']\n",
    "russia_data = co2_data[co2_data['Code']=='RUS']\n",
    "brazil_data = co2_data[co2_data['Code']=='BRA']\n",
    "indonesia_data= co2_data[co2_data['Code']=='IDN']"
   ]
  },
  {
   "cell_type": "code",
   "execution_count": 28,
   "id": "7388fb62",
   "metadata": {},
   "outputs": [
    {
     "data": {
      "text/html": [
       "<div>\n",
       "<style scoped>\n",
       "    .dataframe tbody tr th:only-of-type {\n",
       "        vertical-align: middle;\n",
       "    }\n",
       "\n",
       "    .dataframe tbody tr th {\n",
       "        vertical-align: top;\n",
       "    }\n",
       "\n",
       "    .dataframe thead th {\n",
       "        text-align: right;\n",
       "    }\n",
       "</style>\n",
       "<table border=\"1\" class=\"dataframe\">\n",
       "  <thead>\n",
       "    <tr style=\"text-align: right;\">\n",
       "      <th></th>\n",
       "      <th>Entity</th>\n",
       "      <th>Code</th>\n",
       "      <th>Year</th>\n",
       "      <th>Annual CO₂ emissions (tonnes )</th>\n",
       "    </tr>\n",
       "  </thead>\n",
       "  <tbody>\n",
       "    <tr>\n",
       "      <th>4231</th>\n",
       "      <td>China</td>\n",
       "      <td>CHN</td>\n",
       "      <td>1751</td>\n",
       "      <td>0.000000e+00</td>\n",
       "    </tr>\n",
       "    <tr>\n",
       "      <th>4232</th>\n",
       "      <td>China</td>\n",
       "      <td>CHN</td>\n",
       "      <td>1752</td>\n",
       "      <td>0.000000e+00</td>\n",
       "    </tr>\n",
       "    <tr>\n",
       "      <th>4233</th>\n",
       "      <td>China</td>\n",
       "      <td>CHN</td>\n",
       "      <td>1753</td>\n",
       "      <td>0.000000e+00</td>\n",
       "    </tr>\n",
       "    <tr>\n",
       "      <th>4234</th>\n",
       "      <td>China</td>\n",
       "      <td>CHN</td>\n",
       "      <td>1754</td>\n",
       "      <td>0.000000e+00</td>\n",
       "    </tr>\n",
       "    <tr>\n",
       "      <th>4235</th>\n",
       "      <td>China</td>\n",
       "      <td>CHN</td>\n",
       "      <td>1755</td>\n",
       "      <td>0.000000e+00</td>\n",
       "    </tr>\n",
       "    <tr>\n",
       "      <th>...</th>\n",
       "      <td>...</td>\n",
       "      <td>...</td>\n",
       "      <td>...</td>\n",
       "      <td>...</td>\n",
       "    </tr>\n",
       "    <tr>\n",
       "      <th>4480</th>\n",
       "      <td>China</td>\n",
       "      <td>CHN</td>\n",
       "      <td>2013</td>\n",
       "      <td>9.796527e+09</td>\n",
       "    </tr>\n",
       "    <tr>\n",
       "      <th>4481</th>\n",
       "      <td>China</td>\n",
       "      <td>CHN</td>\n",
       "      <td>2014</td>\n",
       "      <td>9.820360e+09</td>\n",
       "    </tr>\n",
       "    <tr>\n",
       "      <th>4482</th>\n",
       "      <td>China</td>\n",
       "      <td>CHN</td>\n",
       "      <td>2015</td>\n",
       "      <td>9.716468e+09</td>\n",
       "    </tr>\n",
       "    <tr>\n",
       "      <th>4483</th>\n",
       "      <td>China</td>\n",
       "      <td>CHN</td>\n",
       "      <td>2016</td>\n",
       "      <td>9.704479e+09</td>\n",
       "    </tr>\n",
       "    <tr>\n",
       "      <th>4484</th>\n",
       "      <td>China</td>\n",
       "      <td>CHN</td>\n",
       "      <td>2017</td>\n",
       "      <td>9.838754e+09</td>\n",
       "    </tr>\n",
       "  </tbody>\n",
       "</table>\n",
       "<p>254 rows × 4 columns</p>\n",
       "</div>"
      ],
      "text/plain": [
       "     Entity Code  Year  Annual CO₂ emissions (tonnes )\n",
       "4231  China  CHN  1751                    0.000000e+00\n",
       "4232  China  CHN  1752                    0.000000e+00\n",
       "4233  China  CHN  1753                    0.000000e+00\n",
       "4234  China  CHN  1754                    0.000000e+00\n",
       "4235  China  CHN  1755                    0.000000e+00\n",
       "...     ...  ...   ...                             ...\n",
       "4480  China  CHN  2013                    9.796527e+09\n",
       "4481  China  CHN  2014                    9.820360e+09\n",
       "4482  China  CHN  2015                    9.716468e+09\n",
       "4483  China  CHN  2016                    9.704479e+09\n",
       "4484  China  CHN  2017                    9.838754e+09\n",
       "\n",
       "[254 rows x 4 columns]"
      ]
     },
     "execution_count": 28,
     "metadata": {},
     "output_type": "execute_result"
    }
   ],
   "source": [
    "china_data.sort_values(by = 'Year', ascending=True)"
   ]
  },
  {
   "cell_type": "code",
   "execution_count": 29,
   "id": "6545440a",
   "metadata": {},
   "outputs": [
    {
     "name": "stdout",
     "output_type": "stream",
     "text": [
      "(59, 4)\n"
     ]
    },
    {
     "data": {
      "text/html": [
       "<div>\n",
       "<style scoped>\n",
       "    .dataframe tbody tr th:only-of-type {\n",
       "        vertical-align: middle;\n",
       "    }\n",
       "\n",
       "    .dataframe tbody tr th {\n",
       "        vertical-align: top;\n",
       "    }\n",
       "\n",
       "    .dataframe thead th {\n",
       "        text-align: right;\n",
       "    }\n",
       "</style>\n",
       "<table border=\"1\" class=\"dataframe\">\n",
       "  <thead>\n",
       "    <tr style=\"text-align: right;\">\n",
       "      <th></th>\n",
       "      <th>Entity</th>\n",
       "      <th>Code</th>\n",
       "      <th>Year</th>\n",
       "      <th>Annual CO₂ emissions (tonnes )</th>\n",
       "    </tr>\n",
       "  </thead>\n",
       "  <tbody>\n",
       "    <tr>\n",
       "      <th>15636</th>\n",
       "      <td>Russia</td>\n",
       "      <td>RUS</td>\n",
       "      <td>1959</td>\n",
       "      <td>8.547876e+08</td>\n",
       "    </tr>\n",
       "    <tr>\n",
       "      <th>15637</th>\n",
       "      <td>Russia</td>\n",
       "      <td>RUS</td>\n",
       "      <td>1960</td>\n",
       "      <td>8.899830e+08</td>\n",
       "    </tr>\n",
       "    <tr>\n",
       "      <th>15638</th>\n",
       "      <td>Russia</td>\n",
       "      <td>RUS</td>\n",
       "      <td>1961</td>\n",
       "      <td>9.178258e+08</td>\n",
       "    </tr>\n",
       "    <tr>\n",
       "      <th>15639</th>\n",
       "      <td>Russia</td>\n",
       "      <td>RUS</td>\n",
       "      <td>1962</td>\n",
       "      <td>9.633179e+08</td>\n",
       "    </tr>\n",
       "    <tr>\n",
       "      <th>15640</th>\n",
       "      <td>Russia</td>\n",
       "      <td>RUS</td>\n",
       "      <td>1963</td>\n",
       "      <td>1.033106e+09</td>\n",
       "    </tr>\n",
       "  </tbody>\n",
       "</table>\n",
       "</div>"
      ],
      "text/plain": [
       "       Entity Code  Year  Annual CO₂ emissions (tonnes )\n",
       "15636  Russia  RUS  1959                    8.547876e+08\n",
       "15637  Russia  RUS  1960                    8.899830e+08\n",
       "15638  Russia  RUS  1961                    9.178258e+08\n",
       "15639  Russia  RUS  1962                    9.633179e+08\n",
       "15640  Russia  RUS  1963                    1.033106e+09"
      ]
     },
     "execution_count": 29,
     "metadata": {},
     "output_type": "execute_result"
    }
   ],
   "source": [
    "print(russia_data.shape) # Note that there is very little data on Russia (Only starts from 1959)\n",
    "russia_data.head()"
   ]
  },
  {
   "cell_type": "code",
   "execution_count": 30,
   "id": "1c505194",
   "metadata": {},
   "outputs": [
    {
     "data": {
      "text/html": [
       "<div>\n",
       "<style scoped>\n",
       "    .dataframe tbody tr th:only-of-type {\n",
       "        vertical-align: middle;\n",
       "    }\n",
       "\n",
       "    .dataframe tbody tr th {\n",
       "        vertical-align: top;\n",
       "    }\n",
       "\n",
       "    .dataframe thead th {\n",
       "        text-align: right;\n",
       "    }\n",
       "</style>\n",
       "<table border=\"1\" class=\"dataframe\">\n",
       "  <thead>\n",
       "    <tr style=\"text-align: right;\">\n",
       "      <th></th>\n",
       "      <th>Entity</th>\n",
       "      <th>Code</th>\n",
       "      <th>Year</th>\n",
       "      <th>Annual CO₂ emissions (tonnes )</th>\n",
       "    </tr>\n",
       "  </thead>\n",
       "  <tbody>\n",
       "    <tr>\n",
       "      <th>2980</th>\n",
       "      <td>Brazil</td>\n",
       "      <td>BRA</td>\n",
       "      <td>1901</td>\n",
       "      <td>2103136.0</td>\n",
       "    </tr>\n",
       "    <tr>\n",
       "      <th>2981</th>\n",
       "      <td>Brazil</td>\n",
       "      <td>BRA</td>\n",
       "      <td>1902</td>\n",
       "      <td>2506176.0</td>\n",
       "    </tr>\n",
       "    <tr>\n",
       "      <th>2982</th>\n",
       "      <td>Brazil</td>\n",
       "      <td>BRA</td>\n",
       "      <td>1903</td>\n",
       "      <td>2440224.0</td>\n",
       "    </tr>\n",
       "    <tr>\n",
       "      <th>2983</th>\n",
       "      <td>Brazil</td>\n",
       "      <td>BRA</td>\n",
       "      <td>1904</td>\n",
       "      <td>2619760.0</td>\n",
       "    </tr>\n",
       "    <tr>\n",
       "      <th>2984</th>\n",
       "      <td>Brazil</td>\n",
       "      <td>BRA</td>\n",
       "      <td>1905</td>\n",
       "      <td>2799296.0</td>\n",
       "    </tr>\n",
       "    <tr>\n",
       "      <th>...</th>\n",
       "      <td>...</td>\n",
       "      <td>...</td>\n",
       "      <td>...</td>\n",
       "      <td>...</td>\n",
       "    </tr>\n",
       "    <tr>\n",
       "      <th>3092</th>\n",
       "      <td>Brazil</td>\n",
       "      <td>BRA</td>\n",
       "      <td>2013</td>\n",
       "      <td>493593511.3</td>\n",
       "    </tr>\n",
       "    <tr>\n",
       "      <th>3093</th>\n",
       "      <td>Brazil</td>\n",
       "      <td>BRA</td>\n",
       "      <td>2014</td>\n",
       "      <td>519526349.7</td>\n",
       "    </tr>\n",
       "    <tr>\n",
       "      <th>3094</th>\n",
       "      <td>Brazil</td>\n",
       "      <td>BRA</td>\n",
       "      <td>2015</td>\n",
       "      <td>512081882.0</td>\n",
       "    </tr>\n",
       "    <tr>\n",
       "      <th>3095</th>\n",
       "      <td>Brazil</td>\n",
       "      <td>BRA</td>\n",
       "      <td>2016</td>\n",
       "      <td>473741376.0</td>\n",
       "    </tr>\n",
       "    <tr>\n",
       "      <th>3096</th>\n",
       "      <td>Brazil</td>\n",
       "      <td>BRA</td>\n",
       "      <td>2017</td>\n",
       "      <td>476066778.3</td>\n",
       "    </tr>\n",
       "  </tbody>\n",
       "</table>\n",
       "<p>117 rows × 4 columns</p>\n",
       "</div>"
      ],
      "text/plain": [
       "      Entity Code  Year  Annual CO₂ emissions (tonnes )\n",
       "2980  Brazil  BRA  1901                       2103136.0\n",
       "2981  Brazil  BRA  1902                       2506176.0\n",
       "2982  Brazil  BRA  1903                       2440224.0\n",
       "2983  Brazil  BRA  1904                       2619760.0\n",
       "2984  Brazil  BRA  1905                       2799296.0\n",
       "...      ...  ...   ...                             ...\n",
       "3092  Brazil  BRA  2013                     493593511.3\n",
       "3093  Brazil  BRA  2014                     519526349.7\n",
       "3094  Brazil  BRA  2015                     512081882.0\n",
       "3095  Brazil  BRA  2016                     473741376.0\n",
       "3096  Brazil  BRA  2017                     476066778.3\n",
       "\n",
       "[117 rows x 4 columns]"
      ]
     },
     "execution_count": 30,
     "metadata": {},
     "output_type": "execute_result"
    }
   ],
   "source": [
    "brazil_data"
   ]
  },
  {
   "cell_type": "code",
   "execution_count": 31,
   "id": "d9a170af",
   "metadata": {},
   "outputs": [
    {
     "data": {
      "text/html": [
       "<div>\n",
       "<style scoped>\n",
       "    .dataframe tbody tr th:only-of-type {\n",
       "        vertical-align: middle;\n",
       "    }\n",
       "\n",
       "    .dataframe tbody tr th {\n",
       "        vertical-align: top;\n",
       "    }\n",
       "\n",
       "    .dataframe thead th {\n",
       "        text-align: right;\n",
       "    }\n",
       "</style>\n",
       "<table border=\"1\" class=\"dataframe\">\n",
       "  <thead>\n",
       "    <tr style=\"text-align: right;\">\n",
       "      <th></th>\n",
       "      <th>Entity</th>\n",
       "      <th>Code</th>\n",
       "      <th>Year</th>\n",
       "      <th>Annual CO₂ emissions (tonnes )</th>\n",
       "    </tr>\n",
       "  </thead>\n",
       "  <tbody>\n",
       "    <tr>\n",
       "      <th>9460</th>\n",
       "      <td>Indonesia</td>\n",
       "      <td>IDN</td>\n",
       "      <td>1889</td>\n",
       "      <td>3664.0</td>\n",
       "    </tr>\n",
       "    <tr>\n",
       "      <th>9461</th>\n",
       "      <td>Indonesia</td>\n",
       "      <td>IDN</td>\n",
       "      <td>1890</td>\n",
       "      <td>14656.0</td>\n",
       "    </tr>\n",
       "    <tr>\n",
       "      <th>9462</th>\n",
       "      <td>Indonesia</td>\n",
       "      <td>IDN</td>\n",
       "      <td>1891</td>\n",
       "      <td>21984.0</td>\n",
       "    </tr>\n",
       "    <tr>\n",
       "      <th>9463</th>\n",
       "      <td>Indonesia</td>\n",
       "      <td>IDN</td>\n",
       "      <td>1892</td>\n",
       "      <td>179536.0</td>\n",
       "    </tr>\n",
       "    <tr>\n",
       "      <th>9464</th>\n",
       "      <td>Indonesia</td>\n",
       "      <td>IDN</td>\n",
       "      <td>1893</td>\n",
       "      <td>403040.0</td>\n",
       "    </tr>\n",
       "    <tr>\n",
       "      <th>...</th>\n",
       "      <td>...</td>\n",
       "      <td>...</td>\n",
       "      <td>...</td>\n",
       "      <td>...</td>\n",
       "    </tr>\n",
       "    <tr>\n",
       "      <th>9584</th>\n",
       "      <td>Indonesia</td>\n",
       "      <td>IDN</td>\n",
       "      <td>2013</td>\n",
       "      <td>486130031.7</td>\n",
       "    </tr>\n",
       "    <tr>\n",
       "      <th>9585</th>\n",
       "      <td>Indonesia</td>\n",
       "      <td>IDN</td>\n",
       "      <td>2014</td>\n",
       "      <td>460015658.7</td>\n",
       "    </tr>\n",
       "    <tr>\n",
       "      <th>9586</th>\n",
       "      <td>Indonesia</td>\n",
       "      <td>IDN</td>\n",
       "      <td>2015</td>\n",
       "      <td>459628755.9</td>\n",
       "    </tr>\n",
       "    <tr>\n",
       "      <th>9587</th>\n",
       "      <td>Indonesia</td>\n",
       "      <td>IDN</td>\n",
       "      <td>2016</td>\n",
       "      <td>464856818.4</td>\n",
       "    </tr>\n",
       "    <tr>\n",
       "      <th>9588</th>\n",
       "      <td>Indonesia</td>\n",
       "      <td>IDN</td>\n",
       "      <td>2017</td>\n",
       "      <td>486843756.2</td>\n",
       "    </tr>\n",
       "  </tbody>\n",
       "</table>\n",
       "<p>129 rows × 4 columns</p>\n",
       "</div>"
      ],
      "text/plain": [
       "         Entity Code  Year  Annual CO₂ emissions (tonnes )\n",
       "9460  Indonesia  IDN  1889                          3664.0\n",
       "9461  Indonesia  IDN  1890                         14656.0\n",
       "9462  Indonesia  IDN  1891                         21984.0\n",
       "9463  Indonesia  IDN  1892                        179536.0\n",
       "9464  Indonesia  IDN  1893                        403040.0\n",
       "...         ...  ...   ...                             ...\n",
       "9584  Indonesia  IDN  2013                     486130031.7\n",
       "9585  Indonesia  IDN  2014                     460015658.7\n",
       "9586  Indonesia  IDN  2015                     459628755.9\n",
       "9587  Indonesia  IDN  2016                     464856818.4\n",
       "9588  Indonesia  IDN  2017                     486843756.2\n",
       "\n",
       "[129 rows x 4 columns]"
      ]
     },
     "execution_count": 31,
     "metadata": {},
     "output_type": "execute_result"
    }
   ],
   "source": [
    "indonesia_data"
   ]
  },
  {
   "cell_type": "code",
   "execution_count": 32,
   "id": "fd678e36",
   "metadata": {},
   "outputs": [
    {
     "data": {
      "text/plain": [
       "<AxesSubplot:>"
      ]
     },
     "execution_count": 32,
     "metadata": {},
     "output_type": "execute_result"
    },
    {
     "data": {
      "image/png": "[encoded data removed]",
      "text/plain": [
       "<Figure size 432x288 with 2 Axes>"
      ]
     },
     "metadata": {
      "needs_background": "light"
     },
     "output_type": "display_data"
    }
   ],
   "source": [
    "sns.heatmap(china_data.corr(), annot=True) # Somewhat of a correlation - 58%"
   ]
  },
  {
   "cell_type": "code",
   "execution_count": 33,
   "id": "a0cffdf9",
   "metadata": {},
   "outputs": [
    {
     "data": {
      "text/plain": [
       "<AxesSubplot:>"
      ]
     },
     "execution_count": 33,
     "metadata": {},
     "output_type": "execute_result"
    },
    {
     "data": {
      "image/png": "[encoded data removed]",
      "text/plain": [
       "<Figure size 432x288 with 2 Axes>"
      ]
     },
     "metadata": {
      "needs_background": "light"
     },
     "output_type": "display_data"
    }
   ],
   "source": [
    "sns.heatmap(russia_data.corr(), annot=True) # LOW correlation - 28%\n",
    "# The low correlation could also be a result of the little data under Russia"
   ]
  },
  {
   "cell_type": "code",
   "execution_count": 34,
   "id": "51e88a91",
   "metadata": {},
   "outputs": [
    {
     "data": {
      "text/plain": [
       "<AxesSubplot:>"
      ]
     },
     "execution_count": 34,
     "metadata": {},
     "output_type": "execute_result"
    },
    {
     "data": {
      "image/png": "[encoded data removed]",
      "text/plain": [
       "<Figure size 432x288 with 2 Axes>"
      ]
     },
     "metadata": {
      "needs_background": "light"
     },
     "output_type": "display_data"
    }
   ],
   "source": [
    "sns.heatmap(brazil_data.corr(), annot=True) # High correlation - 90%"
   ]
  },
  {
   "cell_type": "code",
   "execution_count": 35,
   "id": "e3a71185",
   "metadata": {},
   "outputs": [
    {
     "data": {
      "text/plain": [
       "<AxesSubplot:>"
      ]
     },
     "execution_count": 35,
     "metadata": {},
     "output_type": "execute_result"
    },
    {
     "data": {
      "image/png": "[encoded data removed]",
      "text/plain": [
       "<Figure size 432x288 with 2 Axes>"
      ]
     },
     "metadata": {
      "needs_background": "light"
     },
     "output_type": "display_data"
    }
   ],
   "source": [
    "sns.heatmap(indonesia_data.corr(), annot=True) # Relatively high correlation - 79%"
   ]
  },
  {
   "cell_type": "code",
   "execution_count": 36,
   "id": "0bc780a7",
   "metadata": {},
   "outputs": [
    {
     "name": "stderr",
     "output_type": "stream",
     "text": [
      "/Applications/anaconda/anaconda3/lib/python3.9/site-packages/seaborn/_decorators.py:36: FutureWarning: Pass the following variables as keyword args: x, y. From version 0.12, the only valid positional argument will be `data`, and passing other arguments without an explicit keyword will result in an error or misinterpretation.\n",
      "  warnings.warn(\n"
     ]
    },
    {
     "data": {
      "text/plain": [
       "<AxesSubplot:xlabel='Year', ylabel='Annual CO₂ emissions (tonnes )'>"
      ]
     },
     "execution_count": 36,
     "metadata": {},
     "output_type": "execute_result"
    },
    {
     "data": {
      "image/png": "[encoded data removed]",
      "text/plain": [
       "<Figure size 432x288 with 1 Axes>"
      ]
     },
     "metadata": {
      "needs_background": "light"
     },
     "output_type": "display_data"
    }
   ],
   "source": [
    "sns.regplot(china_data['Year'], china_data['Annual CO₂ emissions (tonnes )']) # very flat and only peaks at the end"
   ]
  },
  {
   "cell_type": "code",
   "execution_count": 37,
   "id": "081ccda1",
   "metadata": {},
   "outputs": [],
   "source": [
    "# Since the data is inconsistent with the known countries that produce highest carbon dioxide emissions, we can stick to the US data"
   ]
  },
  {
   "cell_type": "code",
   "execution_count": 38,
   "id": "a2e58bc1",
   "metadata": {},
   "outputs": [],
   "source": [
    "america = (co2_data[co2_data['Entity'] == 'Americas (other)'])"
   ]
  },
  {
   "cell_type": "code",
   "execution_count": 39,
   "id": "e7c561f5",
   "metadata": {},
   "outputs": [
    {
     "data": {
      "text/plain": [
       "<AxesSubplot:>"
      ]
     },
     "execution_count": 39,
     "metadata": {},
     "output_type": "execute_result"
    },
    {
     "data": {
      "image/png": "[encoded data removed]",
      "text/plain": [
       "<Figure size 432x288 with 2 Axes>"
      ]
     },
     "metadata": {
      "needs_background": "light"
     },
     "output_type": "display_data"
    }
   ],
   "source": [
    "# The Americas(land around the United States) seems to also have a high year-to-CO2 emissions correlation\n",
    "sns.heatmap(america.corr(), annot=True)"
   ]
  },
  {
   "cell_type": "code",
   "execution_count": 40,
   "id": "76947ed9",
   "metadata": {},
   "outputs": [
    {
     "name": "stderr",
     "output_type": "stream",
     "text": [
      "/Applications/anaconda/anaconda3/lib/python3.9/site-packages/seaborn/_decorators.py:36: FutureWarning: Pass the following variables as keyword args: x, y. From version 0.12, the only valid positional argument will be `data`, and passing other arguments without an explicit keyword will result in an error or misinterpretation.\n",
      "  warnings.warn(\n"
     ]
    },
    {
     "data": {
      "text/plain": [
       "<AxesSubplot:xlabel='Year', ylabel='Annual CO₂ emissions (tonnes )'>"
      ]
     },
     "execution_count": 40,
     "metadata": {},
     "output_type": "execute_result"
    },
    {
     "data": {
      "image/png": "[encoded data removed]",
      "text/plain": [
       "<Figure size 432x288 with 1 Axes>"
      ]
     },
     "metadata": {
      "needs_background": "light"
     },
     "output_type": "display_data"
    }
   ],
   "source": [
    "sns.regplot(america['Year'], america['Annual CO₂ emissions (tonnes )'])"
   ]
  },
  {
   "cell_type": "code",
   "execution_count": 41,
   "id": "fd0dea49",
   "metadata": {},
   "outputs": [],
   "source": [
    "# Let us do model fitting using data from the United States only\n",
    "# We will start with Linear Regression"
   ]
  },
  {
   "cell_type": "code",
   "execution_count": 42,
   "id": "a820afb7",
   "metadata": {},
   "outputs": [],
   "source": [
    "# splitting the data into independent variable and target variable\n",
    "X = us_data['Year']\n",
    "y = us_data['Annual CO₂ emissions (tonnes )']"
   ]
  },
  {
   "cell_type": "code",
   "execution_count": 43,
   "id": "0d955839",
   "metadata": {},
   "outputs": [],
   "source": [
    "# splitting the data so 70% is used to train the model and the rest is used to test it\n",
    "from sklearn.model_selection import train_test_split\n",
    "X_train, X_test, y_train, y_test = train_test_split(X, y, train_size = 0.7, random_state = 41)"
   ]
  },
  {
   "cell_type": "code",
   "execution_count": 44,
   "id": "c618dc6d",
   "metadata": {},
   "outputs": [
    {
     "data": {
      "text/plain": [
       "((186,), (81,), (186,), (81,))"
      ]
     },
     "execution_count": 44,
     "metadata": {},
     "output_type": "execute_result"
    }
   ],
   "source": [
    "X_train.shape, X_test.shape, y_train.shape, y_test.shape"
   ]
  },
  {
   "cell_type": "code",
   "execution_count": 45,
   "id": "53f8137c",
   "metadata": {},
   "outputs": [],
   "source": [
    "from sklearn.linear_model import LinearRegression"
   ]
  },
  {
   "cell_type": "code",
   "execution_count": 46,
   "id": "2c5c0077",
   "metadata": {},
   "outputs": [],
   "source": [
    "lr = LinearRegression()"
   ]
  },
  {
   "cell_type": "code",
   "execution_count": 47,
   "id": "534c58ab",
   "metadata": {},
   "outputs": [],
   "source": [
    "# Changing the series value to a DataFrame for model fitting to work\n",
    "X_train = pd.DataFrame(X_train)"
   ]
  },
  {
   "cell_type": "code",
   "execution_count": 48,
   "id": "cd61ead5",
   "metadata": {},
   "outputs": [
    {
     "data": {
      "text/plain": [
       "LinearRegression()"
      ]
     },
     "execution_count": 48,
     "metadata": {},
     "output_type": "execute_result"
    }
   ],
   "source": [
    "lr.fit(X_train, y_train)"
   ]
  },
  {
   "cell_type": "code",
   "execution_count": 49,
   "id": "3cc87c8b",
   "metadata": {},
   "outputs": [],
   "source": [
    "X_test = pd.DataFrame(X_test)"
   ]
  },
  {
   "cell_type": "code",
   "execution_count": 50,
   "id": "f102481c",
   "metadata": {},
   "outputs": [],
   "source": [
    "# Predicted values based on input from the training set\n",
    "pred1 = lr.predict(X_test)"
   ]
  },
  {
   "cell_type": "code",
   "execution_count": 51,
   "id": "6fc3a47b",
   "metadata": {},
   "outputs": [
    {
     "data": {
      "text/plain": [
       "<matplotlib.collections.PathCollection at 0x7fcd6de10850>"
      ]
     },
     "execution_count": 51,
     "metadata": {},
     "output_type": "execute_result"
    },
    {
     "data": {
      "image/png": "[encoded data removed]",
      "text/plain": [
       "<Figure size 432x288 with 1 Axes>"
      ]
     },
     "metadata": {
      "needs_background": "light"
     },
     "output_type": "display_data"
    }
   ],
   "source": [
    "# The graph does shows a very poor correlation\n",
    "import matplotlib.pyplot as plt\n",
    "plt.title(\"Linear Regression Model vs. Actual\")\n",
    "plt.xlabel(\"Predicted Emissions\")\n",
    "plt.ylabel(\"Actual Annual CO2 Emissions\")\n",
    "plt.scatter(pred1, y_test)"
   ]
  },
  {
   "cell_type": "code",
   "execution_count": 52,
   "id": "363bb728",
   "metadata": {},
   "outputs": [
    {
     "data": {
      "text/plain": [
       "846616475.9301833"
      ]
     },
     "execution_count": 52,
     "metadata": {},
     "output_type": "execute_result"
    }
   ],
   "source": [
    "from sklearn.metrics import mean_absolute_error\n",
    "mean_absolute_error(pred1, y_test) # The mean absolute error is HIGH: ~ 846,616,476 tons of CO2 off"
   ]
  },
  {
   "cell_type": "markdown",
   "id": "7650559e",
   "metadata": {},
   "source": [
    "# Part 4: Finding Better Models for More Accurate Predictions"
   ]
  },
  {
   "cell_type": "code",
   "execution_count": 53,
   "id": "eb3ba3a9",
   "metadata": {},
   "outputs": [],
   "source": [
    "# Now, I will use the Decision Tree Regressor Model to get more accurate predictions\n",
    "from sklearn.tree import DecisionTreeRegressor"
   ]
  },
  {
   "cell_type": "code",
   "execution_count": 54,
   "id": "4e3e2ed8",
   "metadata": {},
   "outputs": [],
   "source": [
    "tr = DecisionTreeRegressor()"
   ]
  },
  {
   "cell_type": "code",
   "execution_count": 55,
   "id": "72c40745",
   "metadata": {},
   "outputs": [
    {
     "data": {
      "text/plain": [
       "DecisionTreeRegressor()"
      ]
     },
     "execution_count": 55,
     "metadata": {},
     "output_type": "execute_result"
    }
   ],
   "source": [
    "tr.fit(X_train, y_train)"
   ]
  },
  {
   "cell_type": "code",
   "execution_count": 56,
   "id": "e87ecb5b",
   "metadata": {},
   "outputs": [],
   "source": [
    "# The new predictions through this model - Note that the process is the same but the models are different\n",
    "pred2 = tr.predict(X_test)"
   ]
  },
  {
   "cell_type": "code",
   "execution_count": 57,
   "id": "686d75a3",
   "metadata": {},
   "outputs": [
    {
     "data": {
      "text/plain": [
       "Text(0, 0.5, 'Actual Annual CO2 Emissions')"
      ]
     },
     "execution_count": 57,
     "metadata": {},
     "output_type": "execute_result"
    },
    {
     "data": {
      "image/png": "[encoded data removed]",
      "text/plain": [
       "<Figure size 432x288 with 1 Axes>"
      ]
     },
     "metadata": {
      "needs_background": "light"
     },
     "output_type": "display_data"
    }
   ],
   "source": [
    "plt.scatter(pred2, y_test) # The resulting graph looks much closer to linear, meaning the model was more accurate\n",
    "plt.title(\"Decision Tree Model vs. Actual\")\n",
    "plt.xlabel(\"Predicted Emissions\")\n",
    "plt.ylabel(\"Actual Annual CO2 Emissions\")"
   ]
  },
  {
   "cell_type": "code",
   "execution_count": 58,
   "id": "9c910381",
   "metadata": {},
   "outputs": [
    {
     "data": {
      "text/plain": [
       "76680507.8888889"
      ]
     },
     "execution_count": 58,
     "metadata": {},
     "output_type": "execute_result"
    }
   ],
   "source": [
    "mean_absolute_error(pred2, y_test) # The mean absolute error is better: ~76,680,508 tons off"
   ]
  },
  {
   "cell_type": "code",
   "execution_count": 59,
   "id": "72d6953f",
   "metadata": {},
   "outputs": [],
   "source": [
    "# Although the model is much better, it does not seem to be the best one\n",
    "# Let's try the Random Forest Regressor\n",
    "from sklearn.ensemble import RandomForestRegressor"
   ]
  },
  {
   "cell_type": "code",
   "execution_count": 60,
   "id": "759a162b",
   "metadata": {},
   "outputs": [],
   "source": [
    "rg = RandomForestRegressor(max_depth=None, random_state=0)"
   ]
  },
  {
   "cell_type": "code",
   "execution_count": 61,
   "id": "4ec1eddf",
   "metadata": {},
   "outputs": [
    {
     "data": {
      "text/plain": [
       "RandomForestRegressor(random_state=0)"
      ]
     },
     "execution_count": 61,
     "metadata": {},
     "output_type": "execute_result"
    }
   ],
   "source": [
    "rg.fit(X_train, y_train)"
   ]
  },
  {
   "cell_type": "code",
   "execution_count": 62,
   "id": "ac46127f",
   "metadata": {},
   "outputs": [],
   "source": [
    "pred3 = rg.predict(X_test)"
   ]
  },
  {
   "cell_type": "code",
   "execution_count": 91,
   "id": "b9ff0916",
   "metadata": {},
   "outputs": [
    {
     "data": {
      "text/plain": [
       "Text(0, 0.5, 'Actual Annual CO2 Emissions')"
      ]
     },
     "execution_count": 91,
     "metadata": {},
     "output_type": "execute_result"
    },
    {
     "data": {
      "image/png": "[encoded data removed]",
      "text/plain": [
       "<Figure size 432x288 with 1 Axes>"
      ]
     },
     "metadata": {
      "needs_background": "light"
     },
     "output_type": "display_data"
    }
   ],
   "source": [
    "plt.scatter(pred3, y_test) \n",
    "plt.title(\"Random Forest Model vs. Actual\")\n",
    "plt.xlabel(\"Predicted Emissions\")\n",
    "plt.ylabel(\"Actual Annual CO2 Emissions\")"
   ]
  },
  {
   "cell_type": "code",
   "execution_count": 64,
   "id": "6545b9c9",
   "metadata": {},
   "outputs": [
    {
     "data": {
      "text/plain": [
       "61265804.68432097"
      ]
     },
     "execution_count": 64,
     "metadata": {},
     "output_type": "execute_result"
    }
   ],
   "source": [
    "mean_absolute_error(pred3, y_test) # The mean absolute error is also better: ~61,265,805 tons off"
   ]
  },
  {
   "cell_type": "code",
   "execution_count": 65,
   "id": "6acf3108",
   "metadata": {},
   "outputs": [],
   "source": [
    "from sklearn.svm import SVR"
   ]
  },
  {
   "cell_type": "code",
   "execution_count": 66,
   "id": "1c068e85",
   "metadata": {},
   "outputs": [],
   "source": [
    "regressor = SVR(kernel='rbf')\n",
    "regressor2 = SVR(kernel='poly', degree=1, C=100, gamma='auto')\n",
    "regressor3 = SVR(kernel='sigmoid', C=50, gamma='auto')"
   ]
  },
  {
   "cell_type": "code",
   "execution_count": 67,
   "id": "e8c03648",
   "metadata": {},
   "outputs": [],
   "source": [
    "regressor3.fit(X_train, y_train)\n",
    "pred4 = regressor3.predict(X_test)"
   ]
  },
  {
   "cell_type": "code",
   "execution_count": 68,
   "id": "889c1a0d",
   "metadata": {},
   "outputs": [
    {
     "data": {
      "text/plain": [
       "Text(0, 0.5, 'Actual Annual CO2 Emissions')"
      ]
     },
     "execution_count": 68,
     "metadata": {},
     "output_type": "execute_result"
    },
    {
     "data": {
      "image/png": "[encoded data removed]",
      "text/plain": [
       "<Figure size 432x288 with 1 Axes>"
      ]
     },
     "metadata": {
      "needs_background": "light"
     },
     "output_type": "display_data"
    }
   ],
   "source": [
    "plt.scatter(pred4, y_test) # None of the models work that well, so some parameters might be very off\n",
    "plt.title(\"Random Forest Model vs. Actual\")\n",
    "plt.xlabel(\"Predicted Emissions\")\n",
    "plt.ylabel(\"Actual Annual CO2 Emissions\")"
   ]
  },
  {
   "cell_type": "code",
   "execution_count": 69,
   "id": "140b0711",
   "metadata": {},
   "outputs": [
    {
     "data": {
      "text/plain": [
       "1645274393.925926"
      ]
     },
     "execution_count": 69,
     "metadata": {},
     "output_type": "execute_result"
    }
   ],
   "source": [
    "mean_absolute_error(pred4, y_test)"
   ]
  },
  {
   "cell_type": "code",
   "execution_count": 70,
   "id": "2c6667e9",
   "metadata": {},
   "outputs": [],
   "source": [
    "regr = SVR()"
   ]
  },
  {
   "cell_type": "code",
   "execution_count": 71,
   "id": "22851b95",
   "metadata": {},
   "outputs": [],
   "source": [
    "regr.fit(X_train, y_train)\n",
    "regrp = regr.predict(X_test)"
   ]
  },
  {
   "cell_type": "code",
   "execution_count": 72,
   "id": "d5687091",
   "metadata": {},
   "outputs": [
    {
     "data": {
      "text/plain": [
       "Text(0, 0.5, 'Actual Annual CO2 Emissions')"
      ]
     },
     "execution_count": 72,
     "metadata": {},
     "output_type": "execute_result"
    },
    {
     "data": {
      "image/png": "[encoded data removed]",
      "text/plain": [
       "<Figure size 432x288 with 1 Axes>"
      ]
     },
     "metadata": {
      "needs_background": "light"
     },
     "output_type": "display_data"
    }
   ],
   "source": [
    "plt.scatter(regrp, y_test) # \n",
    "plt.title(\"Regression Model vs. Actual\")\n",
    "plt.xlabel(\"Predicted Emissions\")\n",
    "plt.ylabel(\"Actual Annual CO2 Emissions\")"
   ]
  },
  {
   "cell_type": "code",
   "execution_count": 73,
   "id": "839a0200",
   "metadata": {},
   "outputs": [],
   "source": [
    "from sklearn.model_selection import GridSearchCV"
   ]
  },
  {
   "cell_type": "code",
   "execution_count": 74,
   "id": "40aeab25",
   "metadata": {},
   "outputs": [
    {
     "data": {
      "text/plain": [
       "'\\nTests different parameters to see which makes the most accurate predictions\\nparam_grid = {\\n    \"C\": [0.1, 1, 100],\\n    \"epsilon\": [0.01, 0.01, 1],\\n    \"kernel\" : [\\'linear\\', \\'poly\\', \\'rbf\\'],\\n    \"gamma\" : [\"scale\", \"auto\"]\\n    \\n}\\n'"
      ]
     },
     "execution_count": 74,
     "metadata": {},
     "output_type": "execute_result"
    }
   ],
   "source": [
    "'''\n",
    "Tests different parameters to see which makes the most accurate predictions\n",
    "param_grid = {\n",
    "    \"C\": [0.1, 1, 100],\n",
    "    \"epsilon\": [0.01, 0.01, 1],\n",
    "    \"kernel\" : ['linear', 'poly', 'rbf'],\n",
    "    \"gamma\" : [\"scale\", \"auto\"]\n",
    "    \n",
    "}\n",
    "'''"
   ]
  },
  {
   "cell_type": "code",
   "execution_count": 75,
   "id": "4a8c76dc",
   "metadata": {},
   "outputs": [],
   "source": [
    "# Split the data into 2 parts\n",
    "#grid_search = GridSearchCV(SVR(), param_grid, cv=2)"
   ]
  },
  {
   "cell_type": "code",
   "execution_count": 76,
   "id": "c248428d",
   "metadata": {},
   "outputs": [],
   "source": [
    "# This part could not load so I will try a different model for now\n",
    "#grid_search.fit(X_train, y_train)"
   ]
  },
  {
   "cell_type": "code",
   "execution_count": 77,
   "id": "e4ac9023",
   "metadata": {},
   "outputs": [],
   "source": [
    "#gr_p = grid_search.predict(X_test)"
   ]
  },
  {
   "cell_type": "code",
   "execution_count": 78,
   "id": "3fdeea93",
   "metadata": {},
   "outputs": [],
   "source": [
    "#grid_search.best_params_"
   ]
  },
  {
   "cell_type": "code",
   "execution_count": 79,
   "id": "e07d70a1",
   "metadata": {},
   "outputs": [
    {
     "name": "stderr",
     "output_type": "stream",
     "text": [
      "/Applications/anaconda/anaconda3/lib/python3.9/site-packages/pandas/core/arraylike.py:364: RuntimeWarning: divide by zero encountered in log\n",
      "  result = getattr(ufunc, method)(*inputs, **kwargs)\n",
      "/Applications/anaconda/anaconda3/lib/python3.9/site-packages/numpy/lib/function_base.py:2487: RuntimeWarning: invalid value encountered in subtract\n",
      "  X -= avg[:, None]\n"
     ]
    }
   ],
   "source": [
    "from scipy.stats import linregress\n",
    "import numpy as np\n",
    "line = linregress(us_data['Year'], np.log(us_data['Annual CO₂ emissions (tonnes )']))\n",
    "slope = line.slope\n",
    "y_int = line.intercept"
   ]
  },
  {
   "cell_type": "code",
   "execution_count": 80,
   "id": "9e8c4e30",
   "metadata": {},
   "outputs": [],
   "source": [
    "x_val = np.linspace(1750, 2017, 267)\n",
    "y_val = 1.01374**(x_val) * 0.00700511"
   ]
  },
  {
   "cell_type": "code",
   "execution_count": 81,
   "id": "9c8d328a",
   "metadata": {},
   "outputs": [
    {
     "data": {
      "text/plain": [
       "<matplotlib.collections.PathCollection at 0x7fcd6ebce2e0>"
      ]
     },
     "execution_count": 81,
     "metadata": {},
     "output_type": "execute_result"
    },
    {
     "data": {
      "image/png": "[encoded data removed]",
      "text/plain": [
       "<Figure size 432x288 with 1 Axes>"
      ]
     },
     "metadata": {
      "needs_background": "light"
     },
     "output_type": "display_data"
    }
   ],
   "source": [
    "plt.plot(us_data['Year'], us_data['Annual CO₂ emissions (tonnes )'])\n",
    "plt.scatter(x_val, y_val, color='red')\n"
   ]
  },
  {
   "cell_type": "code",
   "execution_count": 82,
   "id": "3680eee9",
   "metadata": {},
   "outputs": [
    {
     "data": {
      "text/html": [
       "<div>\n",
       "<style scoped>\n",
       "    .dataframe tbody tr th:only-of-type {\n",
       "        vertical-align: middle;\n",
       "    }\n",
       "\n",
       "    .dataframe tbody tr th {\n",
       "        vertical-align: top;\n",
       "    }\n",
       "\n",
       "    .dataframe thead th {\n",
       "        text-align: right;\n",
       "    }\n",
       "</style>\n",
       "<table border=\"1\" class=\"dataframe\">\n",
       "  <thead>\n",
       "    <tr style=\"text-align: right;\">\n",
       "      <th></th>\n",
       "      <th>Entity</th>\n",
       "      <th>Code</th>\n",
       "      <th>Year</th>\n",
       "      <th>Annual CO₂ emissions (tonnes )</th>\n",
       "    </tr>\n",
       "  </thead>\n",
       "  <tbody>\n",
       "    <tr>\n",
       "      <th>19760</th>\n",
       "      <td>United States</td>\n",
       "      <td>USA</td>\n",
       "      <td>1850</td>\n",
       "      <td>19792928.0</td>\n",
       "    </tr>\n",
       "  </tbody>\n",
       "</table>\n",
       "</div>"
      ],
      "text/plain": [
       "              Entity Code  Year  Annual CO₂ emissions (tonnes )\n",
       "19760  United States  USA  1850                      19792928.0"
      ]
     },
     "execution_count": 82,
     "metadata": {},
     "output_type": "execute_result"
    }
   ],
   "source": [
    "us_data[us_data['Year'] == 1850]"
   ]
  },
  {
   "cell_type": "code",
   "execution_count": 83,
   "id": "ea662aa0",
   "metadata": {},
   "outputs": [
    {
     "data": {
      "text/html": [
       "<div>\n",
       "<style scoped>\n",
       "    .dataframe tbody tr th:only-of-type {\n",
       "        vertical-align: middle;\n",
       "    }\n",
       "\n",
       "    .dataframe tbody tr th {\n",
       "        vertical-align: top;\n",
       "    }\n",
       "\n",
       "    .dataframe thead th {\n",
       "        text-align: right;\n",
       "    }\n",
       "</style>\n",
       "<table border=\"1\" class=\"dataframe\">\n",
       "  <thead>\n",
       "    <tr style=\"text-align: right;\">\n",
       "      <th></th>\n",
       "      <th>Entity</th>\n",
       "      <th>Code</th>\n",
       "      <th>Year</th>\n",
       "      <th>Annual CO₂ emissions (tonnes )</th>\n",
       "    </tr>\n",
       "  </thead>\n",
       "  <tbody>\n",
       "    <tr>\n",
       "      <th>19810</th>\n",
       "      <td>United States</td>\n",
       "      <td>USA</td>\n",
       "      <td>1900</td>\n",
       "      <td>662736992.0</td>\n",
       "    </tr>\n",
       "  </tbody>\n",
       "</table>\n",
       "</div>"
      ],
      "text/plain": [
       "              Entity Code  Year  Annual CO₂ emissions (tonnes )\n",
       "19810  United States  USA  1900                     662736992.0"
      ]
     },
     "execution_count": 83,
     "metadata": {},
     "output_type": "execute_result"
    }
   ],
   "source": [
    "us_data[us_data['Year'] == 1900]"
   ]
  },
  {
   "cell_type": "code",
   "execution_count": 84,
   "id": "8cc9b0cf",
   "metadata": {},
   "outputs": [
    {
     "data": {
      "text/html": [
       "<div>\n",
       "<style scoped>\n",
       "    .dataframe tbody tr th:only-of-type {\n",
       "        vertical-align: middle;\n",
       "    }\n",
       "\n",
       "    .dataframe tbody tr th {\n",
       "        vertical-align: top;\n",
       "    }\n",
       "\n",
       "    .dataframe thead th {\n",
       "        text-align: right;\n",
       "    }\n",
       "</style>\n",
       "<table border=\"1\" class=\"dataframe\">\n",
       "  <thead>\n",
       "    <tr style=\"text-align: right;\">\n",
       "      <th></th>\n",
       "      <th>Entity</th>\n",
       "      <th>Code</th>\n",
       "      <th>Year</th>\n",
       "      <th>Annual CO₂ emissions (tonnes )</th>\n",
       "    </tr>\n",
       "  </thead>\n",
       "  <tbody>\n",
       "    <tr>\n",
       "      <th>19860</th>\n",
       "      <td>United States</td>\n",
       "      <td>USA</td>\n",
       "      <td>1950</td>\n",
       "      <td>2.535942e+09</td>\n",
       "    </tr>\n",
       "  </tbody>\n",
       "</table>\n",
       "</div>"
      ],
      "text/plain": [
       "              Entity Code  Year  Annual CO₂ emissions (tonnes )\n",
       "19860  United States  USA  1950                    2.535942e+09"
      ]
     },
     "execution_count": 84,
     "metadata": {},
     "output_type": "execute_result"
    }
   ],
   "source": [
    "us_data[us_data['Year'] == 1950]"
   ]
  },
  {
   "cell_type": "code",
   "execution_count": 85,
   "id": "942f352e",
   "metadata": {},
   "outputs": [
    {
     "data": {
      "text/html": [
       "<div>\n",
       "<style scoped>\n",
       "    .dataframe tbody tr th:only-of-type {\n",
       "        vertical-align: middle;\n",
       "    }\n",
       "\n",
       "    .dataframe tbody tr th {\n",
       "        vertical-align: top;\n",
       "    }\n",
       "\n",
       "    .dataframe thead th {\n",
       "        text-align: right;\n",
       "    }\n",
       "</style>\n",
       "<table border=\"1\" class=\"dataframe\">\n",
       "  <thead>\n",
       "    <tr style=\"text-align: right;\">\n",
       "      <th></th>\n",
       "      <th>Entity</th>\n",
       "      <th>Code</th>\n",
       "      <th>Year</th>\n",
       "      <th>Annual CO₂ emissions (tonnes )</th>\n",
       "    </tr>\n",
       "  </thead>\n",
       "  <tbody>\n",
       "    <tr>\n",
       "      <th>19910</th>\n",
       "      <td>United States</td>\n",
       "      <td>USA</td>\n",
       "      <td>2000</td>\n",
       "      <td>6.000606e+09</td>\n",
       "    </tr>\n",
       "  </tbody>\n",
       "</table>\n",
       "</div>"
      ],
      "text/plain": [
       "              Entity Code  Year  Annual CO₂ emissions (tonnes )\n",
       "19910  United States  USA  2000                    6.000606e+09"
      ]
     },
     "execution_count": 85,
     "metadata": {},
     "output_type": "execute_result"
    }
   ],
   "source": [
    "us_data[us_data['Year'] == 2000]"
   ]
  },
  {
   "cell_type": "code",
   "execution_count": 86,
   "id": "dd7dc72b",
   "metadata": {},
   "outputs": [
    {
     "data": {
      "text/html": [
       "<div>\n",
       "<style scoped>\n",
       "    .dataframe tbody tr th:only-of-type {\n",
       "        vertical-align: middle;\n",
       "    }\n",
       "\n",
       "    .dataframe tbody tr th {\n",
       "        vertical-align: top;\n",
       "    }\n",
       "\n",
       "    .dataframe thead th {\n",
       "        text-align: right;\n",
       "    }\n",
       "</style>\n",
       "<table border=\"1\" class=\"dataframe\">\n",
       "  <thead>\n",
       "    <tr style=\"text-align: right;\">\n",
       "      <th></th>\n",
       "      <th>Entity</th>\n",
       "      <th>Code</th>\n",
       "      <th>Year</th>\n",
       "      <th>Annual CO₂ emissions (tonnes )</th>\n",
       "    </tr>\n",
       "  </thead>\n",
       "  <tbody>\n",
       "    <tr>\n",
       "      <th>19680</th>\n",
       "      <td>United States</td>\n",
       "      <td>USA</td>\n",
       "      <td>1770</td>\n",
       "      <td>0.0</td>\n",
       "    </tr>\n",
       "  </tbody>\n",
       "</table>\n",
       "</div>"
      ],
      "text/plain": [
       "              Entity Code  Year  Annual CO₂ emissions (tonnes )\n",
       "19680  United States  USA  1770                             0.0"
      ]
     },
     "execution_count": 86,
     "metadata": {},
     "output_type": "execute_result"
    }
   ],
   "source": [
    "us_data[us_data['Year'] == 1770]"
   ]
  },
  {
   "cell_type": "code",
   "execution_count": 87,
   "id": "8c23b5fe",
   "metadata": {},
   "outputs": [
    {
     "data": {
      "text/html": [
       "<div>\n",
       "<style scoped>\n",
       "    .dataframe tbody tr th:only-of-type {\n",
       "        vertical-align: middle;\n",
       "    }\n",
       "\n",
       "    .dataframe tbody tr th {\n",
       "        vertical-align: top;\n",
       "    }\n",
       "\n",
       "    .dataframe thead th {\n",
       "        text-align: right;\n",
       "    }\n",
       "</style>\n",
       "<table border=\"1\" class=\"dataframe\">\n",
       "  <thead>\n",
       "    <tr style=\"text-align: right;\">\n",
       "      <th></th>\n",
       "      <th>Entity</th>\n",
       "      <th>Code</th>\n",
       "      <th>Year</th>\n",
       "      <th>Annual CO₂ emissions (tonnes )</th>\n",
       "    </tr>\n",
       "  </thead>\n",
       "  <tbody>\n",
       "    <tr>\n",
       "      <th>19835</th>\n",
       "      <td>United States</td>\n",
       "      <td>USA</td>\n",
       "      <td>1925</td>\n",
       "      <td>1.740898e+09</td>\n",
       "    </tr>\n",
       "  </tbody>\n",
       "</table>\n",
       "</div>"
      ],
      "text/plain": [
       "              Entity Code  Year  Annual CO₂ emissions (tonnes )\n",
       "19835  United States  USA  1925                    1.740898e+09"
      ]
     },
     "execution_count": 87,
     "metadata": {},
     "output_type": "execute_result"
    }
   ],
   "source": [
    "us_data[us_data['Year'] == 1925]"
   ]
  },
  {
   "cell_type": "code",
   "execution_count": 88,
   "id": "0f9fcf03",
   "metadata": {},
   "outputs": [
    {
     "data": {
      "text/html": [
       "<div>\n",
       "<style scoped>\n",
       "    .dataframe tbody tr th:only-of-type {\n",
       "        vertical-align: middle;\n",
       "    }\n",
       "\n",
       "    .dataframe tbody tr th {\n",
       "        vertical-align: top;\n",
       "    }\n",
       "\n",
       "    .dataframe thead th {\n",
       "        text-align: right;\n",
       "    }\n",
       "</style>\n",
       "<table border=\"1\" class=\"dataframe\">\n",
       "  <thead>\n",
       "    <tr style=\"text-align: right;\">\n",
       "      <th></th>\n",
       "      <th>Entity</th>\n",
       "      <th>Code</th>\n",
       "      <th>Year</th>\n",
       "      <th>Annual CO₂ emissions (tonnes )</th>\n",
       "    </tr>\n",
       "  </thead>\n",
       "  <tbody>\n",
       "    <tr>\n",
       "      <th>19885</th>\n",
       "      <td>United States</td>\n",
       "      <td>USA</td>\n",
       "      <td>1975</td>\n",
       "      <td>4.400795e+09</td>\n",
       "    </tr>\n",
       "  </tbody>\n",
       "</table>\n",
       "</div>"
      ],
      "text/plain": [
       "              Entity Code  Year  Annual CO₂ emissions (tonnes )\n",
       "19885  United States  USA  1975                    4.400795e+09"
      ]
     },
     "execution_count": 88,
     "metadata": {},
     "output_type": "execute_result"
    }
   ],
   "source": [
    "us_data[us_data['Year'] == 1975]"
   ]
  },
  {
   "cell_type": "code",
   "execution_count": 89,
   "id": "a2d52646",
   "metadata": {},
   "outputs": [
    {
     "data": {
      "text/plain": [
       "457684487.6590597"
      ]
     },
     "execution_count": 89,
     "metadata": {},
     "output_type": "execute_result"
    }
   ],
   "source": [
    "mean_absolute_error(y_val, y)"
   ]
  },
  {
   "cell_type": "code",
   "execution_count": 90,
   "id": "344079f0",
   "metadata": {},
   "outputs": [],
   "source": [
    "# The mean absolute error is very high, even though the graph looks somewhat exponential\n",
    "# I used desmos to help me determine the equation, and it did not help"
   ]
  },
  {
   "cell_type": "code",
   "execution_count": 135,
   "id": "c946de34",
   "metadata": {},
   "outputs": [],
   "source": [
    "X_train2, X_test2, y_train2, y_test2 = train_test_split(X, y, train_size = 0.75, random_state=42)"
   ]
  },
  {
   "cell_type": "code",
   "execution_count": 136,
   "id": "0e689881",
   "metadata": {},
   "outputs": [
    {
     "data": {
      "text/plain": [
       "((67,), (67,))"
      ]
     },
     "execution_count": 136,
     "metadata": {},
     "output_type": "execute_result"
    }
   ],
   "source": [
    "X_test2.shape, y_test2.shape"
   ]
  },
  {
   "cell_type": "code",
   "execution_count": 137,
   "id": "2b030777",
   "metadata": {},
   "outputs": [],
   "source": [
    "X_train2 = pd.DataFrame(X_train2)\n",
    "X_test2 = pd.DataFrame(X_test2)"
   ]
  },
  {
   "cell_type": "code",
   "execution_count": 138,
   "id": "833e4d91",
   "metadata": {},
   "outputs": [
    {
     "data": {
      "text/plain": [
       "RandomForestRegressor(random_state=1)"
      ]
     },
     "execution_count": 138,
     "metadata": {},
     "output_type": "execute_result"
    }
   ],
   "source": [
    "# Let's tweak the Random Forest Regressor\n",
    "rg2 = RandomForestRegressor(max_depth=None, random_state=1)\n",
    "rg2.fit(X_train2, y_train2)"
   ]
  },
  {
   "cell_type": "code",
   "execution_count": 139,
   "id": "ba0da6a3",
   "metadata": {},
   "outputs": [],
   "source": [
    "pred5 = rg2.predict(X_test2)"
   ]
  },
  {
   "cell_type": "code",
   "execution_count": 140,
   "id": "5fdc0c48",
   "metadata": {},
   "outputs": [
    {
     "data": {
      "text/plain": [
       "Text(0, 0.5, 'Actual Annual CO2 Emissions')"
      ]
     },
     "execution_count": 140,
     "metadata": {},
     "output_type": "execute_result"
    },
    {
     "data": {
      "image/png": "[encoded data removed]",
      "text/plain": [
       "<Figure size 432x288 with 1 Axes>"
      ]
     },
     "metadata": {
      "needs_background": "light"
     },
     "output_type": "display_data"
    }
   ],
   "source": [
    "plt.scatter(pred5, y_test2) \n",
    "plt.title(\"NEW Random Forest Model vs. Actual\")\n",
    "plt.xlabel(\"Predicted Emissions\")\n",
    "plt.ylabel(\"Actual Annual CO2 Emissions\")"
   ]
  },
  {
   "cell_type": "code",
   "execution_count": 142,
   "id": "cbb20636",
   "metadata": {},
   "outputs": [
    {
     "data": {
      "text/plain": [
       "37659221.10671641"
      ]
     },
     "execution_count": 142,
     "metadata": {},
     "output_type": "execute_result"
    }
   ],
   "source": [
    "mean_absolute_error(pred5, y_test2)"
   ]
  },
  {
   "cell_type": "code",
   "execution_count": 143,
   "id": "8d961516",
   "metadata": {},
   "outputs": [],
   "source": [
    "# ~37,659,221 tons off because the training size is bigger, making the predictions more accurate"
   ]
  },
  {
   "cell_type": "code",
   "execution_count": null,
   "id": "08e5ff34",
   "metadata": {},
   "outputs": [],
   "source": []
  },
  {
   "cell_type": "code",
   "execution_count": null,
   "id": "6bdfa41b",
   "metadata": {},
   "outputs": [],
   "source": []
  },
  {
   "cell_type": "code",
   "execution_count": null,
   "id": "acb4c4c5",
   "metadata": {},
   "outputs": [],
   "source": [
    "\n"
   ]
  },
  {
   "cell_type": "code",
   "execution_count": null,
   "id": "d74b3515",
   "metadata": {},
   "outputs": [],
   "source": []
  },
  {
   "cell_type": "code",
   "execution_count": null,
   "id": "dceb9b34",
   "metadata": {},
   "outputs": [],
   "source": []
  },
  {
   "cell_type": "code",
   "execution_count": null,
   "id": "cbe6978d",
   "metadata": {},
   "outputs": [],
   "source": [
    "\n"
   ]
  },
  {
   "cell_type": "code",
   "execution_count": null,
   "id": "2faee1ef",
   "metadata": {},
   "outputs": [],
   "source": []
  }
 ],
 "metadata": {
  "kernelspec": {
   "display_name": "Python 3 (ipykernel)",
   "language": "python",
   "name": "python3"
  },
  "language_info": {
   "codemirror_mode": {
    "name": "ipython",
    "version": 3
   },
   "file_extension": ".py",
   "mimetype": "text/x-python",
   "name": "python",
   "nbconvert_exporter": "python",
   "pygments_lexer": "ipython3",
   "version": "3.9.7"
  }
 },
 "nbformat": 4,
 "nbformat_minor": 5
}
