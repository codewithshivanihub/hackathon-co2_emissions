{
 "cells": [
  {
   "cell_type": "code",
   "execution_count": 1,
   "id": "68afc9a8",
   "metadata": {},
   "outputs": [],
   "source": [
    "import pandas as pd\n",
    "import seaborn as sns\n",
    "import os "
   ]
  },
  {
   "cell_type": "code",
   "execution_count": 18,
   "id": "f0982a10",
   "metadata": {},
   "outputs": [
    {
     "data": {
      "text/plain": [
       "'/Users/venkat'"
      ]
     },
     "execution_count": 18,
     "metadata": {},
     "output_type": "execute_result"
    }
   ],
   "source": [
    "os.getcwd()"
   ]
  },
  {
   "cell_type": "code",
   "execution_count": 19,
   "id": "ed713069",
   "metadata": {},
   "outputs": [],
   "source": [
    "os.chdir('/Users/venkat/Documents')"
   ]
  },
  {
   "cell_type": "code",
   "execution_count": 20,
   "id": "5f9966ef",
   "metadata": {},
   "outputs": [],
   "source": [
    "# Accessing the dataset that provides details about CO2 emissions\n",
    "co2_data = pd.read_csv('co2_emission.csv')"
   ]
  },
  {
   "cell_type": "code",
   "execution_count": 25,
   "id": "866baf0e",
   "metadata": {},
   "outputs": [
    {
     "data": {
      "text/html": [
       "<div>\n",
       "<style scoped>\n",
       "    .dataframe tbody tr th:only-of-type {\n",
       "        vertical-align: middle;\n",
       "    }\n",
       "\n",
       "    .dataframe tbody tr th {\n",
       "        vertical-align: top;\n",
       "    }\n",
       "\n",
       "    .dataframe thead th {\n",
       "        text-align: right;\n",
       "    }\n",
       "</style>\n",
       "<table border=\"1\" class=\"dataframe\">\n",
       "  <thead>\n",
       "    <tr style=\"text-align: right;\">\n",
       "      <th></th>\n",
       "      <th>Entity</th>\n",
       "      <th>Code</th>\n",
       "      <th>Year</th>\n",
       "      <th>Annual CO₂ emissions (tonnes )</th>\n",
       "    </tr>\n",
       "  </thead>\n",
       "  <tbody>\n",
       "    <tr>\n",
       "      <th>0</th>\n",
       "      <td>Afghanistan</td>\n",
       "      <td>AFG</td>\n",
       "      <td>1949</td>\n",
       "      <td>14656.0</td>\n",
       "    </tr>\n",
       "    <tr>\n",
       "      <th>1</th>\n",
       "      <td>Afghanistan</td>\n",
       "      <td>AFG</td>\n",
       "      <td>1950</td>\n",
       "      <td>84272.0</td>\n",
       "    </tr>\n",
       "    <tr>\n",
       "      <th>2</th>\n",
       "      <td>Afghanistan</td>\n",
       "      <td>AFG</td>\n",
       "      <td>1951</td>\n",
       "      <td>91600.0</td>\n",
       "    </tr>\n",
       "    <tr>\n",
       "      <th>3</th>\n",
       "      <td>Afghanistan</td>\n",
       "      <td>AFG</td>\n",
       "      <td>1952</td>\n",
       "      <td>91600.0</td>\n",
       "    </tr>\n",
       "    <tr>\n",
       "      <th>4</th>\n",
       "      <td>Afghanistan</td>\n",
       "      <td>AFG</td>\n",
       "      <td>1953</td>\n",
       "      <td>106256.0</td>\n",
       "    </tr>\n",
       "  </tbody>\n",
       "</table>\n",
       "</div>"
      ],
      "text/plain": [
       "        Entity Code  Year  Annual CO₂ emissions (tonnes )\n",
       "0  Afghanistan  AFG  1949                         14656.0\n",
       "1  Afghanistan  AFG  1950                         84272.0\n",
       "2  Afghanistan  AFG  1951                         91600.0\n",
       "3  Afghanistan  AFG  1952                         91600.0\n",
       "4  Afghanistan  AFG  1953                        106256.0"
      ]
     },
     "execution_count": 25,
     "metadata": {},
     "output_type": "execute_result"
    }
   ],
   "source": [
    "# Investigating the data\n",
    "co2_data.head()"
   ]
  },
  {
   "cell_type": "code",
   "execution_count": 28,
   "id": "2158c551",
   "metadata": {},
   "outputs": [
    {
     "data": {
      "text/plain": [
       "Statistical differences      267\n",
       "Asia and Pacific (other)     267\n",
       "EU-28                        267\n",
       "Europe (other)               267\n",
       "Americas (other)             267\n",
       "                            ... \n",
       "Antarctic Fisheries           21\n",
       "Wallis and Futuna Islands     17\n",
       "Timor                         16\n",
       "Christmas Island              14\n",
       "Liechtenstein                 11\n",
       "Name: Entity, Length: 233, dtype: int64"
      ]
     },
     "execution_count": 28,
     "metadata": {},
     "output_type": "execute_result"
    }
   ],
   "source": [
    "co2_data['Entity'].value_counts()"
   ]
  },
  {
   "cell_type": "code",
   "execution_count": 30,
   "id": "e3677cda",
   "metadata": {},
   "outputs": [
    {
     "data": {
      "text/plain": [
       "OWID_WRL    267\n",
       "USA         267\n",
       "GBR         267\n",
       "IND         256\n",
       "CHN         254\n",
       "           ... \n",
       "MHL          26\n",
       "KGZ          26\n",
       "TLS          16\n",
       "CXR          14\n",
       "LIE          11\n",
       "Name: Code, Length: 222, dtype: int64"
      ]
     },
     "execution_count": 30,
     "metadata": {},
     "output_type": "execute_result"
    }
   ],
   "source": [
    "co2_data['Code'].value_counts()"
   ]
  },
  {
   "cell_type": "code",
   "execution_count": 34,
   "id": "ed62031a",
   "metadata": {},
   "outputs": [
    {
     "data": {
      "text/plain": [
       "19394    1751\n",
       "20353    1751\n",
       "19661    1751\n",
       "1251     1751\n",
       "9204     1751\n",
       "         ... \n",
       "15193    2017\n",
       "3498     2017\n",
       "15341    2017\n",
       "14436    2017\n",
       "20852    2017\n",
       "Name: Year, Length: 20853, dtype: int64"
      ]
     },
     "execution_count": 34,
     "metadata": {},
     "output_type": "execute_result"
    }
   ],
   "source": [
    "# The years range from 1751 to 2017\n",
    "co2_data['Year'].sort_values()"
   ]
  },
  {
   "cell_type": "code",
   "execution_count": 36,
   "id": "4692605c",
   "metadata": {},
   "outputs": [
    {
     "data": {
      "text/plain": [
       "count    2.085300e+04\n",
       "mean     1.930517e+08\n",
       "std      1.345143e+09\n",
       "min     -6.255223e+08\n",
       "25%      3.187680e+05\n",
       "50%      3.828880e+06\n",
       "75%      3.706898e+07\n",
       "max      3.615326e+10\n",
       "Name: Annual CO₂ emissions (tonnes ), dtype: float64"
      ]
     },
     "execution_count": 36,
     "metadata": {},
     "output_type": "execute_result"
    }
   ],
   "source": [
    "co2_data['Annual CO₂ emissions (tonnes )'].describe()"
   ]
  },
  {
   "cell_type": "code",
   "execution_count": 37,
   "id": "9d3eb245",
   "metadata": {},
   "outputs": [
    {
     "data": {
      "text/plain": [
       "(20853, 4)"
      ]
     },
     "execution_count": 37,
     "metadata": {},
     "output_type": "execute_result"
    }
   ],
   "source": [
    "co2_data.shape"
   ]
  },
  {
   "cell_type": "code",
   "execution_count": 53,
   "id": "66e9c5ff",
   "metadata": {},
   "outputs": [
    {
     "data": {
      "text/html": [
       "<div>\n",
       "<style scoped>\n",
       "    .dataframe tbody tr th:only-of-type {\n",
       "        vertical-align: middle;\n",
       "    }\n",
       "\n",
       "    .dataframe tbody tr th {\n",
       "        vertical-align: top;\n",
       "    }\n",
       "\n",
       "    .dataframe thead th {\n",
       "        text-align: right;\n",
       "    }\n",
       "</style>\n",
       "<table border=\"1\" class=\"dataframe\">\n",
       "  <thead>\n",
       "    <tr style=\"text-align: right;\">\n",
       "      <th></th>\n",
       "      <th>Entity</th>\n",
       "      <th>Code</th>\n",
       "      <th>Year</th>\n",
       "      <th>Annual CO₂ emissions (tonnes )</th>\n",
       "    </tr>\n",
       "  </thead>\n",
       "  <tbody>\n",
       "    <tr>\n",
       "      <th>17598</th>\n",
       "      <td>Statistical differences</td>\n",
       "      <td>NaN</td>\n",
       "      <td>1971</td>\n",
       "      <td>-2.937795e+07</td>\n",
       "    </tr>\n",
       "    <tr>\n",
       "      <th>17599</th>\n",
       "      <td>Statistical differences</td>\n",
       "      <td>NaN</td>\n",
       "      <td>1972</td>\n",
       "      <td>-1.327650e+08</td>\n",
       "    </tr>\n",
       "    <tr>\n",
       "      <th>17600</th>\n",
       "      <td>Statistical differences</td>\n",
       "      <td>NaN</td>\n",
       "      <td>1973</td>\n",
       "      <td>-1.219746e+08</td>\n",
       "    </tr>\n",
       "    <tr>\n",
       "      <th>17601</th>\n",
       "      <td>Statistical differences</td>\n",
       "      <td>NaN</td>\n",
       "      <td>1974</td>\n",
       "      <td>-1.784734e+07</td>\n",
       "    </tr>\n",
       "    <tr>\n",
       "      <th>17602</th>\n",
       "      <td>Statistical differences</td>\n",
       "      <td>NaN</td>\n",
       "      <td>1975</td>\n",
       "      <td>-9.373611e+07</td>\n",
       "    </tr>\n",
       "    <tr>\n",
       "      <th>17603</th>\n",
       "      <td>Statistical differences</td>\n",
       "      <td>NaN</td>\n",
       "      <td>1976</td>\n",
       "      <td>-1.300720e+07</td>\n",
       "    </tr>\n",
       "    <tr>\n",
       "      <th>17605</th>\n",
       "      <td>Statistical differences</td>\n",
       "      <td>NaN</td>\n",
       "      <td>1978</td>\n",
       "      <td>-4.183775e+08</td>\n",
       "    </tr>\n",
       "    <tr>\n",
       "      <th>17607</th>\n",
       "      <td>Statistical differences</td>\n",
       "      <td>NaN</td>\n",
       "      <td>1980</td>\n",
       "      <td>-9.108704e+06</td>\n",
       "    </tr>\n",
       "    <tr>\n",
       "      <th>17608</th>\n",
       "      <td>Statistical differences</td>\n",
       "      <td>NaN</td>\n",
       "      <td>1981</td>\n",
       "      <td>-8.579989e+07</td>\n",
       "    </tr>\n",
       "    <tr>\n",
       "      <th>17609</th>\n",
       "      <td>Statistical differences</td>\n",
       "      <td>NaN</td>\n",
       "      <td>1982</td>\n",
       "      <td>-1.104366e+08</td>\n",
       "    </tr>\n",
       "    <tr>\n",
       "      <th>17610</th>\n",
       "      <td>Statistical differences</td>\n",
       "      <td>NaN</td>\n",
       "      <td>1983</td>\n",
       "      <td>-3.578849e+08</td>\n",
       "    </tr>\n",
       "    <tr>\n",
       "      <th>17611</th>\n",
       "      <td>Statistical differences</td>\n",
       "      <td>NaN</td>\n",
       "      <td>1984</td>\n",
       "      <td>-2.415858e+08</td>\n",
       "    </tr>\n",
       "    <tr>\n",
       "      <th>17612</th>\n",
       "      <td>Statistical differences</td>\n",
       "      <td>NaN</td>\n",
       "      <td>1985</td>\n",
       "      <td>-3.607281e+08</td>\n",
       "    </tr>\n",
       "    <tr>\n",
       "      <th>17613</th>\n",
       "      <td>Statistical differences</td>\n",
       "      <td>NaN</td>\n",
       "      <td>1986</td>\n",
       "      <td>-4.802771e+07</td>\n",
       "    </tr>\n",
       "    <tr>\n",
       "      <th>17614</th>\n",
       "      <td>Statistical differences</td>\n",
       "      <td>NaN</td>\n",
       "      <td>1987</td>\n",
       "      <td>-2.723048e+08</td>\n",
       "    </tr>\n",
       "    <tr>\n",
       "      <th>17615</th>\n",
       "      <td>Statistical differences</td>\n",
       "      <td>NaN</td>\n",
       "      <td>1988</td>\n",
       "      <td>-3.152396e+08</td>\n",
       "    </tr>\n",
       "    <tr>\n",
       "      <th>17616</th>\n",
       "      <td>Statistical differences</td>\n",
       "      <td>NaN</td>\n",
       "      <td>1989</td>\n",
       "      <td>-1.878203e+08</td>\n",
       "    </tr>\n",
       "    <tr>\n",
       "      <th>17617</th>\n",
       "      <td>Statistical differences</td>\n",
       "      <td>NaN</td>\n",
       "      <td>1990</td>\n",
       "      <td>-5.814990e+08</td>\n",
       "    </tr>\n",
       "    <tr>\n",
       "      <th>17618</th>\n",
       "      <td>Statistical differences</td>\n",
       "      <td>NaN</td>\n",
       "      <td>1991</td>\n",
       "      <td>-3.117070e+08</td>\n",
       "    </tr>\n",
       "    <tr>\n",
       "      <th>17619</th>\n",
       "      <td>Statistical differences</td>\n",
       "      <td>NaN</td>\n",
       "      <td>1992</td>\n",
       "      <td>-3.206405e+08</td>\n",
       "    </tr>\n",
       "    <tr>\n",
       "      <th>17620</th>\n",
       "      <td>Statistical differences</td>\n",
       "      <td>NaN</td>\n",
       "      <td>1993</td>\n",
       "      <td>-6.039042e+08</td>\n",
       "    </tr>\n",
       "    <tr>\n",
       "      <th>17621</th>\n",
       "      <td>Statistical differences</td>\n",
       "      <td>NaN</td>\n",
       "      <td>1994</td>\n",
       "      <td>-3.829234e+08</td>\n",
       "    </tr>\n",
       "    <tr>\n",
       "      <th>17622</th>\n",
       "      <td>Statistical differences</td>\n",
       "      <td>NaN</td>\n",
       "      <td>1995</td>\n",
       "      <td>-4.152905e+08</td>\n",
       "    </tr>\n",
       "    <tr>\n",
       "      <th>17623</th>\n",
       "      <td>Statistical differences</td>\n",
       "      <td>NaN</td>\n",
       "      <td>1996</td>\n",
       "      <td>-6.014068e+08</td>\n",
       "    </tr>\n",
       "    <tr>\n",
       "      <th>17624</th>\n",
       "      <td>Statistical differences</td>\n",
       "      <td>NaN</td>\n",
       "      <td>1997</td>\n",
       "      <td>-3.352780e+08</td>\n",
       "    </tr>\n",
       "    <tr>\n",
       "      <th>17625</th>\n",
       "      <td>Statistical differences</td>\n",
       "      <td>NaN</td>\n",
       "      <td>1998</td>\n",
       "      <td>-1.976861e+08</td>\n",
       "    </tr>\n",
       "    <tr>\n",
       "      <th>17626</th>\n",
       "      <td>Statistical differences</td>\n",
       "      <td>NaN</td>\n",
       "      <td>1999</td>\n",
       "      <td>-5.657580e+08</td>\n",
       "    </tr>\n",
       "    <tr>\n",
       "      <th>17627</th>\n",
       "      <td>Statistical differences</td>\n",
       "      <td>NaN</td>\n",
       "      <td>2000</td>\n",
       "      <td>-6.255223e+08</td>\n",
       "    </tr>\n",
       "    <tr>\n",
       "      <th>17628</th>\n",
       "      <td>Statistical differences</td>\n",
       "      <td>NaN</td>\n",
       "      <td>2001</td>\n",
       "      <td>-2.711537e+08</td>\n",
       "    </tr>\n",
       "    <tr>\n",
       "      <th>17629</th>\n",
       "      <td>Statistical differences</td>\n",
       "      <td>NaN</td>\n",
       "      <td>2002</td>\n",
       "      <td>-4.706956e+08</td>\n",
       "    </tr>\n",
       "    <tr>\n",
       "      <th>17630</th>\n",
       "      <td>Statistical differences</td>\n",
       "      <td>NaN</td>\n",
       "      <td>2003</td>\n",
       "      <td>-3.640166e+08</td>\n",
       "    </tr>\n",
       "    <tr>\n",
       "      <th>17631</th>\n",
       "      <td>Statistical differences</td>\n",
       "      <td>NaN</td>\n",
       "      <td>2004</td>\n",
       "      <td>-3.255337e+08</td>\n",
       "    </tr>\n",
       "    <tr>\n",
       "      <th>17632</th>\n",
       "      <td>Statistical differences</td>\n",
       "      <td>NaN</td>\n",
       "      <td>2005</td>\n",
       "      <td>-2.123722e+08</td>\n",
       "    </tr>\n",
       "    <tr>\n",
       "      <th>17633</th>\n",
       "      <td>Statistical differences</td>\n",
       "      <td>NaN</td>\n",
       "      <td>2006</td>\n",
       "      <td>-1.652091e+08</td>\n",
       "    </tr>\n",
       "    <tr>\n",
       "      <th>17634</th>\n",
       "      <td>Statistical differences</td>\n",
       "      <td>NaN</td>\n",
       "      <td>2007</td>\n",
       "      <td>-4.886405e+08</td>\n",
       "    </tr>\n",
       "    <tr>\n",
       "      <th>17635</th>\n",
       "      <td>Statistical differences</td>\n",
       "      <td>NaN</td>\n",
       "      <td>2008</td>\n",
       "      <td>-2.048367e+08</td>\n",
       "    </tr>\n",
       "    <tr>\n",
       "      <th>17636</th>\n",
       "      <td>Statistical differences</td>\n",
       "      <td>NaN</td>\n",
       "      <td>2009</td>\n",
       "      <td>-1.036986e+08</td>\n",
       "    </tr>\n",
       "    <tr>\n",
       "      <th>17637</th>\n",
       "      <td>Statistical differences</td>\n",
       "      <td>NaN</td>\n",
       "      <td>2010</td>\n",
       "      <td>-1.720100e+08</td>\n",
       "    </tr>\n",
       "    <tr>\n",
       "      <th>17638</th>\n",
       "      <td>Statistical differences</td>\n",
       "      <td>NaN</td>\n",
       "      <td>2011</td>\n",
       "      <td>-6.031251e+07</td>\n",
       "    </tr>\n",
       "    <tr>\n",
       "      <th>17639</th>\n",
       "      <td>Statistical differences</td>\n",
       "      <td>NaN</td>\n",
       "      <td>2012</td>\n",
       "      <td>-1.774597e+06</td>\n",
       "    </tr>\n",
       "  </tbody>\n",
       "</table>\n",
       "</div>"
      ],
      "text/plain": [
       "                        Entity Code  Year  Annual CO₂ emissions (tonnes )\n",
       "17598  Statistical differences  NaN  1971                   -2.937795e+07\n",
       "17599  Statistical differences  NaN  1972                   -1.327650e+08\n",
       "17600  Statistical differences  NaN  1973                   -1.219746e+08\n",
       "17601  Statistical differences  NaN  1974                   -1.784734e+07\n",
       "17602  Statistical differences  NaN  1975                   -9.373611e+07\n",
       "17603  Statistical differences  NaN  1976                   -1.300720e+07\n",
       "17605  Statistical differences  NaN  1978                   -4.183775e+08\n",
       "17607  Statistical differences  NaN  1980                   -9.108704e+06\n",
       "17608  Statistical differences  NaN  1981                   -8.579989e+07\n",
       "17609  Statistical differences  NaN  1982                   -1.104366e+08\n",
       "17610  Statistical differences  NaN  1983                   -3.578849e+08\n",
       "17611  Statistical differences  NaN  1984                   -2.415858e+08\n",
       "17612  Statistical differences  NaN  1985                   -3.607281e+08\n",
       "17613  Statistical differences  NaN  1986                   -4.802771e+07\n",
       "17614  Statistical differences  NaN  1987                   -2.723048e+08\n",
       "17615  Statistical differences  NaN  1988                   -3.152396e+08\n",
       "17616  Statistical differences  NaN  1989                   -1.878203e+08\n",
       "17617  Statistical differences  NaN  1990                   -5.814990e+08\n",
       "17618  Statistical differences  NaN  1991                   -3.117070e+08\n",
       "17619  Statistical differences  NaN  1992                   -3.206405e+08\n",
       "17620  Statistical differences  NaN  1993                   -6.039042e+08\n",
       "17621  Statistical differences  NaN  1994                   -3.829234e+08\n",
       "17622  Statistical differences  NaN  1995                   -4.152905e+08\n",
       "17623  Statistical differences  NaN  1996                   -6.014068e+08\n",
       "17624  Statistical differences  NaN  1997                   -3.352780e+08\n",
       "17625  Statistical differences  NaN  1998                   -1.976861e+08\n",
       "17626  Statistical differences  NaN  1999                   -5.657580e+08\n",
       "17627  Statistical differences  NaN  2000                   -6.255223e+08\n",
       "17628  Statistical differences  NaN  2001                   -2.711537e+08\n",
       "17629  Statistical differences  NaN  2002                   -4.706956e+08\n",
       "17630  Statistical differences  NaN  2003                   -3.640166e+08\n",
       "17631  Statistical differences  NaN  2004                   -3.255337e+08\n",
       "17632  Statistical differences  NaN  2005                   -2.123722e+08\n",
       "17633  Statistical differences  NaN  2006                   -1.652091e+08\n",
       "17634  Statistical differences  NaN  2007                   -4.886405e+08\n",
       "17635  Statistical differences  NaN  2008                   -2.048367e+08\n",
       "17636  Statistical differences  NaN  2009                   -1.036986e+08\n",
       "17637  Statistical differences  NaN  2010                   -1.720100e+08\n",
       "17638  Statistical differences  NaN  2011                   -6.031251e+07\n",
       "17639  Statistical differences  NaN  2012                   -1.774597e+06"
      ]
     },
     "execution_count": 53,
     "metadata": {},
     "output_type": "execute_result"
    }
   ],
   "source": [
    "# There are also calculations within the data\n",
    "co2_data[co2_data['Annual CO₂ emissions (tonnes )']<0]"
   ]
  },
  {
   "cell_type": "code",
   "execution_count": 61,
   "id": "ad5f106d",
   "metadata": {},
   "outputs": [],
   "source": [
    "# Since we are focusing only on the actual data per year, we can remove this data\n",
    "new_data = co2_data[co2_data['Entity']!='Statistical differences']"
   ]
  },
  {
   "cell_type": "code",
   "execution_count": 68,
   "id": "657aa881",
   "metadata": {},
   "outputs": [
    {
     "data": {
      "text/plain": [
       "Entity                             object\n",
       "Code                               object\n",
       "Year                                int64\n",
       "Annual CO₂ emissions (tonnes )    float64\n",
       "dtype: object"
      ]
     },
     "execution_count": 68,
     "metadata": {},
     "output_type": "execute_result"
    }
   ],
   "source": [
    "# We can find what values are correlated with the annual CO2 emissions\n",
    "# Entity and Code are basically the same\n",
    "# year should have some correlation with emission increase\n",
    "new_data.dtypes"
   ]
  },
  {
   "cell_type": "code",
   "execution_count": 73,
   "id": "a7728a64",
   "metadata": {},
   "outputs": [],
   "source": [
    "# Focusing on data in America specifically\n",
    "us_data = new_data[new_data['Code']=='USA']"
   ]
  },
  {
   "cell_type": "code",
   "execution_count": 75,
   "id": "638d9562",
   "metadata": {},
   "outputs": [
    {
     "name": "stderr",
     "output_type": "stream",
     "text": [
      "/Applications/anaconda/anaconda3/lib/python3.9/site-packages/seaborn/_decorators.py:36: FutureWarning: Pass the following variables as keyword args: x, y. From version 0.12, the only valid positional argument will be `data`, and passing other arguments without an explicit keyword will result in an error or misinterpretation.\n",
      "  warnings.warn(\n"
     ]
    },
    {
     "data": {
      "text/plain": [
       "<AxesSubplot:xlabel='Year', ylabel='Annual CO₂ emissions (tonnes )'>"
      ]
     },
     "execution_count": 75,
     "metadata": {},
     "output_type": "execute_result"
    },
    {
     "data": {
      "image/png": "[encoded data removed]",
      "text/plain": [
       "<Figure size 432x288 with 1 Axes>"
      ]
     },
     "metadata": {
      "needs_background": "light"
     },
     "output_type": "display_data"
    }
   ],
   "source": [
    "# There seems to be some correlation, but it is not a linear relationship\n",
    "sns.regplot(us_data['Year'], us_data['Annual CO₂ emissions (tonnes )'])"
   ]
  }
 ],
 "metadata": {
  "kernelspec": {
   "display_name": "Python 3 (ipykernel)",
   "language": "python",
   "name": "python3"
  },
  "language_info": {
   "codemirror_mode": {
    "name": "ipython",
    "version": 3
   },
   "file_extension": ".py",
   "mimetype": "text/x-python",
   "name": "python",
   "nbconvert_exporter": "python",
   "pygments_lexer": "ipython3",
   "version": "3.9.7"
  }
 },
 "nbformat": 4,
 "nbformat_minor": 5
}
